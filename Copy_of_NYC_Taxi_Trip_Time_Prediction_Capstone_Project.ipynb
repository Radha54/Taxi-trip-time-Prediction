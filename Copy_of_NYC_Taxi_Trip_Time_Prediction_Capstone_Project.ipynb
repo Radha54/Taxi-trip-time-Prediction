{
  "cells": [
    {
      "cell_type": "markdown",
      "metadata": {
        "id": "view-in-github",
        "colab_type": "text"
      },
      "source": [
        "<a href=\"https://colab.research.google.com/github/Radha54/Taxi-trip-time-Prediction/blob/main/Copy_of_NYC_Taxi_Trip_Time_Prediction_Capstone_Project.ipynb\" target=\"_parent\"><img src=\"https://colab.research.google.com/assets/colab-badge.svg\" alt=\"Open In Colab\"/></a>"
      ]
    },
    {
      "cell_type": "markdown",
      "metadata": {
        "id": "tOGC-qoyhJeX"
      },
      "source": [
        "# <b><u> Project Title : Taxi trip time Prediction : Predicting total ride duration of taxi trips in New York City</u></b>"
      ]
    },
    {
      "cell_type": "markdown",
      "metadata": {
        "id": "Y06xIdG26kRF"
      },
      "source": [
        "## <b> Problem Description </b>\n",
        "\n",
        "### Your task is to build a model that predicts the total ride duration of taxi trips in New York City. Your primary dataset is one released by the NYC Taxi and Limousine Commission, which includes pickup time, geo-coordinates, number of passengers, and several other variables."
      ]
    },
    {
      "cell_type": "markdown",
      "metadata": {
        "id": "WWeU1f9bwqQq"
      },
      "source": [
        "## <b> Data Description </b>\n",
        "\n",
        "### The dataset is based on the 2016 NYC Yellow Cab trip record data made available in Big Query on Google Cloud Platform. The data was originally published by the NYC Taxi and Limousine Commission (TLC). The data was sampled and cleaned for the purposes of this project. Based on individual trip attributes, you should predict the duration of each trip in the test set.\n",
        "\n",
        "### <b>NYC Taxi Data.csv</b> - the training set (contains 1458644 trip records)\n",
        "\n",
        "\n",
        "### Data fields\n",
        "* #### id - a unique identifier for each trip\n",
        "* #### vendor_id - a code indicating the provider associated with the trip record\n",
        "* #### pickup_datetime - date and time when the meter was engaged\n",
        "* #### dropoff_datetime - date and time when the meter was disengaged\n",
        "* #### passenger_count - the number of passengers in the vehicle (driver entered value)\n",
        "* #### pickup_longitude - the longitude where the meter was engaged\n",
        "* #### pickup_latitude - the latitude where the meter was engaged\n",
        "* #### dropoff_longitude - the longitude where the meter was disengaged\n",
        "* #### dropoff_latitude - the latitude where the meter was disengaged\n",
        "* #### store_and_fwd_flag - This flag indicates whether the trip record was held in vehicle memory before sending to the vendor because the vehicle did not have a connection to the server - Y=store and forward; N=not a store and forward trip\n",
        "* #### trip_duration - duration of the trip in seconds"
      ]
    },
    {
      "cell_type": "code",
      "execution_count": null,
      "metadata": {
        "id": "dByMsuzT8Tnw"
      },
      "outputs": [],
      "source": [
        "import pandas as pd\n",
        "import numpy as np\n",
        "from numpy import math\n",
        "import matplotlib.pyplot as plt\n",
        "import seaborn as sns\n",
        "\n",
        "from sklearn.preprocessing import MinMaxScaler\n",
        "from sklearn.model_selection import train_test_split\n",
        "from sklearn.linear_model import LinearRegression\n",
        "from sklearn.metrics import r2_score\n",
        "from sklearn.metrics import mean_squared_error\n",
        "from sklearn.preprocessing import OneHotEncoder\n",
        "from sklearn.model_selection import GridSearchCV\n",
        "from sklearn.model_selection import RandomizedSearchCV\n",
        "from sklearn.model_selection import train_test_split\n",
        "from sklearn import ensemble"
      ]
    },
    {
      "cell_type": "markdown",
      "metadata": {
        "id": "ClerCG57I4hT"
      },
      "source": [
        "# Mounting of GOOGLE drive"
      ]
    },
    {
      "cell_type": "code",
      "execution_count": null,
      "metadata": {
        "colab": {
          "base_uri": "https://localhost:8080/"
        },
        "id": "CYHuBu7IIq2F",
        "outputId": "6271a09f-a4c1-44a6-b605-2e51e9c54096"
      },
      "outputs": [
        {
          "output_type": "stream",
          "name": "stdout",
          "text": [
            "Mounted at /content/drive\n"
          ]
        }
      ],
      "source": [
        "from google.colab import drive\n",
        "drive.mount('/content/drive')"
      ]
    },
    {
      "cell_type": "markdown",
      "metadata": {
        "id": "YSbP0oKPJQDc"
      },
      "source": [
        "# Reading of DATA from Google drive"
      ]
    },
    {
      "cell_type": "code",
      "execution_count": null,
      "metadata": {
        "id": "xIen7EgjJL56"
      },
      "outputs": [],
      "source": [
        "trip_df = pd.read_csv(\"/content/drive/My Drive/NYC Taxi Trip Time Prediction - Radha/NYC Taxi Data.csv\")"
      ]
    },
    {
      "cell_type": "markdown",
      "metadata": {
        "id": "YM-F2N8kKsJu"
      },
      "source": [
        "## <B> Data Profiling and Cleansing </B>\n",
        "# <h6>In this process we will perform examining, analyzing and cleaning of the Dataset and thereby create useful summaries from the data </h6>"
      ]
    },
    {
      "cell_type": "code",
      "execution_count": null,
      "metadata": {
        "colab": {
          "base_uri": "https://localhost:8080/"
        },
        "id": "ZSBJ0zAaKaak",
        "outputId": "960304e3-9d6d-4fed-ab83-f522b710373b"
      },
      "outputs": [
        {
          "output_type": "execute_result",
          "data": {
            "text/plain": [
              "(1458644, 11)"
            ]
          },
          "metadata": {},
          "execution_count": 5
        }
      ],
      "source": [
        "trip_df.shape"
      ]
    },
    {
      "cell_type": "code",
      "execution_count": null,
      "metadata": {
        "colab": {
          "base_uri": "https://localhost:8080/"
        },
        "id": "W0peLG6PN5tz",
        "outputId": "45ca8f51-5678-4460-a558-06d37d7c12a7"
      },
      "outputs": [
        {
          "output_type": "stream",
          "name": "stdout",
          "text": [
            "<class 'pandas.core.frame.DataFrame'>\n",
            "RangeIndex: 1458644 entries, 0 to 1458643\n",
            "Data columns (total 11 columns):\n",
            " #   Column              Non-Null Count    Dtype  \n",
            "---  ------              --------------    -----  \n",
            " 0   id                  1458644 non-null  object \n",
            " 1   vendor_id           1458644 non-null  int64  \n",
            " 2   pickup_datetime     1458644 non-null  object \n",
            " 3   dropoff_datetime    1458644 non-null  object \n",
            " 4   passenger_count     1458644 non-null  int64  \n",
            " 5   pickup_longitude    1458644 non-null  float64\n",
            " 6   pickup_latitude     1458644 non-null  float64\n",
            " 7   dropoff_longitude   1458644 non-null  float64\n",
            " 8   dropoff_latitude    1458644 non-null  float64\n",
            " 9   store_and_fwd_flag  1458644 non-null  object \n",
            " 10  trip_duration       1458644 non-null  int64  \n",
            "dtypes: float64(4), int64(3), object(4)\n",
            "memory usage: 122.4+ MB\n"
          ]
        }
      ],
      "source": [
        "trip_df.info()"
      ]
    },
    {
      "cell_type": "markdown",
      "metadata": {
        "id": "FK_VT2HQOGCr"
      },
      "source": [
        "### Observations:\n",
        "1. There are total 11 columns present in this dataset\n",
        "2. There are int64(3), object(4) and float64(4) datatypes are present.\n",
        "By analysing data and corresponding data types it is found that all datas are availiable in correct dtype."
      ]
    },
    {
      "cell_type": "code",
      "execution_count": null,
      "metadata": {
        "colab": {
          "base_uri": "https://localhost:8080/",
          "height": 357
        },
        "id": "kpxOLrTfOslD",
        "outputId": "84fc93fc-0ddc-448e-b729-8969feccfb37"
      },
      "outputs": [
        {
          "output_type": "execute_result",
          "data": {
            "text/plain": [
              "          id  vendor_id      pickup_datetime     dropoff_datetime  \\\n",
              "0  id2875421          2  2016-03-14 17:24:55  2016-03-14 17:32:30   \n",
              "1  id2377394          1  2016-06-12 00:43:35  2016-06-12 00:54:38   \n",
              "2  id3858529          2  2016-01-19 11:35:24  2016-01-19 12:10:48   \n",
              "3  id3504673          2  2016-04-06 19:32:31  2016-04-06 19:39:40   \n",
              "4  id2181028          2  2016-03-26 13:30:55  2016-03-26 13:38:10   \n",
              "\n",
              "   passenger_count  pickup_longitude  pickup_latitude  dropoff_longitude  \\\n",
              "0                1        -73.982155        40.767937         -73.964630   \n",
              "1                1        -73.980415        40.738564         -73.999481   \n",
              "2                1        -73.979027        40.763939         -74.005333   \n",
              "3                1        -74.010040        40.719971         -74.012268   \n",
              "4                1        -73.973053        40.793209         -73.972923   \n",
              "\n",
              "   dropoff_latitude store_and_fwd_flag  trip_duration  \n",
              "0         40.765602                  N            455  \n",
              "1         40.731152                  N            663  \n",
              "2         40.710087                  N           2124  \n",
              "3         40.706718                  N            429  \n",
              "4         40.782520                  N            435  "
            ],
            "text/html": [
              "\n",
              "  <div id=\"df-ee847ed5-e9ba-43e7-8d9d-80f411ea666d\">\n",
              "    <div class=\"colab-df-container\">\n",
              "      <div>\n",
              "<style scoped>\n",
              "    .dataframe tbody tr th:only-of-type {\n",
              "        vertical-align: middle;\n",
              "    }\n",
              "\n",
              "    .dataframe tbody tr th {\n",
              "        vertical-align: top;\n",
              "    }\n",
              "\n",
              "    .dataframe thead th {\n",
              "        text-align: right;\n",
              "    }\n",
              "</style>\n",
              "<table border=\"1\" class=\"dataframe\">\n",
              "  <thead>\n",
              "    <tr style=\"text-align: right;\">\n",
              "      <th></th>\n",
              "      <th>id</th>\n",
              "      <th>vendor_id</th>\n",
              "      <th>pickup_datetime</th>\n",
              "      <th>dropoff_datetime</th>\n",
              "      <th>passenger_count</th>\n",
              "      <th>pickup_longitude</th>\n",
              "      <th>pickup_latitude</th>\n",
              "      <th>dropoff_longitude</th>\n",
              "      <th>dropoff_latitude</th>\n",
              "      <th>store_and_fwd_flag</th>\n",
              "      <th>trip_duration</th>\n",
              "    </tr>\n",
              "  </thead>\n",
              "  <tbody>\n",
              "    <tr>\n",
              "      <th>0</th>\n",
              "      <td>id2875421</td>\n",
              "      <td>2</td>\n",
              "      <td>2016-03-14 17:24:55</td>\n",
              "      <td>2016-03-14 17:32:30</td>\n",
              "      <td>1</td>\n",
              "      <td>-73.982155</td>\n",
              "      <td>40.767937</td>\n",
              "      <td>-73.964630</td>\n",
              "      <td>40.765602</td>\n",
              "      <td>N</td>\n",
              "      <td>455</td>\n",
              "    </tr>\n",
              "    <tr>\n",
              "      <th>1</th>\n",
              "      <td>id2377394</td>\n",
              "      <td>1</td>\n",
              "      <td>2016-06-12 00:43:35</td>\n",
              "      <td>2016-06-12 00:54:38</td>\n",
              "      <td>1</td>\n",
              "      <td>-73.980415</td>\n",
              "      <td>40.738564</td>\n",
              "      <td>-73.999481</td>\n",
              "      <td>40.731152</td>\n",
              "      <td>N</td>\n",
              "      <td>663</td>\n",
              "    </tr>\n",
              "    <tr>\n",
              "      <th>2</th>\n",
              "      <td>id3858529</td>\n",
              "      <td>2</td>\n",
              "      <td>2016-01-19 11:35:24</td>\n",
              "      <td>2016-01-19 12:10:48</td>\n",
              "      <td>1</td>\n",
              "      <td>-73.979027</td>\n",
              "      <td>40.763939</td>\n",
              "      <td>-74.005333</td>\n",
              "      <td>40.710087</td>\n",
              "      <td>N</td>\n",
              "      <td>2124</td>\n",
              "    </tr>\n",
              "    <tr>\n",
              "      <th>3</th>\n",
              "      <td>id3504673</td>\n",
              "      <td>2</td>\n",
              "      <td>2016-04-06 19:32:31</td>\n",
              "      <td>2016-04-06 19:39:40</td>\n",
              "      <td>1</td>\n",
              "      <td>-74.010040</td>\n",
              "      <td>40.719971</td>\n",
              "      <td>-74.012268</td>\n",
              "      <td>40.706718</td>\n",
              "      <td>N</td>\n",
              "      <td>429</td>\n",
              "    </tr>\n",
              "    <tr>\n",
              "      <th>4</th>\n",
              "      <td>id2181028</td>\n",
              "      <td>2</td>\n",
              "      <td>2016-03-26 13:30:55</td>\n",
              "      <td>2016-03-26 13:38:10</td>\n",
              "      <td>1</td>\n",
              "      <td>-73.973053</td>\n",
              "      <td>40.793209</td>\n",
              "      <td>-73.972923</td>\n",
              "      <td>40.782520</td>\n",
              "      <td>N</td>\n",
              "      <td>435</td>\n",
              "    </tr>\n",
              "  </tbody>\n",
              "</table>\n",
              "</div>\n",
              "      <button class=\"colab-df-convert\" onclick=\"convertToInteractive('df-ee847ed5-e9ba-43e7-8d9d-80f411ea666d')\"\n",
              "              title=\"Convert this dataframe to an interactive table.\"\n",
              "              style=\"display:none;\">\n",
              "        \n",
              "  <svg xmlns=\"http://www.w3.org/2000/svg\" height=\"24px\"viewBox=\"0 0 24 24\"\n",
              "       width=\"24px\">\n",
              "    <path d=\"M0 0h24v24H0V0z\" fill=\"none\"/>\n",
              "    <path d=\"M18.56 5.44l.94 2.06.94-2.06 2.06-.94-2.06-.94-.94-2.06-.94 2.06-2.06.94zm-11 1L8.5 8.5l.94-2.06 2.06-.94-2.06-.94L8.5 2.5l-.94 2.06-2.06.94zm10 10l.94 2.06.94-2.06 2.06-.94-2.06-.94-.94-2.06-.94 2.06-2.06.94z\"/><path d=\"M17.41 7.96l-1.37-1.37c-.4-.4-.92-.59-1.43-.59-.52 0-1.04.2-1.43.59L10.3 9.45l-7.72 7.72c-.78.78-.78 2.05 0 2.83L4 21.41c.39.39.9.59 1.41.59.51 0 1.02-.2 1.41-.59l7.78-7.78 2.81-2.81c.8-.78.8-2.07 0-2.86zM5.41 20L4 18.59l7.72-7.72 1.47 1.35L5.41 20z\"/>\n",
              "  </svg>\n",
              "      </button>\n",
              "      \n",
              "  <style>\n",
              "    .colab-df-container {\n",
              "      display:flex;\n",
              "      flex-wrap:wrap;\n",
              "      gap: 12px;\n",
              "    }\n",
              "\n",
              "    .colab-df-convert {\n",
              "      background-color: #E8F0FE;\n",
              "      border: none;\n",
              "      border-radius: 50%;\n",
              "      cursor: pointer;\n",
              "      display: none;\n",
              "      fill: #1967D2;\n",
              "      height: 32px;\n",
              "      padding: 0 0 0 0;\n",
              "      width: 32px;\n",
              "    }\n",
              "\n",
              "    .colab-df-convert:hover {\n",
              "      background-color: #E2EBFA;\n",
              "      box-shadow: 0px 1px 2px rgba(60, 64, 67, 0.3), 0px 1px 3px 1px rgba(60, 64, 67, 0.15);\n",
              "      fill: #174EA6;\n",
              "    }\n",
              "\n",
              "    [theme=dark] .colab-df-convert {\n",
              "      background-color: #3B4455;\n",
              "      fill: #D2E3FC;\n",
              "    }\n",
              "\n",
              "    [theme=dark] .colab-df-convert:hover {\n",
              "      background-color: #434B5C;\n",
              "      box-shadow: 0px 1px 3px 1px rgba(0, 0, 0, 0.15);\n",
              "      filter: drop-shadow(0px 1px 2px rgba(0, 0, 0, 0.3));\n",
              "      fill: #FFFFFF;\n",
              "    }\n",
              "  </style>\n",
              "\n",
              "      <script>\n",
              "        const buttonEl =\n",
              "          document.querySelector('#df-ee847ed5-e9ba-43e7-8d9d-80f411ea666d button.colab-df-convert');\n",
              "        buttonEl.style.display =\n",
              "          google.colab.kernel.accessAllowed ? 'block' : 'none';\n",
              "\n",
              "        async function convertToInteractive(key) {\n",
              "          const element = document.querySelector('#df-ee847ed5-e9ba-43e7-8d9d-80f411ea666d');\n",
              "          const dataTable =\n",
              "            await google.colab.kernel.invokeFunction('convertToInteractive',\n",
              "                                                     [key], {});\n",
              "          if (!dataTable) return;\n",
              "\n",
              "          const docLinkHtml = 'Like what you see? Visit the ' +\n",
              "            '<a target=\"_blank\" href=https://colab.research.google.com/notebooks/data_table.ipynb>data table notebook</a>'\n",
              "            + ' to learn more about interactive tables.';\n",
              "          element.innerHTML = '';\n",
              "          dataTable['output_type'] = 'display_data';\n",
              "          await google.colab.output.renderOutput(dataTable, element);\n",
              "          const docLink = document.createElement('div');\n",
              "          docLink.innerHTML = docLinkHtml;\n",
              "          element.appendChild(docLink);\n",
              "        }\n",
              "      </script>\n",
              "    </div>\n",
              "  </div>\n",
              "  "
            ]
          },
          "metadata": {},
          "execution_count": 7
        }
      ],
      "source": [
        "trip_df.head()"
      ]
    },
    {
      "cell_type": "code",
      "execution_count": null,
      "metadata": {
        "colab": {
          "base_uri": "https://localhost:8080/",
          "height": 300
        },
        "id": "wSK6XH9kO5by",
        "outputId": "fefcdbad-145a-4c05-eb60-165770ef00c4"
      },
      "outputs": [
        {
          "output_type": "execute_result",
          "data": {
            "text/plain": [
              "          vendor_id  passenger_count  pickup_longitude  pickup_latitude  \\\n",
              "count  1.458644e+06     1.458644e+06      1.458644e+06     1.458644e+06   \n",
              "mean   1.534950e+00     1.664530e+00     -7.397349e+01     4.075092e+01   \n",
              "std    4.987772e-01     1.314242e+00      7.090186e-02     3.288119e-02   \n",
              "min    1.000000e+00     0.000000e+00     -1.219333e+02     3.435970e+01   \n",
              "25%    1.000000e+00     1.000000e+00     -7.399187e+01     4.073735e+01   \n",
              "50%    2.000000e+00     1.000000e+00     -7.398174e+01     4.075410e+01   \n",
              "75%    2.000000e+00     2.000000e+00     -7.396733e+01     4.076836e+01   \n",
              "max    2.000000e+00     9.000000e+00     -6.133553e+01     5.188108e+01   \n",
              "\n",
              "       dropoff_longitude  dropoff_latitude  trip_duration  \n",
              "count       1.458644e+06      1.458644e+06   1.458644e+06  \n",
              "mean       -7.397342e+01      4.075180e+01   9.594923e+02  \n",
              "std         7.064327e-02      3.589056e-02   5.237432e+03  \n",
              "min        -1.219333e+02      3.218114e+01   1.000000e+00  \n",
              "25%        -7.399133e+01      4.073588e+01   3.970000e+02  \n",
              "50%        -7.397975e+01      4.075452e+01   6.620000e+02  \n",
              "75%        -7.396301e+01      4.076981e+01   1.075000e+03  \n",
              "max        -6.133553e+01      4.392103e+01   3.526282e+06  "
            ],
            "text/html": [
              "\n",
              "  <div id=\"df-eb7fc8d6-c58e-4191-afca-3db48e7e4358\">\n",
              "    <div class=\"colab-df-container\">\n",
              "      <div>\n",
              "<style scoped>\n",
              "    .dataframe tbody tr th:only-of-type {\n",
              "        vertical-align: middle;\n",
              "    }\n",
              "\n",
              "    .dataframe tbody tr th {\n",
              "        vertical-align: top;\n",
              "    }\n",
              "\n",
              "    .dataframe thead th {\n",
              "        text-align: right;\n",
              "    }\n",
              "</style>\n",
              "<table border=\"1\" class=\"dataframe\">\n",
              "  <thead>\n",
              "    <tr style=\"text-align: right;\">\n",
              "      <th></th>\n",
              "      <th>vendor_id</th>\n",
              "      <th>passenger_count</th>\n",
              "      <th>pickup_longitude</th>\n",
              "      <th>pickup_latitude</th>\n",
              "      <th>dropoff_longitude</th>\n",
              "      <th>dropoff_latitude</th>\n",
              "      <th>trip_duration</th>\n",
              "    </tr>\n",
              "  </thead>\n",
              "  <tbody>\n",
              "    <tr>\n",
              "      <th>count</th>\n",
              "      <td>1.458644e+06</td>\n",
              "      <td>1.458644e+06</td>\n",
              "      <td>1.458644e+06</td>\n",
              "      <td>1.458644e+06</td>\n",
              "      <td>1.458644e+06</td>\n",
              "      <td>1.458644e+06</td>\n",
              "      <td>1.458644e+06</td>\n",
              "    </tr>\n",
              "    <tr>\n",
              "      <th>mean</th>\n",
              "      <td>1.534950e+00</td>\n",
              "      <td>1.664530e+00</td>\n",
              "      <td>-7.397349e+01</td>\n",
              "      <td>4.075092e+01</td>\n",
              "      <td>-7.397342e+01</td>\n",
              "      <td>4.075180e+01</td>\n",
              "      <td>9.594923e+02</td>\n",
              "    </tr>\n",
              "    <tr>\n",
              "      <th>std</th>\n",
              "      <td>4.987772e-01</td>\n",
              "      <td>1.314242e+00</td>\n",
              "      <td>7.090186e-02</td>\n",
              "      <td>3.288119e-02</td>\n",
              "      <td>7.064327e-02</td>\n",
              "      <td>3.589056e-02</td>\n",
              "      <td>5.237432e+03</td>\n",
              "    </tr>\n",
              "    <tr>\n",
              "      <th>min</th>\n",
              "      <td>1.000000e+00</td>\n",
              "      <td>0.000000e+00</td>\n",
              "      <td>-1.219333e+02</td>\n",
              "      <td>3.435970e+01</td>\n",
              "      <td>-1.219333e+02</td>\n",
              "      <td>3.218114e+01</td>\n",
              "      <td>1.000000e+00</td>\n",
              "    </tr>\n",
              "    <tr>\n",
              "      <th>25%</th>\n",
              "      <td>1.000000e+00</td>\n",
              "      <td>1.000000e+00</td>\n",
              "      <td>-7.399187e+01</td>\n",
              "      <td>4.073735e+01</td>\n",
              "      <td>-7.399133e+01</td>\n",
              "      <td>4.073588e+01</td>\n",
              "      <td>3.970000e+02</td>\n",
              "    </tr>\n",
              "    <tr>\n",
              "      <th>50%</th>\n",
              "      <td>2.000000e+00</td>\n",
              "      <td>1.000000e+00</td>\n",
              "      <td>-7.398174e+01</td>\n",
              "      <td>4.075410e+01</td>\n",
              "      <td>-7.397975e+01</td>\n",
              "      <td>4.075452e+01</td>\n",
              "      <td>6.620000e+02</td>\n",
              "    </tr>\n",
              "    <tr>\n",
              "      <th>75%</th>\n",
              "      <td>2.000000e+00</td>\n",
              "      <td>2.000000e+00</td>\n",
              "      <td>-7.396733e+01</td>\n",
              "      <td>4.076836e+01</td>\n",
              "      <td>-7.396301e+01</td>\n",
              "      <td>4.076981e+01</td>\n",
              "      <td>1.075000e+03</td>\n",
              "    </tr>\n",
              "    <tr>\n",
              "      <th>max</th>\n",
              "      <td>2.000000e+00</td>\n",
              "      <td>9.000000e+00</td>\n",
              "      <td>-6.133553e+01</td>\n",
              "      <td>5.188108e+01</td>\n",
              "      <td>-6.133553e+01</td>\n",
              "      <td>4.392103e+01</td>\n",
              "      <td>3.526282e+06</td>\n",
              "    </tr>\n",
              "  </tbody>\n",
              "</table>\n",
              "</div>\n",
              "      <button class=\"colab-df-convert\" onclick=\"convertToInteractive('df-eb7fc8d6-c58e-4191-afca-3db48e7e4358')\"\n",
              "              title=\"Convert this dataframe to an interactive table.\"\n",
              "              style=\"display:none;\">\n",
              "        \n",
              "  <svg xmlns=\"http://www.w3.org/2000/svg\" height=\"24px\"viewBox=\"0 0 24 24\"\n",
              "       width=\"24px\">\n",
              "    <path d=\"M0 0h24v24H0V0z\" fill=\"none\"/>\n",
              "    <path d=\"M18.56 5.44l.94 2.06.94-2.06 2.06-.94-2.06-.94-.94-2.06-.94 2.06-2.06.94zm-11 1L8.5 8.5l.94-2.06 2.06-.94-2.06-.94L8.5 2.5l-.94 2.06-2.06.94zm10 10l.94 2.06.94-2.06 2.06-.94-2.06-.94-.94-2.06-.94 2.06-2.06.94z\"/><path d=\"M17.41 7.96l-1.37-1.37c-.4-.4-.92-.59-1.43-.59-.52 0-1.04.2-1.43.59L10.3 9.45l-7.72 7.72c-.78.78-.78 2.05 0 2.83L4 21.41c.39.39.9.59 1.41.59.51 0 1.02-.2 1.41-.59l7.78-7.78 2.81-2.81c.8-.78.8-2.07 0-2.86zM5.41 20L4 18.59l7.72-7.72 1.47 1.35L5.41 20z\"/>\n",
              "  </svg>\n",
              "      </button>\n",
              "      \n",
              "  <style>\n",
              "    .colab-df-container {\n",
              "      display:flex;\n",
              "      flex-wrap:wrap;\n",
              "      gap: 12px;\n",
              "    }\n",
              "\n",
              "    .colab-df-convert {\n",
              "      background-color: #E8F0FE;\n",
              "      border: none;\n",
              "      border-radius: 50%;\n",
              "      cursor: pointer;\n",
              "      display: none;\n",
              "      fill: #1967D2;\n",
              "      height: 32px;\n",
              "      padding: 0 0 0 0;\n",
              "      width: 32px;\n",
              "    }\n",
              "\n",
              "    .colab-df-convert:hover {\n",
              "      background-color: #E2EBFA;\n",
              "      box-shadow: 0px 1px 2px rgba(60, 64, 67, 0.3), 0px 1px 3px 1px rgba(60, 64, 67, 0.15);\n",
              "      fill: #174EA6;\n",
              "    }\n",
              "\n",
              "    [theme=dark] .colab-df-convert {\n",
              "      background-color: #3B4455;\n",
              "      fill: #D2E3FC;\n",
              "    }\n",
              "\n",
              "    [theme=dark] .colab-df-convert:hover {\n",
              "      background-color: #434B5C;\n",
              "      box-shadow: 0px 1px 3px 1px rgba(0, 0, 0, 0.15);\n",
              "      filter: drop-shadow(0px 1px 2px rgba(0, 0, 0, 0.3));\n",
              "      fill: #FFFFFF;\n",
              "    }\n",
              "  </style>\n",
              "\n",
              "      <script>\n",
              "        const buttonEl =\n",
              "          document.querySelector('#df-eb7fc8d6-c58e-4191-afca-3db48e7e4358 button.colab-df-convert');\n",
              "        buttonEl.style.display =\n",
              "          google.colab.kernel.accessAllowed ? 'block' : 'none';\n",
              "\n",
              "        async function convertToInteractive(key) {\n",
              "          const element = document.querySelector('#df-eb7fc8d6-c58e-4191-afca-3db48e7e4358');\n",
              "          const dataTable =\n",
              "            await google.colab.kernel.invokeFunction('convertToInteractive',\n",
              "                                                     [key], {});\n",
              "          if (!dataTable) return;\n",
              "\n",
              "          const docLinkHtml = 'Like what you see? Visit the ' +\n",
              "            '<a target=\"_blank\" href=https://colab.research.google.com/notebooks/data_table.ipynb>data table notebook</a>'\n",
              "            + ' to learn more about interactive tables.';\n",
              "          element.innerHTML = '';\n",
              "          dataTable['output_type'] = 'display_data';\n",
              "          await google.colab.output.renderOutput(dataTable, element);\n",
              "          const docLink = document.createElement('div');\n",
              "          docLink.innerHTML = docLinkHtml;\n",
              "          element.appendChild(docLink);\n",
              "        }\n",
              "      </script>\n",
              "    </div>\n",
              "  </div>\n",
              "  "
            ]
          },
          "metadata": {},
          "execution_count": 8
        }
      ],
      "source": [
        "trip_df.describe()"
      ]
    },
    {
      "cell_type": "markdown",
      "metadata": {
        "id": "xTdARoZ4PGNV"
      },
      "source": [
        "# <B> OBSERVATION : </B> <h6>\n",
        "(A) Vendor id has a minimum value = 1 and a maximum value = 2, We can say that there are two vendor ids 1 and 2.\n",
        "\n",
        "(B) Passenger_count has a minimum value = 0 which means either it is an error entered or the drivers deliberately entered 0 to complete a target number of rides.\n",
        "\n",
        "(C) The minimum trip_duration is quite low.\n",
        " "
      ]
    },
    {
      "cell_type": "code",
      "execution_count": null,
      "metadata": {
        "colab": {
          "base_uri": "https://localhost:8080/"
        },
        "id": "YFms_g-2O_yH",
        "outputId": "72bc7d0c-c838-4e97-ccfe-c11e41567257"
      },
      "outputs": [
        {
          "output_type": "execute_result",
          "data": {
            "text/plain": [
              "id                    0\n",
              "vendor_id             0\n",
              "pickup_datetime       0\n",
              "dropoff_datetime      0\n",
              "passenger_count       0\n",
              "pickup_longitude      0\n",
              "pickup_latitude       0\n",
              "dropoff_longitude     0\n",
              "dropoff_latitude      0\n",
              "store_and_fwd_flag    0\n",
              "trip_duration         0\n",
              "dtype: int64"
            ]
          },
          "metadata": {},
          "execution_count": 9
        }
      ],
      "source": [
        "trip_df.isnull().sum()"
      ]
    },
    {
      "cell_type": "markdown",
      "metadata": {
        "id": "daFGpIuBAZjz"
      },
      "source": [
        "# <B> OBSERVATION : </B> No null value"
      ]
    },
    {
      "cell_type": "code",
      "execution_count": null,
      "metadata": {
        "colab": {
          "base_uri": "https://localhost:8080/"
        },
        "id": "2_IB6b-NAHeG",
        "outputId": "240904e4-d76f-4cc0-f283-f54d380a63dc"
      },
      "outputs": [
        {
          "output_type": "execute_result",
          "data": {
            "text/plain": [
              "id                    1458644\n",
              "vendor_id                   2\n",
              "pickup_datetime       1380222\n",
              "dropoff_datetime      1380377\n",
              "passenger_count            10\n",
              "pickup_longitude        23047\n",
              "pickup_latitude         45245\n",
              "dropoff_longitude       33821\n",
              "dropoff_latitude        62519\n",
              "store_and_fwd_flag          2\n",
              "trip_duration            7417\n",
              "dtype: int64"
            ]
          },
          "metadata": {},
          "execution_count": 10
        }
      ],
      "source": [
        "trip_df.nunique()"
      ]
    },
    {
      "cell_type": "markdown",
      "metadata": {
        "id": "GFf8O6zyAUpz"
      },
      "source": [
        "# <B> OBSERVATION: </B> <h6>\n",
        "(A) id has 1458644 unique values i.e. number of rows in our dataset.\n",
        "\n",
        "(B) There are 2 unique vendor_id & 10 unique passenger_count.\n",
        "\n",
        "(C) There are 2 unique values for store_and_fwd_flag i.e. Y and N.\n",
        " "
      ]
    },
    {
      "cell_type": "code",
      "source": [
        "trip_df.columns"
      ],
      "metadata": {
        "colab": {
          "base_uri": "https://localhost:8080/"
        },
        "id": "eW_Y3j0myFKY",
        "outputId": "b7d160aa-4b59-44de-eef7-b9e532e9f16a"
      },
      "execution_count": null,
      "outputs": [
        {
          "output_type": "execute_result",
          "data": {
            "text/plain": [
              "Index(['id', 'vendor_id', 'pickup_datetime', 'dropoff_datetime',\n",
              "       'passenger_count', 'pickup_longitude', 'pickup_latitude',\n",
              "       'dropoff_longitude', 'dropoff_latitude', 'store_and_fwd_flag',\n",
              "       'trip_duration'],\n",
              "      dtype='object')"
            ]
          },
          "metadata": {},
          "execution_count": 11
        }
      ]
    },
    {
      "cell_type": "markdown",
      "metadata": {
        "id": "IouiIxY0Tb8r"
      },
      "source": [
        "# <B> <Center> EDA on Dataset"
      ]
    },
    {
      "cell_type": "code",
      "execution_count": null,
      "metadata": {
        "id": "tKBMl8HFGf2m"
      },
      "outputs": [],
      "source": [
        "# Converting datetime into Integer\n",
        "trip_df['pickup_datetime']=pd.to_datetime(trip_df['pickup_datetime'])\n",
        "trip_df['dropoff_datetime']=pd.to_datetime(trip_df['dropoff_datetime'])"
      ]
    },
    {
      "cell_type": "code",
      "execution_count": null,
      "metadata": {
        "id": "ZAl9fl5SS8HX"
      },
      "outputs": [],
      "source": [
        "# pickup_day and dropoff_day which will contain the name of the day on which the ride was taken. \n",
        "trip_df['pickup_day']=trip_df['pickup_datetime'].dt.day_name()\n",
        "trip_df['dropoff_day']=trip_df['dropoff_datetime'].dt.day_name()\n",
        "\n",
        "# pickup_day_no and dropoff_day_no which will contain the day number instead of characters with Monday=0 and Sunday=6.\n",
        "trip_df['pickup_day_no']=trip_df['pickup_datetime'].dt.weekday\n",
        "trip_df['dropoff_day_no']=trip_df['dropoff_datetime'].dt.weekday\n",
        "\n",
        "# pickup_hour and dropoff_hour with an hour of the day in the 24-hour format.\n",
        "trip_df['pickup_hour']=trip_df['pickup_datetime'].dt.hour\n",
        "trip_df['dropoff_hour']=trip_df['dropoff_datetime'].dt.hour\n",
        "\n",
        "# pickup_month and dropoff_month with month number with January=1 and December=12.\n",
        "trip_df['pickup_month']=trip_df['pickup_datetime'].dt.month\n",
        "trip_df['dropoff_month']=trip_df['dropoff_datetime'].dt.month"
      ]
    },
    {
      "cell_type": "code",
      "execution_count": null,
      "metadata": {
        "id": "KnQjt1cnaJPt"
      },
      "outputs": [],
      "source": [
        "# Defining the function which tells Morning, Afternoon, Evening and late Night of a day\n",
        "def time_of_day(x):\n",
        "    if x in range(6,12):\n",
        "        return 'Morning'\n",
        "    elif x in range(12,16):\n",
        "        return 'Afternoon'\n",
        "    elif x in range(16,22):\n",
        "        return 'Evening'\n",
        "    else:\n",
        "        return 'Late night'"
      ]
    },
    {
      "cell_type": "code",
      "execution_count": null,
      "metadata": {
        "id": "vjhsA_uza5aU"
      },
      "outputs": [],
      "source": [
        "# pickup_timeofday and dropoff_timeofday tells day time\n",
        "trip_df['pickup_datetime']=trip_df['pickup_hour'].apply(time_of_day)\n",
        "trip_df['dropoff_datetime']=trip_df['dropoff_hour'].apply(time_of_day)"
      ]
    },
    {
      "cell_type": "code",
      "execution_count": null,
      "metadata": {
        "id": "x1NYTrqsb8I5"
      },
      "outputs": [],
      "source": [
        "from geopy.distance import great_circle\n",
        "\n",
        "# Function tells the distance travelled by the customer using lattitue and longitude of pickup, drop off.\n",
        "def cal_distance(pickup_latitude,pickup_longitude,dropoff_latitude,dropoff_longitude):\n",
        " \n",
        " start_coordinates=(pickup_latitude,pickup_longitude)\n",
        " stop_coordinates=(dropoff_latitude,dropoff_longitude)\n",
        " \n",
        " return great_circle(start_coordinates,stop_coordinates).km"
      ]
    },
    {
      "cell_type": "code",
      "execution_count": null,
      "metadata": {
        "colab": {
          "base_uri": "https://localhost:8080/"
        },
        "id": "PUxMnqOUoJ50",
        "outputId": "64ed4e14-f948-4efd-86f8-4a7e62b85897"
      },
      "outputs": [
        {
          "output_type": "execute_result",
          "data": {
            "text/plain": [
              "0          1.498523\n",
              "1          1.805510\n",
              "2          6.385108\n",
              "3          1.485501\n",
              "4          1.188590\n",
              "             ...   \n",
              "1458639    1.225082\n",
              "1458640    6.049844\n",
              "1458641    7.824617\n",
              "1458642    1.092565\n",
              "1458643    1.134044\n",
              "Name: distance, Length: 1458644, dtype: float64"
            ]
          },
          "metadata": {},
          "execution_count": 17
        }
      ],
      "source": [
        "# Finally calculated Distance using cal_distance function\n",
        "trip_df['distance'] = trip_df.apply(lambda x: cal_distance(x['pickup_latitude'],x['pickup_longitude'],x['dropoff_latitude'],x['dropoff_longitude'] ), axis=1)\n",
        "trip_df['distance']"
      ]
    },
    {
      "cell_type": "markdown",
      "metadata": {
        "id": "i4JgmNiJtntG"
      },
      "source": [
        "# <B> Graphical representation of Trip Duration"
      ]
    },
    {
      "cell_type": "code",
      "execution_count": null,
      "metadata": {
        "colab": {
          "base_uri": "https://localhost:8080/",
          "height": 308
        },
        "id": "vMbBS-BsQoHq",
        "outputId": "2a9a89e0-e7b0-4b32-9170-02d08891171e"
      },
      "outputs": [
        {
          "output_type": "execute_result",
          "data": {
            "text/plain": [
              "<matplotlib.axes._subplots.AxesSubplot at 0x7ff41ecd5390>"
            ]
          },
          "metadata": {},
          "execution_count": 18
        },
        {
          "output_type": "display_data",
          "data": {
            "text/plain": [
              "<Figure size 432x288 with 1 Axes>"
            ],
            "image/png": "[encoded data removed]"
          },
          "metadata": {
            "needs_background": "light"
          }
        }
      ],
      "source": [
        "sns.histplot(trip_df['trip_duration'],kde=False,bins=20)"
      ]
    },
    {
      "cell_type": "code",
      "execution_count": null,
      "metadata": {
        "colab": {
          "base_uri": "https://localhost:8080/"
        },
        "id": "1OhVrnxFuYZt",
        "outputId": "b39b0e22-a7ce-443f-aa74-0c81e8f06fb2"
      },
      "outputs": [
        {
          "output_type": "execute_result",
          "data": {
            "text/plain": [
              "978383     3526282\n",
              "924150     2227612\n",
              "680594     2049578\n",
              "355003     1939736\n",
              "1234291      86392\n",
              "            ...   \n",
              "269418           1\n",
              "467645           1\n",
              "533799           1\n",
              "726971           1\n",
              "311745           1\n",
              "Name: trip_duration, Length: 1458644, dtype: int64"
            ]
          },
          "metadata": {},
          "execution_count": 18
        }
      ],
      "source": [
        "trip_df['trip_duration'].sort_values(ascending=False)"
      ]
    },
    {
      "cell_type": "code",
      "execution_count": null,
      "metadata": {
        "colab": {
          "base_uri": "https://localhost:8080/"
        },
        "id": "JaVyMGAP3ZjZ",
        "outputId": "372aa672-b0d9-445f-95fd-43cc09085571"
      },
      "outputs": [
        {
          "output_type": "stream",
          "name": "stdout",
          "text": [
            "0 percentile value is 1\n",
            "10 percentile value is 245\n",
            "20 percentile value is 348\n",
            "30 percentile value is 446\n",
            "40 percentile value is 548\n",
            "50 percentile value is 662\n",
            "60 percentile value is 798\n",
            "70 percentile value is 968\n",
            "80 percentile value is 1208\n",
            "90 percentile value is 1634\n",
            "100 percentile value is  3526282\n"
          ]
        }
      ],
      "source": [
        "# Calclating 0-100th percentille to find a correct percentile value for removal of outliers.\n",
        "for i in range(0,100,10):\n",
        "  duration= trip_df['trip_duration'].values\n",
        "  duration= np.sort(duration, axis= None)\n",
        "  print(\"{} percentile value is {}\".format(i, duration[int(len(duration)*(float(i)/100))]))\n",
        "print(\"100 percentile value is \",duration[-1])"
      ]
    },
    {
      "cell_type": "code",
      "execution_count": null,
      "metadata": {
        "colab": {
          "base_uri": "https://localhost:8080/"
        },
        "id": "Rsmij3DG4hPf",
        "outputId": "cd67eb42-ffa3-4d92-f0d0-51943bf2dec5"
      },
      "outputs": [
        {
          "output_type": "stream",
          "name": "stdout",
          "text": [
            "90 percentile value is 1634\n",
            "91 percentile value is 1703\n",
            "92 percentile value is 1780\n",
            "93 percentile value is 1869\n",
            "94 percentile value is 1975\n",
            "95 percentile value is 2104\n",
            "96 percentile value is 2273\n",
            "97 percentile value is 2497\n",
            "98 percentile value is 2829\n",
            "99 percentile value is 3440\n",
            "100 percentile value is  3526282\n"
          ]
        }
      ],
      "source": [
        "# The 90th percentile i.e. 1634 looks reasonable. But, 100th percentile i.e. 3526282 is outlier. Hence removing these would be a better idea.\n",
        "# Let's expand from 90th percentile to 100th percentile as to look further for the 99th percentile.\n",
        "for i in range(90,100):\n",
        "  duration= trip_df['trip_duration'].values\n",
        "  duration= np.sort(duration, axis= None)\n",
        "  print(\"{} percentile value is {}\".format(i, duration[int(len(duration)*(float(i)/100))]))\n",
        "print(\"100 percentile value is \",duration[-1])"
      ]
    },
    {
      "cell_type": "code",
      "execution_count": null,
      "metadata": {
        "colab": {
          "base_uri": "https://localhost:8080/"
        },
        "id": "PNAXZrevuq5C",
        "outputId": "76a656c2-af7e-4b81-a2aa-5911e1deffee"
      },
      "outputs": [
        {
          "output_type": "execute_result",
          "data": {
            "text/plain": [
              "1    1033540\n",
              "2     210318\n",
              "5      78088\n",
              "3      59896\n",
              "6      48333\n",
              "4      28404\n",
              "0         60\n",
              "7          3\n",
              "9          1\n",
              "8          1\n",
              "Name: passenger_count, dtype: int64"
            ]
          },
          "metadata": {},
          "execution_count": 21
        }
      ],
      "source": [
        "# Counting the pessenger in each trip\n",
        "trip_df.passenger_count.value_counts()"
      ]
    },
    {
      "cell_type": "markdown",
      "metadata": {
        "id": "l3a93GE6vvXl"
      },
      "source": [
        "# <B> OBSERVATION : </B>\n",
        "\n",
        "(A) There are 60 trips with even 0 passenger count.\n",
        "\n",
        "(B) There is only 1 trip each for 8 and 9 passengers."
      ]
    },
    {
      "cell_type": "code",
      "execution_count": null,
      "metadata": {
        "colab": {
          "base_uri": "https://localhost:8080/",
          "height": 308
        },
        "id": "UmLTE5KawRAg",
        "outputId": "940cf332-5dea-4284-93c8-164d0b1c1059"
      },
      "outputs": [
        {
          "output_type": "execute_result",
          "data": {
            "text/plain": [
              "<matplotlib.axes._subplots.AxesSubplot at 0x7ff40c7d5590>"
            ]
          },
          "metadata": {},
          "execution_count": 23
        },
        {
          "output_type": "display_data",
          "data": {
            "text/plain": [
              "<Figure size 432x288 with 1 Axes>"
            ],
            "image/png": "[encoded data removed]"
          },
          "metadata": {
            "needs_background": "light"
          }
        }
      ],
      "source": [
        "sns.countplot(x='passenger_count',data=trip_df)"
      ]
    },
    {
      "cell_type": "markdown",
      "metadata": {
        "id": "s-6kY27lwiFD"
      },
      "source": [
        "# <B> OBSERVATION : </B>\n",
        "\n",
        "(A) Maximum no. of passenger in Trip-1\n"
      ]
    },
    {
      "cell_type": "markdown",
      "metadata": {
        "id": "_3hG4mSCxOwK"
      },
      "source": [
        "# <B> <U> <Center> STORE AND FORWARD FLAG"
      ]
    },
    {
      "cell_type": "code",
      "execution_count": null,
      "metadata": {
        "colab": {
          "base_uri": "https://localhost:8080/"
        },
        "id": "9xKhTC4VxJDE",
        "outputId": "1720d7a9-efd5-4306-c62c-aaf1f98b03b9"
      },
      "outputs": [
        {
          "output_type": "execute_result",
          "data": {
            "text/plain": [
              "N    0.994485\n",
              "Y    0.005515\n",
              "Name: store_and_fwd_flag, dtype: float64"
            ]
          },
          "metadata": {},
          "execution_count": 22
        }
      ],
      "source": [
        "trip_df['store_and_fwd_flag'].value_counts(normalize=True)"
      ]
    },
    {
      "cell_type": "code",
      "execution_count": null,
      "metadata": {
        "colab": {
          "base_uri": "https://localhost:8080/",
          "height": 385
        },
        "id": "s0dVTEjx-2NR",
        "outputId": "7cdc1a37-08a6-4a2f-b1fa-48895ae11222"
      },
      "outputs": [
        {
          "output_type": "display_data",
          "data": {
            "text/plain": [
              "<Figure size 720x360 with 0 Axes>"
            ]
          },
          "metadata": {}
        },
        {
          "output_type": "display_data",
          "data": {
            "text/plain": [
              "<Figure size 360x360 with 1 Axes>"
            ],
            "image/png": "[encoded data removed]"
          },
          "metadata": {
            "needs_background": "light"
          }
        }
      ],
      "source": [
        "plt.figure(figsize = (10,5))\n",
        "sns.catplot(y='distance',x='store_and_fwd_flag',data=trip_df,kind='strip')\n",
        "plt.ylabel('Distance')\n",
        "plt.xlabel('Store and Forward Flag')\n",
        "plt.show()"
      ]
    },
    {
      "cell_type": "markdown",
      "metadata": {
        "id": "Zf6yBrpqxwpV"
      },
      "source": [
        "# <B> OBSERVATION </B>\n",
        "There are less than 1% of trips that were stored before forwarding.\n"
      ]
    },
    {
      "cell_type": "code",
      "execution_count": null,
      "metadata": {
        "colab": {
          "base_uri": "https://localhost:8080/",
          "height": 270
        },
        "id": "UfLMScui5eZu",
        "outputId": "2f6cb307-2701-4f89-b10d-5880eb755743"
      },
      "outputs": [
        {
          "output_type": "execute_result",
          "data": {
            "text/plain": [
              "          id  vendor_id pickup_datetime dropoff_datetime  passenger_count  \\\n",
              "0  id2875421          2         Evening          Evening                1   \n",
              "1  id2377394          1      Late night       Late night                1   \n",
              "2  id3858529          2         Morning        Afternoon                1   \n",
              "3  id3504673          2         Evening          Evening                1   \n",
              "4  id2181028          2       Afternoon        Afternoon                1   \n",
              "\n",
              "   pickup_longitude  pickup_latitude  dropoff_longitude  dropoff_latitude  \\\n",
              "0        -73.982155        40.767937         -73.964630         40.765602   \n",
              "1        -73.980415        40.738564         -73.999481         40.731152   \n",
              "2        -73.979027        40.763939         -74.005333         40.710087   \n",
              "3        -74.010040        40.719971         -74.012268         40.706718   \n",
              "4        -73.973053        40.793209         -73.972923         40.782520   \n",
              "\n",
              "  store_and_fwd_flag  trip_duration pickup_day dropoff_day  pickup_day_no  \\\n",
              "0                  N            455     Monday      Monday              0   \n",
              "1                  N            663     Sunday      Sunday              6   \n",
              "2                  N           2124    Tuesday     Tuesday              1   \n",
              "3                  N            429  Wednesday   Wednesday              2   \n",
              "4                  N            435   Saturday    Saturday              5   \n",
              "\n",
              "   dropoff_day_no  pickup_hour  dropoff_hour  pickup_month  dropoff_month  \\\n",
              "0               0           17            17             3              3   \n",
              "1               6            0             0             6              6   \n",
              "2               1           11            12             1              1   \n",
              "3               2           19            19             4              4   \n",
              "4               5           13            13             3              3   \n",
              "\n",
              "   distance  \n",
              "0  1.498523  \n",
              "1  1.805510  \n",
              "2  6.385108  \n",
              "3  1.485501  \n",
              "4  1.188590  "
            ],
            "text/html": [
              "\n",
              "  <div id=\"df-dc37802f-6e9d-4552-90f1-fb3dc0651720\">\n",
              "    <div class=\"colab-df-container\">\n",
              "      <div>\n",
              "<style scoped>\n",
              "    .dataframe tbody tr th:only-of-type {\n",
              "        vertical-align: middle;\n",
              "    }\n",
              "\n",
              "    .dataframe tbody tr th {\n",
              "        vertical-align: top;\n",
              "    }\n",
              "\n",
              "    .dataframe thead th {\n",
              "        text-align: right;\n",
              "    }\n",
              "</style>\n",
              "<table border=\"1\" class=\"dataframe\">\n",
              "  <thead>\n",
              "    <tr style=\"text-align: right;\">\n",
              "      <th></th>\n",
              "      <th>id</th>\n",
              "      <th>vendor_id</th>\n",
              "      <th>pickup_datetime</th>\n",
              "      <th>dropoff_datetime</th>\n",
              "      <th>passenger_count</th>\n",
              "      <th>pickup_longitude</th>\n",
              "      <th>pickup_latitude</th>\n",
              "      <th>dropoff_longitude</th>\n",
              "      <th>dropoff_latitude</th>\n",
              "      <th>store_and_fwd_flag</th>\n",
              "      <th>trip_duration</th>\n",
              "      <th>pickup_day</th>\n",
              "      <th>dropoff_day</th>\n",
              "      <th>pickup_day_no</th>\n",
              "      <th>dropoff_day_no</th>\n",
              "      <th>pickup_hour</th>\n",
              "      <th>dropoff_hour</th>\n",
              "      <th>pickup_month</th>\n",
              "      <th>dropoff_month</th>\n",
              "      <th>distance</th>\n",
              "    </tr>\n",
              "  </thead>\n",
              "  <tbody>\n",
              "    <tr>\n",
              "      <th>0</th>\n",
              "      <td>id2875421</td>\n",
              "      <td>2</td>\n",
              "      <td>Evening</td>\n",
              "      <td>Evening</td>\n",
              "      <td>1</td>\n",
              "      <td>-73.982155</td>\n",
              "      <td>40.767937</td>\n",
              "      <td>-73.964630</td>\n",
              "      <td>40.765602</td>\n",
              "      <td>N</td>\n",
              "      <td>455</td>\n",
              "      <td>Monday</td>\n",
              "      <td>Monday</td>\n",
              "      <td>0</td>\n",
              "      <td>0</td>\n",
              "      <td>17</td>\n",
              "      <td>17</td>\n",
              "      <td>3</td>\n",
              "      <td>3</td>\n",
              "      <td>1.498523</td>\n",
              "    </tr>\n",
              "    <tr>\n",
              "      <th>1</th>\n",
              "      <td>id2377394</td>\n",
              "      <td>1</td>\n",
              "      <td>Late night</td>\n",
              "      <td>Late night</td>\n",
              "      <td>1</td>\n",
              "      <td>-73.980415</td>\n",
              "      <td>40.738564</td>\n",
              "      <td>-73.999481</td>\n",
              "      <td>40.731152</td>\n",
              "      <td>N</td>\n",
              "      <td>663</td>\n",
              "      <td>Sunday</td>\n",
              "      <td>Sunday</td>\n",
              "      <td>6</td>\n",
              "      <td>6</td>\n",
              "      <td>0</td>\n",
              "      <td>0</td>\n",
              "      <td>6</td>\n",
              "      <td>6</td>\n",
              "      <td>1.805510</td>\n",
              "    </tr>\n",
              "    <tr>\n",
              "      <th>2</th>\n",
              "      <td>id3858529</td>\n",
              "      <td>2</td>\n",
              "      <td>Morning</td>\n",
              "      <td>Afternoon</td>\n",
              "      <td>1</td>\n",
              "      <td>-73.979027</td>\n",
              "      <td>40.763939</td>\n",
              "      <td>-74.005333</td>\n",
              "      <td>40.710087</td>\n",
              "      <td>N</td>\n",
              "      <td>2124</td>\n",
              "      <td>Tuesday</td>\n",
              "      <td>Tuesday</td>\n",
              "      <td>1</td>\n",
              "      <td>1</td>\n",
              "      <td>11</td>\n",
              "      <td>12</td>\n",
              "      <td>1</td>\n",
              "      <td>1</td>\n",
              "      <td>6.385108</td>\n",
              "    </tr>\n",
              "    <tr>\n",
              "      <th>3</th>\n",
              "      <td>id3504673</td>\n",
              "      <td>2</td>\n",
              "      <td>Evening</td>\n",
              "      <td>Evening</td>\n",
              "      <td>1</td>\n",
              "      <td>-74.010040</td>\n",
              "      <td>40.719971</td>\n",
              "      <td>-74.012268</td>\n",
              "      <td>40.706718</td>\n",
              "      <td>N</td>\n",
              "      <td>429</td>\n",
              "      <td>Wednesday</td>\n",
              "      <td>Wednesday</td>\n",
              "      <td>2</td>\n",
              "      <td>2</td>\n",
              "      <td>19</td>\n",
              "      <td>19</td>\n",
              "      <td>4</td>\n",
              "      <td>4</td>\n",
              "      <td>1.485501</td>\n",
              "    </tr>\n",
              "    <tr>\n",
              "      <th>4</th>\n",
              "      <td>id2181028</td>\n",
              "      <td>2</td>\n",
              "      <td>Afternoon</td>\n",
              "      <td>Afternoon</td>\n",
              "      <td>1</td>\n",
              "      <td>-73.973053</td>\n",
              "      <td>40.793209</td>\n",
              "      <td>-73.972923</td>\n",
              "      <td>40.782520</td>\n",
              "      <td>N</td>\n",
              "      <td>435</td>\n",
              "      <td>Saturday</td>\n",
              "      <td>Saturday</td>\n",
              "      <td>5</td>\n",
              "      <td>5</td>\n",
              "      <td>13</td>\n",
              "      <td>13</td>\n",
              "      <td>3</td>\n",
              "      <td>3</td>\n",
              "      <td>1.188590</td>\n",
              "    </tr>\n",
              "  </tbody>\n",
              "</table>\n",
              "</div>\n",
              "      <button class=\"colab-df-convert\" onclick=\"convertToInteractive('df-dc37802f-6e9d-4552-90f1-fb3dc0651720')\"\n",
              "              title=\"Convert this dataframe to an interactive table.\"\n",
              "              style=\"display:none;\">\n",
              "        \n",
              "  <svg xmlns=\"http://www.w3.org/2000/svg\" height=\"24px\"viewBox=\"0 0 24 24\"\n",
              "       width=\"24px\">\n",
              "    <path d=\"M0 0h24v24H0V0z\" fill=\"none\"/>\n",
              "    <path d=\"M18.56 5.44l.94 2.06.94-2.06 2.06-.94-2.06-.94-.94-2.06-.94 2.06-2.06.94zm-11 1L8.5 8.5l.94-2.06 2.06-.94-2.06-.94L8.5 2.5l-.94 2.06-2.06.94zm10 10l.94 2.06.94-2.06 2.06-.94-2.06-.94-.94-2.06-.94 2.06-2.06.94z\"/><path d=\"M17.41 7.96l-1.37-1.37c-.4-.4-.92-.59-1.43-.59-.52 0-1.04.2-1.43.59L10.3 9.45l-7.72 7.72c-.78.78-.78 2.05 0 2.83L4 21.41c.39.39.9.59 1.41.59.51 0 1.02-.2 1.41-.59l7.78-7.78 2.81-2.81c.8-.78.8-2.07 0-2.86zM5.41 20L4 18.59l7.72-7.72 1.47 1.35L5.41 20z\"/>\n",
              "  </svg>\n",
              "      </button>\n",
              "      \n",
              "  <style>\n",
              "    .colab-df-container {\n",
              "      display:flex;\n",
              "      flex-wrap:wrap;\n",
              "      gap: 12px;\n",
              "    }\n",
              "\n",
              "    .colab-df-convert {\n",
              "      background-color: #E8F0FE;\n",
              "      border: none;\n",
              "      border-radius: 50%;\n",
              "      cursor: pointer;\n",
              "      display: none;\n",
              "      fill: #1967D2;\n",
              "      height: 32px;\n",
              "      padding: 0 0 0 0;\n",
              "      width: 32px;\n",
              "    }\n",
              "\n",
              "    .colab-df-convert:hover {\n",
              "      background-color: #E2EBFA;\n",
              "      box-shadow: 0px 1px 2px rgba(60, 64, 67, 0.3), 0px 1px 3px 1px rgba(60, 64, 67, 0.15);\n",
              "      fill: #174EA6;\n",
              "    }\n",
              "\n",
              "    [theme=dark] .colab-df-convert {\n",
              "      background-color: #3B4455;\n",
              "      fill: #D2E3FC;\n",
              "    }\n",
              "\n",
              "    [theme=dark] .colab-df-convert:hover {\n",
              "      background-color: #434B5C;\n",
              "      box-shadow: 0px 1px 3px 1px rgba(0, 0, 0, 0.15);\n",
              "      filter: drop-shadow(0px 1px 2px rgba(0, 0, 0, 0.3));\n",
              "      fill: #FFFFFF;\n",
              "    }\n",
              "  </style>\n",
              "\n",
              "      <script>\n",
              "        const buttonEl =\n",
              "          document.querySelector('#df-dc37802f-6e9d-4552-90f1-fb3dc0651720 button.colab-df-convert');\n",
              "        buttonEl.style.display =\n",
              "          google.colab.kernel.accessAllowed ? 'block' : 'none';\n",
              "\n",
              "        async function convertToInteractive(key) {\n",
              "          const element = document.querySelector('#df-dc37802f-6e9d-4552-90f1-fb3dc0651720');\n",
              "          const dataTable =\n",
              "            await google.colab.kernel.invokeFunction('convertToInteractive',\n",
              "                                                     [key], {});\n",
              "          if (!dataTable) return;\n",
              "\n",
              "          const docLinkHtml = 'Like what you see? Visit the ' +\n",
              "            '<a target=\"_blank\" href=https://colab.research.google.com/notebooks/data_table.ipynb>data table notebook</a>'\n",
              "            + ' to learn more about interactive tables.';\n",
              "          element.innerHTML = '';\n",
              "          dataTable['output_type'] = 'display_data';\n",
              "          await google.colab.output.renderOutput(dataTable, element);\n",
              "          const docLink = document.createElement('div');\n",
              "          docLink.innerHTML = docLinkHtml;\n",
              "          element.appendChild(docLink);\n",
              "        }\n",
              "      </script>\n",
              "    </div>\n",
              "  </div>\n",
              "  "
            ]
          },
          "metadata": {},
          "execution_count": 24
        }
      ],
      "source": [
        "trip_df.head()"
      ]
    },
    {
      "cell_type": "code",
      "execution_count": null,
      "metadata": {
        "colab": {
          "base_uri": "https://localhost:8080/"
        },
        "id": "aUjBpwL5zjus",
        "outputId": "88ccf925-fc6d-4cd7-bbf0-30e6f463b159"
      },
      "outputs": [
        {
          "output_type": "execute_result",
          "data": {
            "text/plain": [
              "0.000000    5897\n",
              "0.000424      45\n",
              "0.000424      43\n",
              "0.000424      35\n",
              "0.000424      22\n",
              "            ... \n",
              "2.917715       1\n",
              "4.698058       1\n",
              "4.920641       1\n",
              "2.988820       1\n",
              "1.134044       1\n",
              "Name: distance, Length: 1452360, dtype: int64"
            ]
          },
          "metadata": {},
          "execution_count": 25
        }
      ],
      "source": [
        "# Calculating the distance (KM) of Each trip\n",
        "trip_df['distance'].value_counts()"
      ]
    },
    {
      "cell_type": "code",
      "execution_count": null,
      "metadata": {
        "colab": {
          "base_uri": "https://localhost:8080/"
        },
        "id": "u2iWT30A23xu",
        "outputId": "6f59d0f3-cd28-4eaf-dba4-89428be739ec"
      },
      "outputs": [
        {
          "output_type": "execute_result",
          "data": {
            "text/plain": [
              "0.000000     5897\n",
              "0.509011        5\n",
              "0.152703        3\n",
              "0.169670        3\n",
              "0.190879        3\n",
              "             ... \n",
              "8.733999        1\n",
              "7.996145        1\n",
              "5.057327        1\n",
              "18.016528       1\n",
              "20.618974       1\n",
              "Name: speed, Length: 1452679, dtype: int64"
            ]
          },
          "metadata": {},
          "execution_count": 26
        }
      ],
      "source": [
        "# Calculating speeed using trip_duration \n",
        "trip_df['speed'] = (trip_df.distance/(trip_df.trip_duration/3600))\n",
        "trip_df['speed'].value_counts()"
      ]
    },
    {
      "cell_type": "code",
      "execution_count": null,
      "metadata": {
        "colab": {
          "base_uri": "https://localhost:8080/"
        },
        "id": "zaUmos1H24dU",
        "outputId": "41e49333-1119-46f0-a196-614a2944fe80"
      },
      "outputs": [
        {
          "output_type": "execute_result",
          "data": {
            "text/plain": [
              "1176337    9274.849833\n",
              "910072     6877.350121\n",
              "184925     5640.501953\n",
              "974378     5251.023411\n",
              "377068     4086.717794\n",
              "1013474    1756.560183\n",
              "923793     1440.604652\n",
              "1001028    1410.026735\n",
              "906281     1408.106827\n",
              "595540     1351.743467\n",
              "Name: speed, dtype: float64"
            ]
          },
          "metadata": {},
          "execution_count": 27
        }
      ],
      "source": [
        "# checking largest 10 spped fom data\n",
        "trip_df['speed'].nlargest(10)"
      ]
    },
    {
      "cell_type": "code",
      "execution_count": null,
      "metadata": {
        "colab": {
          "base_uri": "https://localhost:8080/",
          "height": 389
        },
        "id": "J1-TTUZm7hbk",
        "outputId": "5a0fc874-d6d7-464b-92e8-ab873b4ec00c"
      },
      "outputs": [
        {
          "output_type": "stream",
          "name": "stderr",
          "text": [
            "/usr/local/lib/python3.7/dist-packages/seaborn/_decorators.py:43: FutureWarning: Pass the following variable as a keyword arg: x. From version 0.12, the only valid positional argument will be `data`, and passing other arguments without an explicit keyword will result in an error or misinterpretation.\n",
            "  FutureWarning\n"
          ]
        },
        {
          "output_type": "display_data",
          "data": {
            "text/plain": [
              "<Figure size 720x360 with 1 Axes>"
            ],
            "image/png": "[encoded data removed]"
          },
          "metadata": {
            "needs_background": "light"
          }
        }
      ],
      "source": [
        "# Graph of largest speed\n",
        "plt.figure(figsize = (10,5))\n",
        "sns.boxplot(trip_df.speed)\n",
        "plt.xlabel('Average Speed')\n",
        "plt.show()"
      ]
    },
    {
      "cell_type": "markdown",
      "metadata": {
        "id": "S_6rVbmN1k7Y"
      },
      "source": [
        "# <B> OBSERVATION : </B>  5897 trips with 0 km distance </B>\n",
        "\n",
        "The reasons for 0 km distance can be:\n",
        "\n",
        "(A) The dropoff location couldn’t be tracked.\n",
        "\n",
        "(B) The driver deliberately took this ride to complete a target ride number.\n",
        "\n",
        "(C) The passengers canceled the trip.\n"
      ]
    },
    {
      "cell_type": "code",
      "execution_count": null,
      "metadata": {
        "colab": {
          "base_uri": "https://localhost:8080/",
          "height": 342
        },
        "id": "6XJWWAQ44WVP",
        "outputId": "02ffd93e-c2b2-42cf-bc2f-71b03843ed60"
      },
      "outputs": [
        {
          "output_type": "display_data",
          "data": {
            "text/plain": [
              "<Figure size 1440x360 with 2 Axes>"
            ],
            "image/png": "[encoded data removed]"
          },
          "metadata": {
            "needs_background": "light"
          }
        }
      ],
      "source": [
        "# Checking Pickup and drop off day trip for each day\n",
        "figure,(ax1,ax2)=plt.subplots(ncols=2,figsize=(20,5))\n",
        "\n",
        "ax1.set_title('Pickup Days')\n",
        "ax=sns.countplot(x=\"pickup_day\",data=trip_df,ax=ax1)\n",
        "\n",
        "ax2.set_title('Dropoff Days')\n",
        "ax=sns.countplot(x=\"dropoff_day\",data=trip_df,ax=ax2)"
      ]
    },
    {
      "cell_type": "markdown",
      "metadata": {
        "id": "gZTJobJk6L8q"
      },
      "source": [
        "# <B> OBSERVATION </B>\n",
        "![image.png](data:image/png;base64,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)\n",
        "(A) Maximum no. of trips on Friday and Saturday in both graphs.\n",
        "\n",
        "(B) Minimum No. of Trips on Monady in both graphs."
      ]
    },
    {
      "cell_type": "code",
      "execution_count": null,
      "metadata": {
        "colab": {
          "base_uri": "https://localhost:8080/",
          "height": 344
        },
        "id": "-kD6m1uM6tQm",
        "outputId": "dfa8b355-3453-4e42-c09a-a57584c52cfc"
      },
      "outputs": [
        {
          "output_type": "display_data",
          "data": {
            "text/plain": [
              "<Figure size 1440x360 with 2 Axes>"
            ],
            "image/png": "[encoded data removed]"
          },
          "metadata": {
            "needs_background": "light"
          }
        }
      ],
      "source": [
        "# Trips per Hour in pickup_hour and dropoff_hour\n",
        "figure,(ax9,ax10)=plt.subplots(ncols=2,figsize=(20,5))\n",
        "\n",
        "ax9.set_title('Pickup Days')\n",
        "ax=sns.countplot(x=\"pickup_hour\",data=trip_df,ax=ax9)\n",
        "\n",
        "ax10.set_title('Dropoff Days')\n",
        "ax=sns.countplot(x=\"dropoff_hour\",data=trip_df,ax=ax10)\n"
      ]
    },
    {
      "cell_type": "markdown",
      "metadata": {
        "id": "iwhbWk1bWkmm"
      },
      "source": [
        "# <B> OBSERVATION : </B> Busiest hour is 6:00 and 7:00"
      ]
    },
    {
      "cell_type": "code",
      "execution_count": null,
      "metadata": {
        "colab": {
          "base_uri": "https://localhost:8080/",
          "height": 351
        },
        "id": "GJjeX7djW0WA",
        "outputId": "2e7c32dc-9f6c-431d-999f-c5acd27b400c"
      },
      "outputs": [
        {
          "output_type": "display_data",
          "data": {
            "text/plain": [
              "<Figure size 1080x360 with 2 Axes>"
            ],
            "image/png": "[encoded data removed]"
          },
          "metadata": {
            "needs_background": "light"
          }
        }
      ],
      "source": [
        "# Trips per day in Time(Morning, Afternoon, Evening and Late night) \n",
        "figure,(ax3,ax4)=plt.subplots(ncols=2,figsize=(15,5))\n",
        "\n",
        "ax3.set_title('Pickup Time of Day')\n",
        "ax=sns.countplot(x=\"pickup_datetime\",data=trip_df,ax=ax3)\n",
        "\n",
        "ax4.set_title('Dropoff Time of Day')\n",
        "ax=sns.countplot(x=\"dropoff_datetime\",data=trip_df,ax=ax4)"
      ]
    },
    {
      "cell_type": "markdown",
      "metadata": {
        "id": "UzrdAtnEZLyH"
      },
      "source": [
        "# <B> OBSERVATION : </B> <h6> In both cases, Maximum pickup and drop time is in Evening"
      ]
    },
    {
      "cell_type": "code",
      "execution_count": null,
      "metadata": {
        "colab": {
          "base_uri": "https://localhost:8080/",
          "height": 351
        },
        "id": "pIJT3flTfLFD",
        "outputId": "6755985b-851b-457f-bccf-71908e52e741"
      },
      "outputs": [
        {
          "output_type": "display_data",
          "data": {
            "text/plain": [
              "<Figure size 1080x360 with 2 Axes>"
            ],
            "image/png": "[encoded data removed]"
          },
          "metadata": {
            "needs_background": "light"
          }
        }
      ],
      "source": [
        "# Trips per month\n",
        "figure,(ax11,ax12)=plt.subplots(ncols=2,figsize=(15,5))\n",
        "\n",
        "ax11.set_title('Pickup Month')\n",
        "ax=sns.countplot(x=\"pickup_month\",data=trip_df,ax=ax11)\n",
        "\n",
        "ax12.set_title('Dropoff Month')\n",
        "ax=sns.countplot(x=\"dropoff_month\",data=trip_df,ax=ax12)"
      ]
    },
    {
      "cell_type": "markdown",
      "metadata": {
        "id": "5sdStd0gfpzC"
      },
      "source": [
        "# <B> OBSERVATION :</B> <h6> In both cases, Month-3 having maximum"
      ]
    },
    {
      "cell_type": "markdown",
      "metadata": {
        "id": "U5ZmO0osgBk1"
      },
      "source": [
        "# <B> Bivariate Analysis </B> involves finding relationships, patterns, and correlations between two variables.\n",
        "\n"
      ]
    },
    {
      "cell_type": "code",
      "execution_count": null,
      "metadata": {
        "colab": {
          "base_uri": "https://localhost:8080/",
          "height": 297
        },
        "id": "bM1LAhu-gcuP",
        "outputId": "9bd22fea-9188-4842-b232-d09d3e834808"
      },
      "outputs": [
        {
          "output_type": "execute_result",
          "data": {
            "text/plain": [
              "<matplotlib.axes._subplots.AxesSubplot at 0x7ff40b994050>"
            ]
          },
          "metadata": {},
          "execution_count": 34
        },
        {
          "output_type": "display_data",
          "data": {
            "text/plain": [
              "<Figure size 432x288 with 1 Axes>"
            ],
            "image/png": "[encoded data removed]"
          },
          "metadata": {
            "needs_background": "light"
          }
        }
      ],
      "source": [
        "# Trips duration in both vender 1 and vender 2\n",
        "sns.barplot(y='trip_duration',x='vendor_id',data=trip_df,estimator=np.mean)"
      ]
    },
    {
      "cell_type": "markdown",
      "metadata": {
        "id": "3QxzgfeIgvaP"
      },
      "source": [
        "# <B> OBSERVATION : </B> Maximum trip duration in Vender-2"
      ]
    },
    {
      "cell_type": "code",
      "execution_count": null,
      "metadata": {
        "colab": {
          "base_uri": "https://localhost:8080/",
          "height": 297
        },
        "id": "CW2GtT5bg5PP",
        "outputId": "aeecc5ec-6fd4-4545-f826-f2e1a9783905"
      },
      "outputs": [
        {
          "output_type": "execute_result",
          "data": {
            "text/plain": [
              "<matplotlib.axes._subplots.AxesSubplot at 0x7ff40bcb50d0>"
            ]
          },
          "metadata": {},
          "execution_count": 35
        },
        {
          "output_type": "display_data",
          "data": {
            "text/plain": [
              "<Figure size 432x288 with 1 Axes>"
            ],
            "image/png": "[encoded data removed]"
          },
          "metadata": {
            "needs_background": "light"
          }
        }
      ],
      "source": [
        "# Trip Duration per Store and Forward Flag (On 2 unique values for store_and_fwd_flag i.e. Y and N)\n",
        "sns.lineplot(y='trip_duration',x='store_and_fwd_flag',data=trip_df)"
      ]
    },
    {
      "cell_type": "markdown",
      "metadata": {
        "id": "AdBfZGrPyhnI"
      },
      "source": [
        "# <B> OBSERVATION : </B> <h6> Here, Continues incraese of trip duration in graph"
      ]
    },
    {
      "cell_type": "code",
      "execution_count": null,
      "metadata": {
        "colab": {
          "base_uri": "https://localhost:8080/",
          "height": 297
        },
        "id": "Gb7D5oucl0G_",
        "outputId": "b5dce5b2-8c2b-45b7-94ab-7518f347059a"
      },
      "outputs": [
        {
          "output_type": "execute_result",
          "data": {
            "text/plain": [
              "<matplotlib.axes._subplots.AxesSubplot at 0x7ff40b5f9190>"
            ]
          },
          "metadata": {},
          "execution_count": 36
        },
        {
          "output_type": "display_data",
          "data": {
            "text/plain": [
              "<Figure size 432x288 with 1 Axes>"
            ],
            "image/png": "[encoded data removed]"
          },
          "metadata": {
            "needs_background": "light"
          }
        }
      ],
      "source": [
        "# Trip duration per pessanger count\n",
        "sns.lineplot(y='trip_duration',x='passenger_count',data=trip_df)"
      ]
    },
    {
      "cell_type": "markdown",
      "metadata": {
        "id": "b0aMGXasyC3j"
      },
      "source": [
        "# <B> OBSERVATION : </B> <h6> maximum trip duration in Passenger Count =0"
      ]
    },
    {
      "cell_type": "code",
      "execution_count": null,
      "metadata": {
        "colab": {
          "base_uri": "https://localhost:8080/",
          "height": 297
        },
        "id": "Gg3U2SL-mNPo",
        "outputId": "df1f22a3-0dd4-4d03-abac-a3028bd3f563"
      },
      "outputs": [
        {
          "output_type": "execute_result",
          "data": {
            "text/plain": [
              "<matplotlib.axes._subplots.AxesSubplot at 0x7ff410ce7350>"
            ]
          },
          "metadata": {},
          "execution_count": 37
        },
        {
          "output_type": "display_data",
          "data": {
            "text/plain": [
              "<Figure size 432x288 with 1 Axes>"
            ],
            "image/png": "[encoded data removed]"
          },
          "metadata": {
            "needs_background": "light"
          }
        }
      ],
      "source": [
        "# Trip duration per hour\n",
        "sns.lineplot(x='pickup_hour',y='trip_duration',data=trip_df)"
      ]
    },
    {
      "cell_type": "markdown",
      "metadata": {
        "id": "7pH8w9SfxfM8"
      },
      "source": [
        "# <B> OBSERVATION : </B> <h6> Here, Variable trip duration in different pickup hour but maximum at 15."
      ]
    },
    {
      "cell_type": "code",
      "execution_count": null,
      "metadata": {
        "colab": {
          "base_uri": "https://localhost:8080/",
          "height": 300
        },
        "id": "368KYG8jnhZG",
        "outputId": "3b854fbc-8390-4d5e-fda0-fa35c51a8da5"
      },
      "outputs": [
        {
          "output_type": "execute_result",
          "data": {
            "text/plain": [
              "<matplotlib.axes._subplots.AxesSubplot at 0x7ff40bc9ec50>"
            ]
          },
          "metadata": {},
          "execution_count": 38
        },
        {
          "output_type": "display_data",
          "data": {
            "text/plain": [
              "<Figure size 432x288 with 1 Axes>"
            ],
            "image/png": "[encoded data removed]"
          },
          "metadata": {
            "needs_background": "light"
          }
        }
      ],
      "source": [
        "# Trip duration per time of day\n",
        "sns.lineplot(x='pickup_datetime',y='trip_duration',data=trip_df)"
      ]
    },
    {
      "cell_type": "markdown",
      "metadata": {
        "id": "8ggWDryAxHRU"
      },
      "source": [
        "# <B> OBSERVATION : </B> <h6> Maximum trip duartion in Afternoon and minimum in Morning Time"
      ]
    },
    {
      "cell_type": "code",
      "execution_count": null,
      "metadata": {
        "colab": {
          "base_uri": "https://localhost:8080/",
          "height": 297
        },
        "id": "IvC9U2NeoKDY",
        "outputId": "460b300e-2de6-48d8-fd9c-d15547c48ecf"
      },
      "outputs": [
        {
          "output_type": "execute_result",
          "data": {
            "text/plain": [
              "<matplotlib.axes._subplots.AxesSubplot at 0x7ff40ca0fb10>"
            ]
          },
          "metadata": {},
          "execution_count": 39
        },
        {
          "output_type": "display_data",
          "data": {
            "text/plain": [
              "<Figure size 432x288 with 1 Axes>"
            ],
            "image/png": "[encoded data removed]"
          },
          "metadata": {
            "needs_background": "light"
          }
        }
      ],
      "source": [
        "# Trip duration per day in a week\n",
        "sns.lineplot(x='pickup_day_no',y='trip_duration',data=trip_df)"
      ]
    },
    {
      "cell_type": "markdown",
      "metadata": {
        "id": "dO2Nodjbv7mU"
      },
      "source": [
        "# <B> OBSERVATION : </B> <h6> Maximum trip duration in Pickup day-3 while same trip duration in Pickup day 0 & 6"
      ]
    },
    {
      "cell_type": "code",
      "execution_count": null,
      "metadata": {
        "colab": {
          "base_uri": "https://localhost:8080/",
          "height": 297
        },
        "id": "XGlQc4hMo6NK",
        "outputId": "f73a9232-8466-4602-ebb8-fe20b0fc0d4f"
      },
      "outputs": [
        {
          "output_type": "execute_result",
          "data": {
            "text/plain": [
              "<matplotlib.axes._subplots.AxesSubplot at 0x7ff40d51e6d0>"
            ]
          },
          "metadata": {},
          "execution_count": 40
        },
        {
          "output_type": "display_data",
          "data": {
            "text/plain": [
              "<Figure size 432x288 with 1 Axes>"
            ],
            "image/png": "[encoded data removed]"
          },
          "metadata": {
            "needs_background": "light"
          }
        }
      ],
      "source": [
        "# Trip duration per month\n",
        "sns.lineplot(x='pickup_month',y='trip_duration',data=trip_df)"
      ]
    },
    {
      "cell_type": "markdown",
      "metadata": {
        "id": "d0DbPnH6vU_i"
      },
      "source": [
        "# <B> OBSERVATION : </B> <h6> Month-6 having maximum trip duration and minimum at Month-1"
      ]
    },
    {
      "cell_type": "code",
      "execution_count": null,
      "metadata": {
        "colab": {
          "base_uri": "https://localhost:8080/",
          "height": 297
        },
        "id": "jzt3euaxpahP",
        "outputId": "a3e185ec-e990-4b87-8391-36a7146584a4"
      },
      "outputs": [
        {
          "output_type": "execute_result",
          "data": {
            "text/plain": [
              "<matplotlib.axes._subplots.AxesSubplot at 0x7ff40d725e90>"
            ]
          },
          "metadata": {},
          "execution_count": 41
        },
        {
          "output_type": "display_data",
          "data": {
            "text/plain": [
              "<Figure size 432x288 with 1 Axes>"
            ],
            "image/png": "[encoded data removed]"
          },
          "metadata": {
            "needs_background": "light"
          }
        }
      ],
      "source": [
        "# passesnger count in both vender\n",
        "sns.barplot(y='passenger_count',x='vendor_id',data=trip_df)"
      ]
    },
    {
      "cell_type": "markdown",
      "metadata": {
        "id": "Oy6lM0LnurB_"
      },
      "source": [
        "# <B> OBSERVATION : </B> <h6>Vender-2 having more passenger than Vender-1"
      ]
    },
    {
      "cell_type": "markdown",
      "metadata": {
        "id": "r78yA13EuUK6"
      },
      "source": [
        "# We can see, trip duration as short as 0 seconds and yet covering a large distance. And, trips with 0 km distance and long trip durations.\n",
        "\n"
      ]
    },
    {
      "cell_type": "code",
      "execution_count": null,
      "metadata": {
        "colab": {
          "base_uri": "https://localhost:8080/",
          "height": 299
        },
        "id": "jQ--tirhsJeD",
        "outputId": "9b1581d6-b730-4103-c712-3c1929700a5e"
      },
      "outputs": [
        {
          "output_type": "execute_result",
          "data": {
            "text/plain": [
              "             id  vendor_id pickup_datetime dropoff_datetime  passenger_count  \\\n",
              "246   id3487442          2         Evening          Evening                1   \n",
              "291   id0924324          2         Evening          Evening                2   \n",
              "407   id1145809          2      Late night       Late night                6   \n",
              "702   id3499387          1         Evening          Evening                1   \n",
              "1620  id0753277          1      Late night       Late night                1   \n",
              "\n",
              "      pickup_longitude  pickup_latitude  dropoff_longitude  dropoff_latitude  \\\n",
              "246         -73.981819        40.768963         -73.981819         40.768963   \n",
              "291         -73.959068        40.775661         -73.959068         40.775661   \n",
              "407         -73.808487        40.687336         -73.808487         40.687336   \n",
              "702         -73.786720        40.647041         -73.786720         40.647041   \n",
              "1620        -74.209854        40.816853         -74.209854         40.816853   \n",
              "\n",
              "     store_and_fwd_flag  ...  pickup_day dropoff_day pickup_day_no  \\\n",
              "246                   N  ...      Monday      Monday             0   \n",
              "291                   N  ...     Tuesday     Tuesday             1   \n",
              "407                   N  ...      Monday      Monday             0   \n",
              "702                   N  ...      Monday      Monday             0   \n",
              "1620                  N  ...   Wednesday   Wednesday             2   \n",
              "\n",
              "      dropoff_day_no  pickup_hour  dropoff_hour  pickup_month  dropoff_month  \\\n",
              "246                0           18            18             2              2   \n",
              "291                1           18            18             5              5   \n",
              "407                0           23            23             5              5   \n",
              "702                0           19            19             1              1   \n",
              "1620               2           22            22             1              1   \n",
              "\n",
              "      distance  speed  \n",
              "246        0.0    0.0  \n",
              "291        0.0    0.0  \n",
              "407        0.0    0.0  \n",
              "702        0.0    0.0  \n",
              "1620       0.0    0.0  \n",
              "\n",
              "[5 rows x 21 columns]"
            ],
            "text/html": [
              "\n",
              "  <div id=\"df-49fc8162-ac22-4e37-8c98-1ee1457466fe\">\n",
              "    <div class=\"colab-df-container\">\n",
              "      <div>\n",
              "<style scoped>\n",
              "    .dataframe tbody tr th:only-of-type {\n",
              "        vertical-align: middle;\n",
              "    }\n",
              "\n",
              "    .dataframe tbody tr th {\n",
              "        vertical-align: top;\n",
              "    }\n",
              "\n",
              "    .dataframe thead th {\n",
              "        text-align: right;\n",
              "    }\n",
              "</style>\n",
              "<table border=\"1\" class=\"dataframe\">\n",
              "  <thead>\n",
              "    <tr style=\"text-align: right;\">\n",
              "      <th></th>\n",
              "      <th>id</th>\n",
              "      <th>vendor_id</th>\n",
              "      <th>pickup_datetime</th>\n",
              "      <th>dropoff_datetime</th>\n",
              "      <th>passenger_count</th>\n",
              "      <th>pickup_longitude</th>\n",
              "      <th>pickup_latitude</th>\n",
              "      <th>dropoff_longitude</th>\n",
              "      <th>dropoff_latitude</th>\n",
              "      <th>store_and_fwd_flag</th>\n",
              "      <th>...</th>\n",
              "      <th>pickup_day</th>\n",
              "      <th>dropoff_day</th>\n",
              "      <th>pickup_day_no</th>\n",
              "      <th>dropoff_day_no</th>\n",
              "      <th>pickup_hour</th>\n",
              "      <th>dropoff_hour</th>\n",
              "      <th>pickup_month</th>\n",
              "      <th>dropoff_month</th>\n",
              "      <th>distance</th>\n",
              "      <th>speed</th>\n",
              "    </tr>\n",
              "  </thead>\n",
              "  <tbody>\n",
              "    <tr>\n",
              "      <th>246</th>\n",
              "      <td>id3487442</td>\n",
              "      <td>2</td>\n",
              "      <td>Evening</td>\n",
              "      <td>Evening</td>\n",
              "      <td>1</td>\n",
              "      <td>-73.981819</td>\n",
              "      <td>40.768963</td>\n",
              "      <td>-73.981819</td>\n",
              "      <td>40.768963</td>\n",
              "      <td>N</td>\n",
              "      <td>...</td>\n",
              "      <td>Monday</td>\n",
              "      <td>Monday</td>\n",
              "      <td>0</td>\n",
              "      <td>0</td>\n",
              "      <td>18</td>\n",
              "      <td>18</td>\n",
              "      <td>2</td>\n",
              "      <td>2</td>\n",
              "      <td>0.0</td>\n",
              "      <td>0.0</td>\n",
              "    </tr>\n",
              "    <tr>\n",
              "      <th>291</th>\n",
              "      <td>id0924324</td>\n",
              "      <td>2</td>\n",
              "      <td>Evening</td>\n",
              "      <td>Evening</td>\n",
              "      <td>2</td>\n",
              "      <td>-73.959068</td>\n",
              "      <td>40.775661</td>\n",
              "      <td>-73.959068</td>\n",
              "      <td>40.775661</td>\n",
              "      <td>N</td>\n",
              "      <td>...</td>\n",
              "      <td>Tuesday</td>\n",
              "      <td>Tuesday</td>\n",
              "      <td>1</td>\n",
              "      <td>1</td>\n",
              "      <td>18</td>\n",
              "      <td>18</td>\n",
              "      <td>5</td>\n",
              "      <td>5</td>\n",
              "      <td>0.0</td>\n",
              "      <td>0.0</td>\n",
              "    </tr>\n",
              "    <tr>\n",
              "      <th>407</th>\n",
              "      <td>id1145809</td>\n",
              "      <td>2</td>\n",
              "      <td>Late night</td>\n",
              "      <td>Late night</td>\n",
              "      <td>6</td>\n",
              "      <td>-73.808487</td>\n",
              "      <td>40.687336</td>\n",
              "      <td>-73.808487</td>\n",
              "      <td>40.687336</td>\n",
              "      <td>N</td>\n",
              "      <td>...</td>\n",
              "      <td>Monday</td>\n",
              "      <td>Monday</td>\n",
              "      <td>0</td>\n",
              "      <td>0</td>\n",
              "      <td>23</td>\n",
              "      <td>23</td>\n",
              "      <td>5</td>\n",
              "      <td>5</td>\n",
              "      <td>0.0</td>\n",
              "      <td>0.0</td>\n",
              "    </tr>\n",
              "    <tr>\n",
              "      <th>702</th>\n",
              "      <td>id3499387</td>\n",
              "      <td>1</td>\n",
              "      <td>Evening</td>\n",
              "      <td>Evening</td>\n",
              "      <td>1</td>\n",
              "      <td>-73.786720</td>\n",
              "      <td>40.647041</td>\n",
              "      <td>-73.786720</td>\n",
              "      <td>40.647041</td>\n",
              "      <td>N</td>\n",
              "      <td>...</td>\n",
              "      <td>Monday</td>\n",
              "      <td>Monday</td>\n",
              "      <td>0</td>\n",
              "      <td>0</td>\n",
              "      <td>19</td>\n",
              "      <td>19</td>\n",
              "      <td>1</td>\n",
              "      <td>1</td>\n",
              "      <td>0.0</td>\n",
              "      <td>0.0</td>\n",
              "    </tr>\n",
              "    <tr>\n",
              "      <th>1620</th>\n",
              "      <td>id0753277</td>\n",
              "      <td>1</td>\n",
              "      <td>Late night</td>\n",
              "      <td>Late night</td>\n",
              "      <td>1</td>\n",
              "      <td>-74.209854</td>\n",
              "      <td>40.816853</td>\n",
              "      <td>-74.209854</td>\n",
              "      <td>40.816853</td>\n",
              "      <td>N</td>\n",
              "      <td>...</td>\n",
              "      <td>Wednesday</td>\n",
              "      <td>Wednesday</td>\n",
              "      <td>2</td>\n",
              "      <td>2</td>\n",
              "      <td>22</td>\n",
              "      <td>22</td>\n",
              "      <td>1</td>\n",
              "      <td>1</td>\n",
              "      <td>0.0</td>\n",
              "      <td>0.0</td>\n",
              "    </tr>\n",
              "  </tbody>\n",
              "</table>\n",
              "<p>5 rows × 21 columns</p>\n",
              "</div>\n",
              "      <button class=\"colab-df-convert\" onclick=\"convertToInteractive('df-49fc8162-ac22-4e37-8c98-1ee1457466fe')\"\n",
              "              title=\"Convert this dataframe to an interactive table.\"\n",
              "              style=\"display:none;\">\n",
              "        \n",
              "  <svg xmlns=\"http://www.w3.org/2000/svg\" height=\"24px\"viewBox=\"0 0 24 24\"\n",
              "       width=\"24px\">\n",
              "    <path d=\"M0 0h24v24H0V0z\" fill=\"none\"/>\n",
              "    <path d=\"M18.56 5.44l.94 2.06.94-2.06 2.06-.94-2.06-.94-.94-2.06-.94 2.06-2.06.94zm-11 1L8.5 8.5l.94-2.06 2.06-.94-2.06-.94L8.5 2.5l-.94 2.06-2.06.94zm10 10l.94 2.06.94-2.06 2.06-.94-2.06-.94-.94-2.06-.94 2.06-2.06.94z\"/><path d=\"M17.41 7.96l-1.37-1.37c-.4-.4-.92-.59-1.43-.59-.52 0-1.04.2-1.43.59L10.3 9.45l-7.72 7.72c-.78.78-.78 2.05 0 2.83L4 21.41c.39.39.9.59 1.41.59.51 0 1.02-.2 1.41-.59l7.78-7.78 2.81-2.81c.8-.78.8-2.07 0-2.86zM5.41 20L4 18.59l7.72-7.72 1.47 1.35L5.41 20z\"/>\n",
              "  </svg>\n",
              "      </button>\n",
              "      \n",
              "  <style>\n",
              "    .colab-df-container {\n",
              "      display:flex;\n",
              "      flex-wrap:wrap;\n",
              "      gap: 12px;\n",
              "    }\n",
              "\n",
              "    .colab-df-convert {\n",
              "      background-color: #E8F0FE;\n",
              "      border: none;\n",
              "      border-radius: 50%;\n",
              "      cursor: pointer;\n",
              "      display: none;\n",
              "      fill: #1967D2;\n",
              "      height: 32px;\n",
              "      padding: 0 0 0 0;\n",
              "      width: 32px;\n",
              "    }\n",
              "\n",
              "    .colab-df-convert:hover {\n",
              "      background-color: #E2EBFA;\n",
              "      box-shadow: 0px 1px 2px rgba(60, 64, 67, 0.3), 0px 1px 3px 1px rgba(60, 64, 67, 0.15);\n",
              "      fill: #174EA6;\n",
              "    }\n",
              "\n",
              "    [theme=dark] .colab-df-convert {\n",
              "      background-color: #3B4455;\n",
              "      fill: #D2E3FC;\n",
              "    }\n",
              "\n",
              "    [theme=dark] .colab-df-convert:hover {\n",
              "      background-color: #434B5C;\n",
              "      box-shadow: 0px 1px 3px 1px rgba(0, 0, 0, 0.15);\n",
              "      filter: drop-shadow(0px 1px 2px rgba(0, 0, 0, 0.3));\n",
              "      fill: #FFFFFF;\n",
              "    }\n",
              "  </style>\n",
              "\n",
              "      <script>\n",
              "        const buttonEl =\n",
              "          document.querySelector('#df-49fc8162-ac22-4e37-8c98-1ee1457466fe button.colab-df-convert');\n",
              "        buttonEl.style.display =\n",
              "          google.colab.kernel.accessAllowed ? 'block' : 'none';\n",
              "\n",
              "        async function convertToInteractive(key) {\n",
              "          const element = document.querySelector('#df-49fc8162-ac22-4e37-8c98-1ee1457466fe');\n",
              "          const dataTable =\n",
              "            await google.colab.kernel.invokeFunction('convertToInteractive',\n",
              "                                                     [key], {});\n",
              "          if (!dataTable) return;\n",
              "\n",
              "          const docLinkHtml = 'Like what you see? Visit the ' +\n",
              "            '<a target=\"_blank\" href=https://colab.research.google.com/notebooks/data_table.ipynb>data table notebook</a>'\n",
              "            + ' to learn more about interactive tables.';\n",
              "          element.innerHTML = '';\n",
              "          dataTable['output_type'] = 'display_data';\n",
              "          await google.colab.output.renderOutput(dataTable, element);\n",
              "          const docLink = document.createElement('div');\n",
              "          docLink.innerHTML = docLinkHtml;\n",
              "          element.appendChild(docLink);\n",
              "        }\n",
              "      </script>\n",
              "    </div>\n",
              "  </div>\n",
              "  "
            ]
          },
          "metadata": {},
          "execution_count": 42
        }
      ],
      "source": [
        "# Finding rows where distance = 0\n",
        "trip_df[trip_df.distance==0].head()"
      ]
    },
    {
      "cell_type": "code",
      "execution_count": null,
      "metadata": {
        "colab": {
          "base_uri": "https://localhost:8080/",
          "height": 299
        },
        "id": "uwilqhSVtDgP",
        "outputId": "d1b792a3-ea38-4c83-de6a-5db210204012"
      },
      "outputs": [
        {
          "output_type": "execute_result",
          "data": {
            "text/plain": [
              "                id  vendor_id pickup_datetime dropoff_datetime  \\\n",
              "1456399  id0618137          2         Morning          Morning   \n",
              "1456627  id1048767          2      Late night       Late night   \n",
              "1456989  id2595295          2         Morning          Morning   \n",
              "1457114  id0051314          2         Evening          Evening   \n",
              "1457136  id1907784          1         Evening          Evening   \n",
              "\n",
              "         passenger_count  pickup_longitude  pickup_latitude  \\\n",
              "1456399                1        -73.978859        40.756721   \n",
              "1456627                1        -73.963554        40.768517   \n",
              "1456989                1        -73.984848        40.728222   \n",
              "1457114                1        -73.965981        40.770988   \n",
              "1457136                1        -73.966705        40.769783   \n",
              "\n",
              "         dropoff_longitude  dropoff_latitude store_and_fwd_flag  ...  \\\n",
              "1456399         -73.978859         40.756721                  N  ...   \n",
              "1456627         -73.963554         40.768517                  N  ...   \n",
              "1456989         -73.984848         40.728222                  N  ...   \n",
              "1457114         -73.965981         40.770988                  N  ...   \n",
              "1457136         -73.966705         40.769783                  N  ...   \n",
              "\n",
              "         pickup_day dropoff_day pickup_day_no  dropoff_day_no  pickup_hour  \\\n",
              "1456399   Wednesday   Wednesday             2               2            8   \n",
              "1456627    Saturday    Saturday             5               5           22   \n",
              "1456989    Saturday    Saturday             5               5            7   \n",
              "1457114    Saturday    Saturday             5               5           20   \n",
              "1457136      Friday      Friday             4               4           20   \n",
              "\n",
              "         dropoff_hour  pickup_month  dropoff_month  distance  speed  \n",
              "1456399             9             2              2       0.0    0.0  \n",
              "1456627            22             2              2       0.0    0.0  \n",
              "1456989             7             3              3       0.0    0.0  \n",
              "1457114            20             4              4       0.0    0.0  \n",
              "1457136            20             3              3       0.0    0.0  \n",
              "\n",
              "[5 rows x 21 columns]"
            ],
            "text/html": [
              "\n",
              "  <div id=\"df-1bbf64e0-7095-4570-b1ac-690552424810\">\n",
              "    <div class=\"colab-df-container\">\n",
              "      <div>\n",
              "<style scoped>\n",
              "    .dataframe tbody tr th:only-of-type {\n",
              "        vertical-align: middle;\n",
              "    }\n",
              "\n",
              "    .dataframe tbody tr th {\n",
              "        vertical-align: top;\n",
              "    }\n",
              "\n",
              "    .dataframe thead th {\n",
              "        text-align: right;\n",
              "    }\n",
              "</style>\n",
              "<table border=\"1\" class=\"dataframe\">\n",
              "  <thead>\n",
              "    <tr style=\"text-align: right;\">\n",
              "      <th></th>\n",
              "      <th>id</th>\n",
              "      <th>vendor_id</th>\n",
              "      <th>pickup_datetime</th>\n",
              "      <th>dropoff_datetime</th>\n",
              "      <th>passenger_count</th>\n",
              "      <th>pickup_longitude</th>\n",
              "      <th>pickup_latitude</th>\n",
              "      <th>dropoff_longitude</th>\n",
              "      <th>dropoff_latitude</th>\n",
              "      <th>store_and_fwd_flag</th>\n",
              "      <th>...</th>\n",
              "      <th>pickup_day</th>\n",
              "      <th>dropoff_day</th>\n",
              "      <th>pickup_day_no</th>\n",
              "      <th>dropoff_day_no</th>\n",
              "      <th>pickup_hour</th>\n",
              "      <th>dropoff_hour</th>\n",
              "      <th>pickup_month</th>\n",
              "      <th>dropoff_month</th>\n",
              "      <th>distance</th>\n",
              "      <th>speed</th>\n",
              "    </tr>\n",
              "  </thead>\n",
              "  <tbody>\n",
              "    <tr>\n",
              "      <th>1456399</th>\n",
              "      <td>id0618137</td>\n",
              "      <td>2</td>\n",
              "      <td>Morning</td>\n",
              "      <td>Morning</td>\n",
              "      <td>1</td>\n",
              "      <td>-73.978859</td>\n",
              "      <td>40.756721</td>\n",
              "      <td>-73.978859</td>\n",
              "      <td>40.756721</td>\n",
              "      <td>N</td>\n",
              "      <td>...</td>\n",
              "      <td>Wednesday</td>\n",
              "      <td>Wednesday</td>\n",
              "      <td>2</td>\n",
              "      <td>2</td>\n",
              "      <td>8</td>\n",
              "      <td>9</td>\n",
              "      <td>2</td>\n",
              "      <td>2</td>\n",
              "      <td>0.0</td>\n",
              "      <td>0.0</td>\n",
              "    </tr>\n",
              "    <tr>\n",
              "      <th>1456627</th>\n",
              "      <td>id1048767</td>\n",
              "      <td>2</td>\n",
              "      <td>Late night</td>\n",
              "      <td>Late night</td>\n",
              "      <td>1</td>\n",
              "      <td>-73.963554</td>\n",
              "      <td>40.768517</td>\n",
              "      <td>-73.963554</td>\n",
              "      <td>40.768517</td>\n",
              "      <td>N</td>\n",
              "      <td>...</td>\n",
              "      <td>Saturday</td>\n",
              "      <td>Saturday</td>\n",
              "      <td>5</td>\n",
              "      <td>5</td>\n",
              "      <td>22</td>\n",
              "      <td>22</td>\n",
              "      <td>2</td>\n",
              "      <td>2</td>\n",
              "      <td>0.0</td>\n",
              "      <td>0.0</td>\n",
              "    </tr>\n",
              "    <tr>\n",
              "      <th>1456989</th>\n",
              "      <td>id2595295</td>\n",
              "      <td>2</td>\n",
              "      <td>Morning</td>\n",
              "      <td>Morning</td>\n",
              "      <td>1</td>\n",
              "      <td>-73.984848</td>\n",
              "      <td>40.728222</td>\n",
              "      <td>-73.984848</td>\n",
              "      <td>40.728222</td>\n",
              "      <td>N</td>\n",
              "      <td>...</td>\n",
              "      <td>Saturday</td>\n",
              "      <td>Saturday</td>\n",
              "      <td>5</td>\n",
              "      <td>5</td>\n",
              "      <td>7</td>\n",
              "      <td>7</td>\n",
              "      <td>3</td>\n",
              "      <td>3</td>\n",
              "      <td>0.0</td>\n",
              "      <td>0.0</td>\n",
              "    </tr>\n",
              "    <tr>\n",
              "      <th>1457114</th>\n",
              "      <td>id0051314</td>\n",
              "      <td>2</td>\n",
              "      <td>Evening</td>\n",
              "      <td>Evening</td>\n",
              "      <td>1</td>\n",
              "      <td>-73.965981</td>\n",
              "      <td>40.770988</td>\n",
              "      <td>-73.965981</td>\n",
              "      <td>40.770988</td>\n",
              "      <td>N</td>\n",
              "      <td>...</td>\n",
              "      <td>Saturday</td>\n",
              "      <td>Saturday</td>\n",
              "      <td>5</td>\n",
              "      <td>5</td>\n",
              "      <td>20</td>\n",
              "      <td>20</td>\n",
              "      <td>4</td>\n",
              "      <td>4</td>\n",
              "      <td>0.0</td>\n",
              "      <td>0.0</td>\n",
              "    </tr>\n",
              "    <tr>\n",
              "      <th>1457136</th>\n",
              "      <td>id1907784</td>\n",
              "      <td>1</td>\n",
              "      <td>Evening</td>\n",
              "      <td>Evening</td>\n",
              "      <td>1</td>\n",
              "      <td>-73.966705</td>\n",
              "      <td>40.769783</td>\n",
              "      <td>-73.966705</td>\n",
              "      <td>40.769783</td>\n",
              "      <td>N</td>\n",
              "      <td>...</td>\n",
              "      <td>Friday</td>\n",
              "      <td>Friday</td>\n",
              "      <td>4</td>\n",
              "      <td>4</td>\n",
              "      <td>20</td>\n",
              "      <td>20</td>\n",
              "      <td>3</td>\n",
              "      <td>3</td>\n",
              "      <td>0.0</td>\n",
              "      <td>0.0</td>\n",
              "    </tr>\n",
              "  </tbody>\n",
              "</table>\n",
              "<p>5 rows × 21 columns</p>\n",
              "</div>\n",
              "      <button class=\"colab-df-convert\" onclick=\"convertToInteractive('df-1bbf64e0-7095-4570-b1ac-690552424810')\"\n",
              "              title=\"Convert this dataframe to an interactive table.\"\n",
              "              style=\"display:none;\">\n",
              "        \n",
              "  <svg xmlns=\"http://www.w3.org/2000/svg\" height=\"24px\"viewBox=\"0 0 24 24\"\n",
              "       width=\"24px\">\n",
              "    <path d=\"M0 0h24v24H0V0z\" fill=\"none\"/>\n",
              "    <path d=\"M18.56 5.44l.94 2.06.94-2.06 2.06-.94-2.06-.94-.94-2.06-.94 2.06-2.06.94zm-11 1L8.5 8.5l.94-2.06 2.06-.94-2.06-.94L8.5 2.5l-.94 2.06-2.06.94zm10 10l.94 2.06.94-2.06 2.06-.94-2.06-.94-.94-2.06-.94 2.06-2.06.94z\"/><path d=\"M17.41 7.96l-1.37-1.37c-.4-.4-.92-.59-1.43-.59-.52 0-1.04.2-1.43.59L10.3 9.45l-7.72 7.72c-.78.78-.78 2.05 0 2.83L4 21.41c.39.39.9.59 1.41.59.51 0 1.02-.2 1.41-.59l7.78-7.78 2.81-2.81c.8-.78.8-2.07 0-2.86zM5.41 20L4 18.59l7.72-7.72 1.47 1.35L5.41 20z\"/>\n",
              "  </svg>\n",
              "      </button>\n",
              "      \n",
              "  <style>\n",
              "    .colab-df-container {\n",
              "      display:flex;\n",
              "      flex-wrap:wrap;\n",
              "      gap: 12px;\n",
              "    }\n",
              "\n",
              "    .colab-df-convert {\n",
              "      background-color: #E8F0FE;\n",
              "      border: none;\n",
              "      border-radius: 50%;\n",
              "      cursor: pointer;\n",
              "      display: none;\n",
              "      fill: #1967D2;\n",
              "      height: 32px;\n",
              "      padding: 0 0 0 0;\n",
              "      width: 32px;\n",
              "    }\n",
              "\n",
              "    .colab-df-convert:hover {\n",
              "      background-color: #E2EBFA;\n",
              "      box-shadow: 0px 1px 2px rgba(60, 64, 67, 0.3), 0px 1px 3px 1px rgba(60, 64, 67, 0.15);\n",
              "      fill: #174EA6;\n",
              "    }\n",
              "\n",
              "    [theme=dark] .colab-df-convert {\n",
              "      background-color: #3B4455;\n",
              "      fill: #D2E3FC;\n",
              "    }\n",
              "\n",
              "    [theme=dark] .colab-df-convert:hover {\n",
              "      background-color: #434B5C;\n",
              "      box-shadow: 0px 1px 3px 1px rgba(0, 0, 0, 0.15);\n",
              "      filter: drop-shadow(0px 1px 2px rgba(0, 0, 0, 0.3));\n",
              "      fill: #FFFFFF;\n",
              "    }\n",
              "  </style>\n",
              "\n",
              "      <script>\n",
              "        const buttonEl =\n",
              "          document.querySelector('#df-1bbf64e0-7095-4570-b1ac-690552424810 button.colab-df-convert');\n",
              "        buttonEl.style.display =\n",
              "          google.colab.kernel.accessAllowed ? 'block' : 'none';\n",
              "\n",
              "        async function convertToInteractive(key) {\n",
              "          const element = document.querySelector('#df-1bbf64e0-7095-4570-b1ac-690552424810');\n",
              "          const dataTable =\n",
              "            await google.colab.kernel.invokeFunction('convertToInteractive',\n",
              "                                                     [key], {});\n",
              "          if (!dataTable) return;\n",
              "\n",
              "          const docLinkHtml = 'Like what you see? Visit the ' +\n",
              "            '<a target=\"_blank\" href=https://colab.research.google.com/notebooks/data_table.ipynb>data table notebook</a>'\n",
              "            + ' to learn more about interactive tables.';\n",
              "          element.innerHTML = '';\n",
              "          dataTable['output_type'] = 'display_data';\n",
              "          await google.colab.output.renderOutput(dataTable, element);\n",
              "          const docLink = document.createElement('div');\n",
              "          docLink.innerHTML = docLinkHtml;\n",
              "          element.appendChild(docLink);\n",
              "        }\n",
              "      </script>\n",
              "    </div>\n",
              "  </div>\n",
              "  "
            ]
          },
          "metadata": {},
          "execution_count": 43
        }
      ],
      "source": [
        "trip_df[trip_df.distance==0].tail()"
      ]
    },
    {
      "cell_type": "markdown",
      "metadata": {
        "id": "oN_gJjTTtUlE"
      },
      "source": [
        "# <B> OBSERVATION : </B>\n",
        "\n",
        "(A) We observed that distance is recorded as 0 but trip duration is definitely more.\n",
        "\n",
        "(B) dropoff coordinates weren’t recorded.\n",
        "\n",
        "(C) For short trip durations, maybe the passenger changed their mind set and cancelled the ride after some time.\n",
        " "
      ]
    },
    {
      "cell_type": "code",
      "execution_count": null,
      "metadata": {
        "colab": {
          "base_uri": "https://localhost:8080/"
        },
        "id": "gt63Lxnjh1sn",
        "outputId": "50fbf2fb-7283-4014-a3ba-873f4b2363a6"
      },
      "outputs": [
        {
          "output_type": "execute_result",
          "data": {
            "text/plain": [
              "Series([], dtype: float64)"
            ]
          },
          "metadata": {},
          "execution_count": 44
        }
      ],
      "source": [
        "trip_df.isnull().mean()[trip_df.isnull().mean() > 0]"
      ]
    },
    {
      "cell_type": "code",
      "execution_count": null,
      "metadata": {
        "colab": {
          "base_uri": "https://localhost:8080/",
          "height": 442
        },
        "id": "lsIIirDniHuu",
        "outputId": "4d8fceba-568e-4047-ccf8-0ac9c3d14cad"
      },
      "outputs": [
        {
          "output_type": "stream",
          "name": "stderr",
          "text": [
            "/usr/local/lib/python3.7/dist-packages/seaborn/_decorators.py:43: FutureWarning: Pass the following variable as a keyword arg: x. From version 0.12, the only valid positional argument will be `data`, and passing other arguments without an explicit keyword will result in an error or misinterpretation.\n",
            "  FutureWarning\n",
            "/usr/local/lib/python3.7/dist-packages/seaborn/_decorators.py:43: FutureWarning: Pass the following variable as a keyword arg: x. From version 0.12, the only valid positional argument will be `data`, and passing other arguments without an explicit keyword will result in an error or misinterpretation.\n",
            "  FutureWarning\n"
          ]
        },
        {
          "output_type": "execute_result",
          "data": {
            "text/plain": [
              "<matplotlib.axes._subplots.AxesSubplot at 0x7ff40e0b59d0>"
            ]
          },
          "metadata": {},
          "execution_count": 45
        },
        {
          "output_type": "display_data",
          "data": {
            "text/plain": [
              "<Figure size 720x360 with 2 Axes>"
            ],
            "image/png": "[encoded data removed]"
          },
          "metadata": {
            "needs_background": "light"
          }
        }
      ],
      "source": [
        "fig, axes = plt.subplots(1,2,figsize=(10,5))\n",
        "sns.boxplot(trip_df['trip_duration'], ax=axes[0])\n",
        "sns.barplot(trip_df['distance'], ax=axes[1])"
      ]
    },
    {
      "cell_type": "code",
      "execution_count": null,
      "metadata": {
        "colab": {
          "base_uri": "https://localhost:8080/",
          "height": 296
        },
        "id": "Rw8UzjaqirFg",
        "outputId": "577c900f-455f-4494-a916-115a6e90e07d"
      },
      "outputs": [
        {
          "output_type": "display_data",
          "data": {
            "text/plain": [
              "<Figure size 432x288 with 1 Axes>"
            ],
            "image/png": "[encoded data removed]"
          },
          "metadata": {
            "needs_background": "light"
          }
        }
      ],
      "source": [
        "# Look at relationship between passenger_count & trip_duration\n",
        "plt.plot(trip_df['passenger_count'], trip_df['trip_duration'], alpha=0.5)\n",
        "plt.title('Plot of passenger_count with trip_duration')\n",
        "plt.xlabel('passenger_count')\n",
        "plt.ylabel('trip_duration')\n",
        "plt.show()"
      ]
    },
    {
      "cell_type": "code",
      "execution_count": null,
      "metadata": {
        "colab": {
          "base_uri": "https://localhost:8080/",
          "height": 297
        },
        "id": "K_gpLE63jVw_",
        "outputId": "c276d8ad-dcb2-4b56-c000-b65970c44488"
      },
      "outputs": [
        {
          "output_type": "execute_result",
          "data": {
            "text/plain": [
              "<matplotlib.axes._subplots.AxesSubplot at 0x7ff41d4c7a10>"
            ]
          },
          "metadata": {},
          "execution_count": 47
        },
        {
          "output_type": "display_data",
          "data": {
            "text/plain": [
              "<Figure size 432x288 with 1 Axes>"
            ],
            "image/png": "[encoded data removed]"
          },
          "metadata": {
            "needs_background": "light"
          }
        }
      ],
      "source": [
        "# Moving towards Target varibale i.e trip_duration\n",
        "sns.countplot(x='trip_duration',data=trip_df)"
      ]
    },
    {
      "cell_type": "code",
      "execution_count": null,
      "metadata": {
        "colab": {
          "base_uri": "https://localhost:8080/"
        },
        "id": "LFiqwA5Z7R8I",
        "outputId": "fd53205d-6506-4e06-97cc-9474127989a9"
      },
      "outputs": [
        {
          "output_type": "stream",
          "name": "stdout",
          "text": [
            "                id  vendor_id pickup_datetime dropoff_datetime  \\\n",
            "0        id2875421          2         Evening          Evening   \n",
            "1        id2377394          1      Late night       Late night   \n",
            "2        id3858529          2         Morning        Afternoon   \n",
            "3        id3504673          2         Evening          Evening   \n",
            "4        id2181028          2       Afternoon        Afternoon   \n",
            "...            ...        ...             ...              ...   \n",
            "1458639  id2376096          2       Afternoon        Afternoon   \n",
            "1458640  id1049543          1         Morning          Morning   \n",
            "1458641  id2304944          2         Morning          Morning   \n",
            "1458642  id2714485          1       Afternoon          Evening   \n",
            "1458643  id1209952          1       Afternoon        Afternoon   \n",
            "\n",
            "         passenger_count  pickup_longitude  pickup_latitude  \\\n",
            "0                      1        -73.982155        40.767937   \n",
            "1                      1        -73.980415        40.738564   \n",
            "2                      1        -73.979027        40.763939   \n",
            "3                      1        -74.010040        40.719971   \n",
            "4                      1        -73.973053        40.793209   \n",
            "...                  ...               ...              ...   \n",
            "1458639                4        -73.982201        40.745522   \n",
            "1458640                1        -74.000946        40.747379   \n",
            "1458641                1        -73.959129        40.768799   \n",
            "1458642                1        -73.982079        40.749062   \n",
            "1458643                1        -73.979538        40.781750   \n",
            "\n",
            "         dropoff_longitude  dropoff_latitude store_and_fwd_flag  ...  \\\n",
            "0               -73.964630         40.765602                  N  ...   \n",
            "1               -73.999481         40.731152                  N  ...   \n",
            "2               -74.005333         40.710087                  N  ...   \n",
            "3               -74.012268         40.706718                  N  ...   \n",
            "4               -73.972923         40.782520                  N  ...   \n",
            "...                    ...               ...                ...  ...   \n",
            "1458639         -73.994911         40.740170                  N  ...   \n",
            "1458640         -73.970184         40.796547                  N  ...   \n",
            "1458641         -74.004433         40.707371                  N  ...   \n",
            "1458642         -73.974632         40.757107                  N  ...   \n",
            "1458643         -73.972809         40.790585                  N  ...   \n",
            "\n",
            "         pickup_day dropoff_day pickup_day_no  dropoff_day_no  pickup_hour  \\\n",
            "0            Monday      Monday             0               0           17   \n",
            "1            Sunday      Sunday             6               6            0   \n",
            "2           Tuesday     Tuesday             1               1           11   \n",
            "3         Wednesday   Wednesday             2               2           19   \n",
            "4          Saturday    Saturday             5               5           13   \n",
            "...             ...         ...           ...             ...          ...   \n",
            "1458639      Friday      Friday             4               4           13   \n",
            "1458640      Sunday      Sunday             6               6            7   \n",
            "1458641      Friday      Friday             4               4            6   \n",
            "1458642     Tuesday     Tuesday             1               1           15   \n",
            "1458643     Tuesday     Tuesday             1               1           14   \n",
            "\n",
            "         dropoff_hour  pickup_month  dropoff_month  distance      speed  \n",
            "0                  17             3              3  1.498523  11.856445  \n",
            "1                   0             6              6  1.805510   9.803673  \n",
            "2                  12             1              1  6.385108  10.822216  \n",
            "3                  19             4              4  1.485501  12.465739  \n",
            "4                  13             3              3  1.188590   9.836608  \n",
            "...               ...           ...            ...       ...        ...  \n",
            "1458639            13             4              4  1.225082   5.668759  \n",
            "1458640             7             1              1  6.049844  33.251052  \n",
            "1458641             7             4              4  7.824617  36.869922  \n",
            "1458642            16             1              1  1.092565  10.544867  \n",
            "1458643            14             4              4  1.134044  20.618974  \n",
            "\n",
            "[1458643 rows x 21 columns]\n"
          ]
        }
      ],
      "source": [
        "# The value can be replaced by the mode or median of trip duration as well.\n",
        "replace=trip_df[trip_df.trip_duration!=trip_df.trip_duration.max()]\n",
        "print(replace)"
      ]
    },
    {
      "cell_type": "code",
      "execution_count": null,
      "metadata": {
        "colab": {
          "base_uri": "https://localhost:8080/"
        },
        "id": "j05SILje74Ef",
        "outputId": "c7f555a7-936a-4607-da99-312bf58612f3"
      },
      "outputs": [
        {
          "output_type": "stream",
          "name": "stdout",
          "text": [
            "0           < 5\n",
            "1           < 5\n",
            "2          5-10\n",
            "3           < 5\n",
            "4           < 5\n",
            "           ... \n",
            "1458639     < 5\n",
            "1458640     < 5\n",
            "1458641     < 5\n",
            "1458642     < 5\n",
            "1458643     < 5\n",
            "Name: duration_time, Length: 1458644, dtype: category\n",
            "Categories (5, object): ['< 5' < '5-10' < '10-15' < '15-20' < '>20']\n"
          ]
        }
      ],
      "source": [
        "# The intervals are decided as follows:\n",
        "# less than 5 hours\n",
        "# 5–10 hours\n",
        "# 10–15 hours\n",
        "# 15–20 hours\n",
        "# more than 20 hours\n",
        "bins=np.array([0,1800,3600,5400,7200,90000])\n",
        "trip_df['duration_time']=pd.cut(trip_df.trip_duration,bins,labels=[\"< 5\", \"5-10\", \"10-15\",\"15-20\",\">20\"])\n",
        "print(trip_df['duration_time'])"
      ]
    },
    {
      "cell_type": "code",
      "execution_count": null,
      "metadata": {
        "colab": {
          "base_uri": "https://localhost:8080/",
          "height": 369
        },
        "id": "2hvW14d_-XC1",
        "outputId": "8812cd22-87e4-4f09-e4f5-bc9112792dc4"
      },
      "outputs": [
        {
          "output_type": "display_data",
          "data": {
            "text/plain": [
              "<Figure size 720x360 with 1 Axes>"
            ],
            "image/png": "[encoded data removed]"
          },
          "metadata": {
            "needs_background": "light"
          }
        }
      ],
      "source": [
        "plt.figure(figsize = (10,5))\n",
        "trip_df.speed.groupby(pd.cut(trip_df.speed, np.arange(0,104,10))).count().plot(kind = 'bar')\n",
        "plt.ylabel('Trip count')\n",
        "plt.xlabel('Speed (Km/H)')\n",
        "plt.show()"
      ]
    },
    {
      "cell_type": "code",
      "execution_count": null,
      "metadata": {
        "colab": {
          "base_uri": "https://localhost:8080/",
          "height": 299
        },
        "id": "HKrA-p3R_pL6",
        "outputId": "f3fbdce0-5c5f-4d6d-bec7-029b3946350e"
      },
      "outputs": [
        {
          "output_type": "execute_result",
          "data": {
            "text/plain": [
              "          id  vendor_id pickup_datetime dropoff_datetime  passenger_count  \\\n",
              "0  id2875421          2         Evening          Evening                1   \n",
              "1  id2377394          1      Late night       Late night                1   \n",
              "2  id3858529          2         Morning        Afternoon                1   \n",
              "3  id3504673          2         Evening          Evening                1   \n",
              "4  id2181028          2       Afternoon        Afternoon                1   \n",
              "\n",
              "   pickup_longitude  pickup_latitude  dropoff_longitude  dropoff_latitude  \\\n",
              "0        -73.982155        40.767937         -73.964630         40.765602   \n",
              "1        -73.980415        40.738564         -73.999481         40.731152   \n",
              "2        -73.979027        40.763939         -74.005333         40.710087   \n",
              "3        -74.010040        40.719971         -74.012268         40.706718   \n",
              "4        -73.973053        40.793209         -73.972923         40.782520   \n",
              "\n",
              "  store_and_fwd_flag  ...  dropoff_day pickup_day_no dropoff_day_no  \\\n",
              "0                  N  ...       Monday             0              0   \n",
              "1                  N  ...       Sunday             6              6   \n",
              "2                  N  ...      Tuesday             1              1   \n",
              "3                  N  ...    Wednesday             2              2   \n",
              "4                  N  ...     Saturday             5              5   \n",
              "\n",
              "   pickup_hour  dropoff_hour  pickup_month  dropoff_month  distance  \\\n",
              "0           17            17             3              3  1.498523   \n",
              "1            0             0             6              6  1.805510   \n",
              "2           11            12             1              1  6.385108   \n",
              "3           19            19             4              4  1.485501   \n",
              "4           13            13             3              3  1.188590   \n",
              "\n",
              "       speed  duration_time  \n",
              "0  11.856445            < 5  \n",
              "1   9.803673            < 5  \n",
              "2  10.822216           5-10  \n",
              "3  12.465739            < 5  \n",
              "4   9.836608            < 5  \n",
              "\n",
              "[5 rows x 22 columns]"
            ],
            "text/html": [
              "\n",
              "  <div id=\"df-da701844-63e2-453a-8f8c-6fa460c14124\">\n",
              "    <div class=\"colab-df-container\">\n",
              "      <div>\n",
              "<style scoped>\n",
              "    .dataframe tbody tr th:only-of-type {\n",
              "        vertical-align: middle;\n",
              "    }\n",
              "\n",
              "    .dataframe tbody tr th {\n",
              "        vertical-align: top;\n",
              "    }\n",
              "\n",
              "    .dataframe thead th {\n",
              "        text-align: right;\n",
              "    }\n",
              "</style>\n",
              "<table border=\"1\" class=\"dataframe\">\n",
              "  <thead>\n",
              "    <tr style=\"text-align: right;\">\n",
              "      <th></th>\n",
              "      <th>id</th>\n",
              "      <th>vendor_id</th>\n",
              "      <th>pickup_datetime</th>\n",
              "      <th>dropoff_datetime</th>\n",
              "      <th>passenger_count</th>\n",
              "      <th>pickup_longitude</th>\n",
              "      <th>pickup_latitude</th>\n",
              "      <th>dropoff_longitude</th>\n",
              "      <th>dropoff_latitude</th>\n",
              "      <th>store_and_fwd_flag</th>\n",
              "      <th>...</th>\n",
              "      <th>dropoff_day</th>\n",
              "      <th>pickup_day_no</th>\n",
              "      <th>dropoff_day_no</th>\n",
              "      <th>pickup_hour</th>\n",
              "      <th>dropoff_hour</th>\n",
              "      <th>pickup_month</th>\n",
              "      <th>dropoff_month</th>\n",
              "      <th>distance</th>\n",
              "      <th>speed</th>\n",
              "      <th>duration_time</th>\n",
              "    </tr>\n",
              "  </thead>\n",
              "  <tbody>\n",
              "    <tr>\n",
              "      <th>0</th>\n",
              "      <td>id2875421</td>\n",
              "      <td>2</td>\n",
              "      <td>Evening</td>\n",
              "      <td>Evening</td>\n",
              "      <td>1</td>\n",
              "      <td>-73.982155</td>\n",
              "      <td>40.767937</td>\n",
              "      <td>-73.964630</td>\n",
              "      <td>40.765602</td>\n",
              "      <td>N</td>\n",
              "      <td>...</td>\n",
              "      <td>Monday</td>\n",
              "      <td>0</td>\n",
              "      <td>0</td>\n",
              "      <td>17</td>\n",
              "      <td>17</td>\n",
              "      <td>3</td>\n",
              "      <td>3</td>\n",
              "      <td>1.498523</td>\n",
              "      <td>11.856445</td>\n",
              "      <td>&lt; 5</td>\n",
              "    </tr>\n",
              "    <tr>\n",
              "      <th>1</th>\n",
              "      <td>id2377394</td>\n",
              "      <td>1</td>\n",
              "      <td>Late night</td>\n",
              "      <td>Late night</td>\n",
              "      <td>1</td>\n",
              "      <td>-73.980415</td>\n",
              "      <td>40.738564</td>\n",
              "      <td>-73.999481</td>\n",
              "      <td>40.731152</td>\n",
              "      <td>N</td>\n",
              "      <td>...</td>\n",
              "      <td>Sunday</td>\n",
              "      <td>6</td>\n",
              "      <td>6</td>\n",
              "      <td>0</td>\n",
              "      <td>0</td>\n",
              "      <td>6</td>\n",
              "      <td>6</td>\n",
              "      <td>1.805510</td>\n",
              "      <td>9.803673</td>\n",
              "      <td>&lt; 5</td>\n",
              "    </tr>\n",
              "    <tr>\n",
              "      <th>2</th>\n",
              "      <td>id3858529</td>\n",
              "      <td>2</td>\n",
              "      <td>Morning</td>\n",
              "      <td>Afternoon</td>\n",
              "      <td>1</td>\n",
              "      <td>-73.979027</td>\n",
              "      <td>40.763939</td>\n",
              "      <td>-74.005333</td>\n",
              "      <td>40.710087</td>\n",
              "      <td>N</td>\n",
              "      <td>...</td>\n",
              "      <td>Tuesday</td>\n",
              "      <td>1</td>\n",
              "      <td>1</td>\n",
              "      <td>11</td>\n",
              "      <td>12</td>\n",
              "      <td>1</td>\n",
              "      <td>1</td>\n",
              "      <td>6.385108</td>\n",
              "      <td>10.822216</td>\n",
              "      <td>5-10</td>\n",
              "    </tr>\n",
              "    <tr>\n",
              "      <th>3</th>\n",
              "      <td>id3504673</td>\n",
              "      <td>2</td>\n",
              "      <td>Evening</td>\n",
              "      <td>Evening</td>\n",
              "      <td>1</td>\n",
              "      <td>-74.010040</td>\n",
              "      <td>40.719971</td>\n",
              "      <td>-74.012268</td>\n",
              "      <td>40.706718</td>\n",
              "      <td>N</td>\n",
              "      <td>...</td>\n",
              "      <td>Wednesday</td>\n",
              "      <td>2</td>\n",
              "      <td>2</td>\n",
              "      <td>19</td>\n",
              "      <td>19</td>\n",
              "      <td>4</td>\n",
              "      <td>4</td>\n",
              "      <td>1.485501</td>\n",
              "      <td>12.465739</td>\n",
              "      <td>&lt; 5</td>\n",
              "    </tr>\n",
              "    <tr>\n",
              "      <th>4</th>\n",
              "      <td>id2181028</td>\n",
              "      <td>2</td>\n",
              "      <td>Afternoon</td>\n",
              "      <td>Afternoon</td>\n",
              "      <td>1</td>\n",
              "      <td>-73.973053</td>\n",
              "      <td>40.793209</td>\n",
              "      <td>-73.972923</td>\n",
              "      <td>40.782520</td>\n",
              "      <td>N</td>\n",
              "      <td>...</td>\n",
              "      <td>Saturday</td>\n",
              "      <td>5</td>\n",
              "      <td>5</td>\n",
              "      <td>13</td>\n",
              "      <td>13</td>\n",
              "      <td>3</td>\n",
              "      <td>3</td>\n",
              "      <td>1.188590</td>\n",
              "      <td>9.836608</td>\n",
              "      <td>&lt; 5</td>\n",
              "    </tr>\n",
              "  </tbody>\n",
              "</table>\n",
              "<p>5 rows × 22 columns</p>\n",
              "</div>\n",
              "      <button class=\"colab-df-convert\" onclick=\"convertToInteractive('df-da701844-63e2-453a-8f8c-6fa460c14124')\"\n",
              "              title=\"Convert this dataframe to an interactive table.\"\n",
              "              style=\"display:none;\">\n",
              "        \n",
              "  <svg xmlns=\"http://www.w3.org/2000/svg\" height=\"24px\"viewBox=\"0 0 24 24\"\n",
              "       width=\"24px\">\n",
              "    <path d=\"M0 0h24v24H0V0z\" fill=\"none\"/>\n",
              "    <path d=\"M18.56 5.44l.94 2.06.94-2.06 2.06-.94-2.06-.94-.94-2.06-.94 2.06-2.06.94zm-11 1L8.5 8.5l.94-2.06 2.06-.94-2.06-.94L8.5 2.5l-.94 2.06-2.06.94zm10 10l.94 2.06.94-2.06 2.06-.94-2.06-.94-.94-2.06-.94 2.06-2.06.94z\"/><path d=\"M17.41 7.96l-1.37-1.37c-.4-.4-.92-.59-1.43-.59-.52 0-1.04.2-1.43.59L10.3 9.45l-7.72 7.72c-.78.78-.78 2.05 0 2.83L4 21.41c.39.39.9.59 1.41.59.51 0 1.02-.2 1.41-.59l7.78-7.78 2.81-2.81c.8-.78.8-2.07 0-2.86zM5.41 20L4 18.59l7.72-7.72 1.47 1.35L5.41 20z\"/>\n",
              "  </svg>\n",
              "      </button>\n",
              "      \n",
              "  <style>\n",
              "    .colab-df-container {\n",
              "      display:flex;\n",
              "      flex-wrap:wrap;\n",
              "      gap: 12px;\n",
              "    }\n",
              "\n",
              "    .colab-df-convert {\n",
              "      background-color: #E8F0FE;\n",
              "      border: none;\n",
              "      border-radius: 50%;\n",
              "      cursor: pointer;\n",
              "      display: none;\n",
              "      fill: #1967D2;\n",
              "      height: 32px;\n",
              "      padding: 0 0 0 0;\n",
              "      width: 32px;\n",
              "    }\n",
              "\n",
              "    .colab-df-convert:hover {\n",
              "      background-color: #E2EBFA;\n",
              "      box-shadow: 0px 1px 2px rgba(60, 64, 67, 0.3), 0px 1px 3px 1px rgba(60, 64, 67, 0.15);\n",
              "      fill: #174EA6;\n",
              "    }\n",
              "\n",
              "    [theme=dark] .colab-df-convert {\n",
              "      background-color: #3B4455;\n",
              "      fill: #D2E3FC;\n",
              "    }\n",
              "\n",
              "    [theme=dark] .colab-df-convert:hover {\n",
              "      background-color: #434B5C;\n",
              "      box-shadow: 0px 1px 3px 1px rgba(0, 0, 0, 0.15);\n",
              "      filter: drop-shadow(0px 1px 2px rgba(0, 0, 0, 0.3));\n",
              "      fill: #FFFFFF;\n",
              "    }\n",
              "  </style>\n",
              "\n",
              "      <script>\n",
              "        const buttonEl =\n",
              "          document.querySelector('#df-da701844-63e2-453a-8f8c-6fa460c14124 button.colab-df-convert');\n",
              "        buttonEl.style.display =\n",
              "          google.colab.kernel.accessAllowed ? 'block' : 'none';\n",
              "\n",
              "        async function convertToInteractive(key) {\n",
              "          const element = document.querySelector('#df-da701844-63e2-453a-8f8c-6fa460c14124');\n",
              "          const dataTable =\n",
              "            await google.colab.kernel.invokeFunction('convertToInteractive',\n",
              "                                                     [key], {});\n",
              "          if (!dataTable) return;\n",
              "\n",
              "          const docLinkHtml = 'Like what you see? Visit the ' +\n",
              "            '<a target=\"_blank\" href=https://colab.research.google.com/notebooks/data_table.ipynb>data table notebook</a>'\n",
              "            + ' to learn more about interactive tables.';\n",
              "          element.innerHTML = '';\n",
              "          dataTable['output_type'] = 'display_data';\n",
              "          await google.colab.output.renderOutput(dataTable, element);\n",
              "          const docLink = document.createElement('div');\n",
              "          docLink.innerHTML = docLinkHtml;\n",
              "          element.appendChild(docLink);\n",
              "        }\n",
              "      </script>\n",
              "    </div>\n",
              "  </div>\n",
              "  "
            ]
          },
          "metadata": {},
          "execution_count": 51
        }
      ],
      "source": [
        "trip_df.head()"
      ]
    },
    {
      "cell_type": "code",
      "execution_count": null,
      "metadata": {
        "colab": {
          "base_uri": "https://localhost:8080/"
        },
        "id": "ekEvxDXX_6sq",
        "outputId": "310b6f62-7092-4ccf-d0ab-0d1720404bef"
      },
      "outputs": [
        {
          "output_type": "stream",
          "name": "stdout",
          "text": [
            "<class 'pandas.core.frame.DataFrame'>\n",
            "RangeIndex: 1458644 entries, 0 to 1458643\n",
            "Data columns (total 22 columns):\n",
            " #   Column              Non-Null Count    Dtype   \n",
            "---  ------              --------------    -----   \n",
            " 0   id                  1458644 non-null  object  \n",
            " 1   vendor_id           1458644 non-null  int64   \n",
            " 2   pickup_datetime     1458644 non-null  object  \n",
            " 3   dropoff_datetime    1458644 non-null  object  \n",
            " 4   passenger_count     1458644 non-null  int64   \n",
            " 5   pickup_longitude    1458644 non-null  float64 \n",
            " 6   pickup_latitude     1458644 non-null  float64 \n",
            " 7   dropoff_longitude   1458644 non-null  float64 \n",
            " 8   dropoff_latitude    1458644 non-null  float64 \n",
            " 9   store_and_fwd_flag  1458644 non-null  object  \n",
            " 10  trip_duration       1458644 non-null  int64   \n",
            " 11  pickup_day          1458644 non-null  object  \n",
            " 12  dropoff_day         1458644 non-null  object  \n",
            " 13  pickup_day_no       1458644 non-null  int64   \n",
            " 14  dropoff_day_no      1458644 non-null  int64   \n",
            " 15  pickup_hour         1458644 non-null  int64   \n",
            " 16  dropoff_hour        1458644 non-null  int64   \n",
            " 17  pickup_month        1458644 non-null  int64   \n",
            " 18  dropoff_month       1458644 non-null  int64   \n",
            " 19  distance            1458644 non-null  float64 \n",
            " 20  speed               1458644 non-null  float64 \n",
            " 21  duration_time       1458640 non-null  category\n",
            "dtypes: category(1), float64(6), int64(9), object(6)\n",
            "memory usage: 235.1+ MB\n"
          ]
        }
      ],
      "source": [
        "trip_df.info()"
      ]
    },
    {
      "cell_type": "markdown",
      "metadata": {
        "id": "KGSa_x2XAKW3"
      },
      "source": [
        "# <B> Correlation Analysis"
      ]
    },
    {
      "cell_type": "code",
      "execution_count": null,
      "metadata": {
        "colab": {
          "base_uri": "https://localhost:8080/",
          "height": 1000
        },
        "id": "3Rh4LvqYAD4H",
        "outputId": "a3842c8c-0415-4661-da93-832b1753cede"
      },
      "outputs": [
        {
          "output_type": "execute_result",
          "data": {
            "text/plain": [
              "<matplotlib.axes._subplots.AxesSubplot at 0x7f696159d3d0>"
            ]
          },
          "metadata": {},
          "execution_count": 35
        },
        {
          "output_type": "display_data",
          "data": {
            "text/plain": [
              "<Figure size 1440x1440 with 2 Axes>"
            ],
            "image/png": "[encoded data removed]"
          },
          "metadata": {
            "needs_background": "light"
          }
        }
      ],
      "source": [
        "plt.figure (figsize= (20,20))\n",
        "corelation= trip_df.corr()\n",
        "sns.heatmap(abs(corelation), annot=True, cmap='coolwarm')"
      ]
    },
    {
      "cell_type": "markdown",
      "metadata": {
        "id": "NmcVu99cAfYU"
      },
      "source": [
        "# <B> OBSERVATION : </B> <h6>\n",
        "(A) they do not affect the target varible i.e. trip_duration_hour much. Hece we should remove these features from our dataset.\n",
        "\n",
        "(B) At the same time vendor_id doesn't affect much either so we can remove that as well.\n"
      ]
    },
    {
      "cell_type": "code",
      "execution_count": null,
      "metadata": {
        "id": "Gn2jlgQmA3oY"
      },
      "outputs": [],
      "source": [
        "data=trip_df.drop(['vendor_id'], axis=1)"
      ]
    },
    {
      "cell_type": "markdown",
      "metadata": {
        "id": "LvFxO3h3CRK9"
      },
      "source": [
        "LET'S CHECK NUMERICAL VALUE or DATA"
      ]
    },
    {
      "cell_type": "code",
      "execution_count": null,
      "metadata": {
        "id": "HIQn6JEuCWGk"
      },
      "outputs": [],
      "source": [
        "numeric_features= trip_df.describe().columns"
      ]
    },
    {
      "cell_type": "code",
      "execution_count": null,
      "metadata": {
        "colab": {
          "base_uri": "https://localhost:8080/"
        },
        "id": "B7r8UIeLCoQh",
        "outputId": "875a22fa-ef13-4dd7-b289-28ebfad9f9e7"
      },
      "outputs": [
        {
          "output_type": "stream",
          "name": "stdout",
          "text": [
            "['vendor_id', 'passenger_count', 'pickup_longitude', 'pickup_latitude', 'dropoff_longitude', 'dropoff_latitude', 'trip_duration', 'pickup_day_no', 'dropoff_day_no', 'pickup_hour', 'dropoff_hour', 'pickup_month', 'dropoff_month', 'distance']\n",
            "The length of features 14\n"
          ]
        }
      ],
      "source": [
        "features= numeric_features.copy()\n",
        "features= list(features)\n",
        "features= features[:-1]\n",
        "print(list(features))\n",
        "print(f'The length of features {len(features)}')"
      ]
    },
    {
      "cell_type": "code",
      "execution_count": null,
      "metadata": {
        "id": "TqgrFx1jEGbE"
      },
      "outputs": [],
      "source": [
        "from scipy.stats import zscore\n",
        "X = trip_df[features].apply(zscore)[:]  "
      ]
    },
    {
      "cell_type": "code",
      "execution_count": null,
      "metadata": {
        "id": "rWzRxSN_EcC8",
        "colab": {
          "base_uri": "https://localhost:8080/"
        },
        "outputId": "9e59512b-bada-48cc-8afc-4b6f51fe509d"
      },
      "outputs": [
        {
          "output_type": "execute_result",
          "data": {
            "text/plain": [
              "0         -0.898291\n",
              "1         -0.734789\n",
              "2         -0.229148\n",
              "3         -0.923845\n",
              "4         -0.917813\n",
              "             ...   \n",
              "1458639   -0.665323\n",
              "1458640   -0.740061\n",
              "1458641   -0.673209\n",
              "1458642   -0.984594\n",
              "1458643   -1.259637\n",
              "Name: trip_duration_hour, Length: 1458644, dtype: float64"
            ]
          },
          "metadata": {},
          "execution_count": 57
        }
      ],
      "source": [
        " trip_df['trip_duration_hour']=trip_df['trip_duration']/3600\n",
        " y = np.log10(trip_df['trip_duration_hour'])[:]\n",
        " y"
      ]
    },
    {
      "cell_type": "code",
      "execution_count": null,
      "metadata": {
        "colab": {
          "base_uri": "https://localhost:8080/"
        },
        "id": "aHAzY7PNqrAU",
        "outputId": "69998800-9a89-4e2b-9138-5f515ebf9b70"
      },
      "outputs": [
        {
          "output_type": "stream",
          "name": "stdout",
          "text": [
            "(1166915, 14) (291729, 14) (1166915,) (291729,)\n"
          ]
        }
      ],
      "source": [
        "# Splitting the dataset into the Training set and Test set\n",
        "X_train, X_test, y_train, y_test = train_test_split(X, y, test_size = 0.2, random_state = 0)\n",
        "print(X_train.shape, X_test.shape, y_train.shape, y_test.shape)"
      ]
    },
    {
      "cell_type": "code",
      "execution_count": null,
      "metadata": {
        "colab": {
          "base_uri": "https://localhost:8080/",
          "height": 427
        },
        "id": "kdV3niDns8rD",
        "outputId": "354eb164-95aa-4b0c-9c70-085946222431"
      },
      "outputs": [
        {
          "output_type": "execute_result",
          "data": {
            "text/plain": [
              "         vendor_id  passenger_count  pickup_longitude  pickup_latitude  \\\n",
              "599669   -1.072524        -0.505637          0.032582         0.229661   \n",
              "1224682   0.932380        -0.505637         -0.270756        -1.124577   \n",
              "78001    -1.072524        -0.505637         -0.447659        -0.848231   \n",
              "990137   -1.072524        -0.505637         -0.256767         0.114227   \n",
              "498353    0.932380        -0.505637          0.293955         0.654855   \n",
              "165559   -1.072524         1.016153         -0.212972         0.395562   \n",
              "1382058  -1.072524        -0.505637          0.319458        -0.829320   \n",
              "950885    0.932380         1.777048         -0.168531        -0.732448   \n",
              "595547   -1.072524        -0.505637         -0.292600         0.008189   \n",
              "1197820   0.932380         2.537943         -0.329401        -0.417004   \n",
              "\n",
              "         dropoff_longitude  dropoff_latitude  trip_duration  pickup_day_no  \\\n",
              "599669            0.016910          0.125872      -0.168497      -1.049301   \n",
              "1224682          -0.183320         -0.822845      -0.122864      -0.537541   \n",
              "78001            -0.059661          0.730220       0.060432      -0.537541   \n",
              "990137           -0.119493         -0.149411      -0.097470      -1.561062   \n",
              "498353           -0.046053          0.806428      -0.072267      -0.025780   \n",
              "165559           -0.199412          0.237367      -0.149977      -0.025780   \n",
              "1382058           0.218868         -0.950921      -0.151504      -1.049301   \n",
              "950885            0.000386         -0.217966      -0.108162      -0.025780   \n",
              "595547           -0.084825          0.839270      -0.069594       1.509502   \n",
              "1197820           0.209040         -0.798506       0.048403       0.997741   \n",
              "\n",
              "         dropoff_day_no  pickup_hour  dropoff_hour  pickup_month  \\\n",
              "599669        -1.049997    -0.719798     -0.709304     -0.902311   \n",
              "1224682       -0.538906     1.311550      1.295730      0.882302   \n",
              "78001         -0.538906     1.155293      1.141497      1.477173   \n",
              "990137        -1.561088    -0.876055     -0.863538     -0.902311   \n",
              "498353        -0.027814     0.999035      0.987263     -0.902311   \n",
              "165559        -0.027814     0.061490      0.061863     -0.902311   \n",
              "1382058       -1.049997     1.311550      1.295730      1.477173   \n",
              "950885        -0.027814     1.311550      1.449963      0.287431   \n",
              "595547         1.505459     0.217747      0.370330     -0.307440   \n",
              "1197820        0.994368    -1.969858     -1.788938     -0.307440   \n",
              "\n",
              "         dropoff_month  distance  \n",
              "599669       -0.902429 -0.741422  \n",
              "1224682       0.881993 -0.552332  \n",
              "78001         1.476800  0.721369  \n",
              "990137       -0.902429 -0.513359  \n",
              "498353       -0.902429 -0.283434  \n",
              "165559       -0.902429 -0.705068  \n",
              "1382058       1.476800 -0.592382  \n",
              "950885        0.287186 -0.298288  \n",
              "595547       -0.307621  0.045897  \n",
              "1197820      -0.307621  0.031984  "
            ],
            "text/html": [
              "\n",
              "  <div id=\"df-82dec73a-c395-4322-8c0b-ad0e197ea38e\">\n",
              "    <div class=\"colab-df-container\">\n",
              "      <div>\n",
              "<style scoped>\n",
              "    .dataframe tbody tr th:only-of-type {\n",
              "        vertical-align: middle;\n",
              "    }\n",
              "\n",
              "    .dataframe tbody tr th {\n",
              "        vertical-align: top;\n",
              "    }\n",
              "\n",
              "    .dataframe thead th {\n",
              "        text-align: right;\n",
              "    }\n",
              "</style>\n",
              "<table border=\"1\" class=\"dataframe\">\n",
              "  <thead>\n",
              "    <tr style=\"text-align: right;\">\n",
              "      <th></th>\n",
              "      <th>vendor_id</th>\n",
              "      <th>passenger_count</th>\n",
              "      <th>pickup_longitude</th>\n",
              "      <th>pickup_latitude</th>\n",
              "      <th>dropoff_longitude</th>\n",
              "      <th>dropoff_latitude</th>\n",
              "      <th>trip_duration</th>\n",
              "      <th>pickup_day_no</th>\n",
              "      <th>dropoff_day_no</th>\n",
              "      <th>pickup_hour</th>\n",
              "      <th>dropoff_hour</th>\n",
              "      <th>pickup_month</th>\n",
              "      <th>dropoff_month</th>\n",
              "      <th>distance</th>\n",
              "    </tr>\n",
              "  </thead>\n",
              "  <tbody>\n",
              "    <tr>\n",
              "      <th>599669</th>\n",
              "      <td>-1.072524</td>\n",
              "      <td>-0.505637</td>\n",
              "      <td>0.032582</td>\n",
              "      <td>0.229661</td>\n",
              "      <td>0.016910</td>\n",
              "      <td>0.125872</td>\n",
              "      <td>-0.168497</td>\n",
              "      <td>-1.049301</td>\n",
              "      <td>-1.049997</td>\n",
              "      <td>-0.719798</td>\n",
              "      <td>-0.709304</td>\n",
              "      <td>-0.902311</td>\n",
              "      <td>-0.902429</td>\n",
              "      <td>-0.741422</td>\n",
              "    </tr>\n",
              "    <tr>\n",
              "      <th>1224682</th>\n",
              "      <td>0.932380</td>\n",
              "      <td>-0.505637</td>\n",
              "      <td>-0.270756</td>\n",
              "      <td>-1.124577</td>\n",
              "      <td>-0.183320</td>\n",
              "      <td>-0.822845</td>\n",
              "      <td>-0.122864</td>\n",
              "      <td>-0.537541</td>\n",
              "      <td>-0.538906</td>\n",
              "      <td>1.311550</td>\n",
              "      <td>1.295730</td>\n",
              "      <td>0.882302</td>\n",
              "      <td>0.881993</td>\n",
              "      <td>-0.552332</td>\n",
              "    </tr>\n",
              "    <tr>\n",
              "      <th>78001</th>\n",
              "      <td>-1.072524</td>\n",
              "      <td>-0.505637</td>\n",
              "      <td>-0.447659</td>\n",
              "      <td>-0.848231</td>\n",
              "      <td>-0.059661</td>\n",
              "      <td>0.730220</td>\n",
              "      <td>0.060432</td>\n",
              "      <td>-0.537541</td>\n",
              "      <td>-0.538906</td>\n",
              "      <td>1.155293</td>\n",
              "      <td>1.141497</td>\n",
              "      <td>1.477173</td>\n",
              "      <td>1.476800</td>\n",
              "      <td>0.721369</td>\n",
              "    </tr>\n",
              "    <tr>\n",
              "      <th>990137</th>\n",
              "      <td>-1.072524</td>\n",
              "      <td>-0.505637</td>\n",
              "      <td>-0.256767</td>\n",
              "      <td>0.114227</td>\n",
              "      <td>-0.119493</td>\n",
              "      <td>-0.149411</td>\n",
              "      <td>-0.097470</td>\n",
              "      <td>-1.561062</td>\n",
              "      <td>-1.561088</td>\n",
              "      <td>-0.876055</td>\n",
              "      <td>-0.863538</td>\n",
              "      <td>-0.902311</td>\n",
              "      <td>-0.902429</td>\n",
              "      <td>-0.513359</td>\n",
              "    </tr>\n",
              "    <tr>\n",
              "      <th>498353</th>\n",
              "      <td>0.932380</td>\n",
              "      <td>-0.505637</td>\n",
              "      <td>0.293955</td>\n",
              "      <td>0.654855</td>\n",
              "      <td>-0.046053</td>\n",
              "      <td>0.806428</td>\n",
              "      <td>-0.072267</td>\n",
              "      <td>-0.025780</td>\n",
              "      <td>-0.027814</td>\n",
              "      <td>0.999035</td>\n",
              "      <td>0.987263</td>\n",
              "      <td>-0.902311</td>\n",
              "      <td>-0.902429</td>\n",
              "      <td>-0.283434</td>\n",
              "    </tr>\n",
              "    <tr>\n",
              "      <th>165559</th>\n",
              "      <td>-1.072524</td>\n",
              "      <td>1.016153</td>\n",
              "      <td>-0.212972</td>\n",
              "      <td>0.395562</td>\n",
              "      <td>-0.199412</td>\n",
              "      <td>0.237367</td>\n",
              "      <td>-0.149977</td>\n",
              "      <td>-0.025780</td>\n",
              "      <td>-0.027814</td>\n",
              "      <td>0.061490</td>\n",
              "      <td>0.061863</td>\n",
              "      <td>-0.902311</td>\n",
              "      <td>-0.902429</td>\n",
              "      <td>-0.705068</td>\n",
              "    </tr>\n",
              "    <tr>\n",
              "      <th>1382058</th>\n",
              "      <td>-1.072524</td>\n",
              "      <td>-0.505637</td>\n",
              "      <td>0.319458</td>\n",
              "      <td>-0.829320</td>\n",
              "      <td>0.218868</td>\n",
              "      <td>-0.950921</td>\n",
              "      <td>-0.151504</td>\n",
              "      <td>-1.049301</td>\n",
              "      <td>-1.049997</td>\n",
              "      <td>1.311550</td>\n",
              "      <td>1.295730</td>\n",
              "      <td>1.477173</td>\n",
              "      <td>1.476800</td>\n",
              "      <td>-0.592382</td>\n",
              "    </tr>\n",
              "    <tr>\n",
              "      <th>950885</th>\n",
              "      <td>0.932380</td>\n",
              "      <td>1.777048</td>\n",
              "      <td>-0.168531</td>\n",
              "      <td>-0.732448</td>\n",
              "      <td>0.000386</td>\n",
              "      <td>-0.217966</td>\n",
              "      <td>-0.108162</td>\n",
              "      <td>-0.025780</td>\n",
              "      <td>-0.027814</td>\n",
              "      <td>1.311550</td>\n",
              "      <td>1.449963</td>\n",
              "      <td>0.287431</td>\n",
              "      <td>0.287186</td>\n",
              "      <td>-0.298288</td>\n",
              "    </tr>\n",
              "    <tr>\n",
              "      <th>595547</th>\n",
              "      <td>-1.072524</td>\n",
              "      <td>-0.505637</td>\n",
              "      <td>-0.292600</td>\n",
              "      <td>0.008189</td>\n",
              "      <td>-0.084825</td>\n",
              "      <td>0.839270</td>\n",
              "      <td>-0.069594</td>\n",
              "      <td>1.509502</td>\n",
              "      <td>1.505459</td>\n",
              "      <td>0.217747</td>\n",
              "      <td>0.370330</td>\n",
              "      <td>-0.307440</td>\n",
              "      <td>-0.307621</td>\n",
              "      <td>0.045897</td>\n",
              "    </tr>\n",
              "    <tr>\n",
              "      <th>1197820</th>\n",
              "      <td>0.932380</td>\n",
              "      <td>2.537943</td>\n",
              "      <td>-0.329401</td>\n",
              "      <td>-0.417004</td>\n",
              "      <td>0.209040</td>\n",
              "      <td>-0.798506</td>\n",
              "      <td>0.048403</td>\n",
              "      <td>0.997741</td>\n",
              "      <td>0.994368</td>\n",
              "      <td>-1.969858</td>\n",
              "      <td>-1.788938</td>\n",
              "      <td>-0.307440</td>\n",
              "      <td>-0.307621</td>\n",
              "      <td>0.031984</td>\n",
              "    </tr>\n",
              "  </tbody>\n",
              "</table>\n",
              "</div>\n",
              "      <button class=\"colab-df-convert\" onclick=\"convertToInteractive('df-82dec73a-c395-4322-8c0b-ad0e197ea38e')\"\n",
              "              title=\"Convert this dataframe to an interactive table.\"\n",
              "              style=\"display:none;\">\n",
              "        \n",
              "  <svg xmlns=\"http://www.w3.org/2000/svg\" height=\"24px\"viewBox=\"0 0 24 24\"\n",
              "       width=\"24px\">\n",
              "    <path d=\"M0 0h24v24H0V0z\" fill=\"none\"/>\n",
              "    <path d=\"M18.56 5.44l.94 2.06.94-2.06 2.06-.94-2.06-.94-.94-2.06-.94 2.06-2.06.94zm-11 1L8.5 8.5l.94-2.06 2.06-.94-2.06-.94L8.5 2.5l-.94 2.06-2.06.94zm10 10l.94 2.06.94-2.06 2.06-.94-2.06-.94-.94-2.06-.94 2.06-2.06.94z\"/><path d=\"M17.41 7.96l-1.37-1.37c-.4-.4-.92-.59-1.43-.59-.52 0-1.04.2-1.43.59L10.3 9.45l-7.72 7.72c-.78.78-.78 2.05 0 2.83L4 21.41c.39.39.9.59 1.41.59.51 0 1.02-.2 1.41-.59l7.78-7.78 2.81-2.81c.8-.78.8-2.07 0-2.86zM5.41 20L4 18.59l7.72-7.72 1.47 1.35L5.41 20z\"/>\n",
              "  </svg>\n",
              "      </button>\n",
              "      \n",
              "  <style>\n",
              "    .colab-df-container {\n",
              "      display:flex;\n",
              "      flex-wrap:wrap;\n",
              "      gap: 12px;\n",
              "    }\n",
              "\n",
              "    .colab-df-convert {\n",
              "      background-color: #E8F0FE;\n",
              "      border: none;\n",
              "      border-radius: 50%;\n",
              "      cursor: pointer;\n",
              "      display: none;\n",
              "      fill: #1967D2;\n",
              "      height: 32px;\n",
              "      padding: 0 0 0 0;\n",
              "      width: 32px;\n",
              "    }\n",
              "\n",
              "    .colab-df-convert:hover {\n",
              "      background-color: #E2EBFA;\n",
              "      box-shadow: 0px 1px 2px rgba(60, 64, 67, 0.3), 0px 1px 3px 1px rgba(60, 64, 67, 0.15);\n",
              "      fill: #174EA6;\n",
              "    }\n",
              "\n",
              "    [theme=dark] .colab-df-convert {\n",
              "      background-color: #3B4455;\n",
              "      fill: #D2E3FC;\n",
              "    }\n",
              "\n",
              "    [theme=dark] .colab-df-convert:hover {\n",
              "      background-color: #434B5C;\n",
              "      box-shadow: 0px 1px 3px 1px rgba(0, 0, 0, 0.15);\n",
              "      filter: drop-shadow(0px 1px 2px rgba(0, 0, 0, 0.3));\n",
              "      fill: #FFFFFF;\n",
              "    }\n",
              "  </style>\n",
              "\n",
              "      <script>\n",
              "        const buttonEl =\n",
              "          document.querySelector('#df-82dec73a-c395-4322-8c0b-ad0e197ea38e button.colab-df-convert');\n",
              "        buttonEl.style.display =\n",
              "          google.colab.kernel.accessAllowed ? 'block' : 'none';\n",
              "\n",
              "        async function convertToInteractive(key) {\n",
              "          const element = document.querySelector('#df-82dec73a-c395-4322-8c0b-ad0e197ea38e');\n",
              "          const dataTable =\n",
              "            await google.colab.kernel.invokeFunction('convertToInteractive',\n",
              "                                                     [key], {});\n",
              "          if (!dataTable) return;\n",
              "\n",
              "          const docLinkHtml = 'Like what you see? Visit the ' +\n",
              "            '<a target=\"_blank\" href=https://colab.research.google.com/notebooks/data_table.ipynb>data table notebook</a>'\n",
              "            + ' to learn more about interactive tables.';\n",
              "          element.innerHTML = '';\n",
              "          dataTable['output_type'] = 'display_data';\n",
              "          await google.colab.output.renderOutput(dataTable, element);\n",
              "          const docLink = document.createElement('div');\n",
              "          docLink.innerHTML = docLinkHtml;\n",
              "          element.appendChild(docLink);\n",
              "        }\n",
              "      </script>\n",
              "    </div>\n",
              "  </div>\n",
              "  "
            ]
          },
          "metadata": {},
          "execution_count": 69
        }
      ],
      "source": [
        "X_train[0:10]"
      ]
    },
    {
      "cell_type": "code",
      "execution_count": null,
      "metadata": {
        "colab": {
          "base_uri": "https://localhost:8080/",
          "height": 427
        },
        "id": "avpy_H6nLV_4",
        "outputId": "91996506-4e9b-4e6a-a2fb-d8348e21cc6b"
      },
      "outputs": [
        {
          "output_type": "execute_result",
          "data": {
            "text/plain": [
              "         vendor_id  passenger_count  pickup_longitude  pickup_latitude  \\\n",
              "571578    0.932380        -0.505637          0.022145         0.186156   \n",
              "1280332   0.932380         0.255258          0.163538         0.612510   \n",
              "177838   -1.072524         1.016153         -0.519754        -1.193606   \n",
              "1433776  -1.072524        -0.505637         -0.457128        -0.329297   \n",
              "757662   -1.072524        -0.505637         -0.529977        -1.074227   \n",
              "737011   -1.072524        -0.505637          0.029139         0.007145   \n",
              "402752    0.932380         3.298838         -0.231373        -0.502507   \n",
              "179791    0.932380         2.537943         -0.164980        -0.108521   \n",
              "895734   -1.072524        -0.505637         -0.057268         0.253560   \n",
              "821808   -1.072524        -0.505637         -0.423663        -0.260036   \n",
              "\n",
              "         dropoff_longitude  dropoff_latitude  trip_duration  pickup_day_no  \\\n",
              "571578           -0.017650          0.050834      -0.161624      -0.025780   \n",
              "1280332           0.949913          4.367785       0.205732      -0.025780   \n",
              "177838            0.231720          0.719804       0.162581      -0.537541   \n",
              "1433776          -0.267127          0.186987       0.003343       1.509502   \n",
              "757662           -0.447593         -0.859089      -0.117900      -0.537541   \n",
              "737011           -0.198440         -0.816149      -0.014987      -1.049301   \n",
              "402752           -0.084501         -0.672449      -0.066539      -1.049301   \n",
              "179791           -0.483017         -0.954322      -0.029307      -1.561062   \n",
              "895734           -0.310219          0.034784      -0.093460      -0.537541   \n",
              "821808            0.361967          1.750575       0.052604      -0.537541   \n",
              "\n",
              "         dropoff_day_no  pickup_hour  dropoff_hour  pickup_month  \\\n",
              "571578        -0.027814     0.374005      0.370330     -0.307440   \n",
              "1280332       -0.027814     1.155293      1.295730      0.287431   \n",
              "177838        -0.538906    -0.407283     -0.400838     -0.307440   \n",
              "1433776        1.505459     0.999035      0.987263     -0.307440   \n",
              "757662        -0.538906    -0.094768     -0.092371      0.287431   \n",
              "737011        -1.049997    -0.407283     -0.246604     -0.307440   \n",
              "402752        -1.049997     0.842778      0.987263      0.882302   \n",
              "179791        -1.561088    -0.876055     -0.863538     -0.902311   \n",
              "895734        -0.538906    -1.969858     -1.943172      0.882302   \n",
              "821808        -0.538906    -1.501086     -1.480471     -0.307440   \n",
              "\n",
              "         dropoff_month  distance  \n",
              "571578       -0.307621 -0.697289  \n",
              "1280332       0.287186  2.920366  \n",
              "177838       -0.307621  1.200618  \n",
              "1433776      -0.307621 -0.254585  \n",
              "757662        0.287186 -0.618440  \n",
              "737011       -0.307621  0.004341  \n",
              "402752        0.881993 -0.531009  \n",
              "179791       -0.902429  0.086366  \n",
              "895734        0.881993 -0.416941  \n",
              "821808       -0.307621  1.364272  "
            ],
            "text/html": [
              "\n",
              "  <div id=\"df-0768a01a-394d-412e-9bd0-16c57045a962\">\n",
              "    <div class=\"colab-df-container\">\n",
              "      <div>\n",
              "<style scoped>\n",
              "    .dataframe tbody tr th:only-of-type {\n",
              "        vertical-align: middle;\n",
              "    }\n",
              "\n",
              "    .dataframe tbody tr th {\n",
              "        vertical-align: top;\n",
              "    }\n",
              "\n",
              "    .dataframe thead th {\n",
              "        text-align: right;\n",
              "    }\n",
              "</style>\n",
              "<table border=\"1\" class=\"dataframe\">\n",
              "  <thead>\n",
              "    <tr style=\"text-align: right;\">\n",
              "      <th></th>\n",
              "      <th>vendor_id</th>\n",
              "      <th>passenger_count</th>\n",
              "      <th>pickup_longitude</th>\n",
              "      <th>pickup_latitude</th>\n",
              "      <th>dropoff_longitude</th>\n",
              "      <th>dropoff_latitude</th>\n",
              "      <th>trip_duration</th>\n",
              "      <th>pickup_day_no</th>\n",
              "      <th>dropoff_day_no</th>\n",
              "      <th>pickup_hour</th>\n",
              "      <th>dropoff_hour</th>\n",
              "      <th>pickup_month</th>\n",
              "      <th>dropoff_month</th>\n",
              "      <th>distance</th>\n",
              "    </tr>\n",
              "  </thead>\n",
              "  <tbody>\n",
              "    <tr>\n",
              "      <th>571578</th>\n",
              "      <td>0.932380</td>\n",
              "      <td>-0.505637</td>\n",
              "      <td>0.022145</td>\n",
              "      <td>0.186156</td>\n",
              "      <td>-0.017650</td>\n",
              "      <td>0.050834</td>\n",
              "      <td>-0.161624</td>\n",
              "      <td>-0.025780</td>\n",
              "      <td>-0.027814</td>\n",
              "      <td>0.374005</td>\n",
              "      <td>0.370330</td>\n",
              "      <td>-0.307440</td>\n",
              "      <td>-0.307621</td>\n",
              "      <td>-0.697289</td>\n",
              "    </tr>\n",
              "    <tr>\n",
              "      <th>1280332</th>\n",
              "      <td>0.932380</td>\n",
              "      <td>0.255258</td>\n",
              "      <td>0.163538</td>\n",
              "      <td>0.612510</td>\n",
              "      <td>0.949913</td>\n",
              "      <td>4.367785</td>\n",
              "      <td>0.205732</td>\n",
              "      <td>-0.025780</td>\n",
              "      <td>-0.027814</td>\n",
              "      <td>1.155293</td>\n",
              "      <td>1.295730</td>\n",
              "      <td>0.287431</td>\n",
              "      <td>0.287186</td>\n",
              "      <td>2.920366</td>\n",
              "    </tr>\n",
              "    <tr>\n",
              "      <th>177838</th>\n",
              "      <td>-1.072524</td>\n",
              "      <td>1.016153</td>\n",
              "      <td>-0.519754</td>\n",
              "      <td>-1.193606</td>\n",
              "      <td>0.231720</td>\n",
              "      <td>0.719804</td>\n",
              "      <td>0.162581</td>\n",
              "      <td>-0.537541</td>\n",
              "      <td>-0.538906</td>\n",
              "      <td>-0.407283</td>\n",
              "      <td>-0.400838</td>\n",
              "      <td>-0.307440</td>\n",
              "      <td>-0.307621</td>\n",
              "      <td>1.200618</td>\n",
              "    </tr>\n",
              "    <tr>\n",
              "      <th>1433776</th>\n",
              "      <td>-1.072524</td>\n",
              "      <td>-0.505637</td>\n",
              "      <td>-0.457128</td>\n",
              "      <td>-0.329297</td>\n",
              "      <td>-0.267127</td>\n",
              "      <td>0.186987</td>\n",
              "      <td>0.003343</td>\n",
              "      <td>1.509502</td>\n",
              "      <td>1.505459</td>\n",
              "      <td>0.999035</td>\n",
              "      <td>0.987263</td>\n",
              "      <td>-0.307440</td>\n",
              "      <td>-0.307621</td>\n",
              "      <td>-0.254585</td>\n",
              "    </tr>\n",
              "    <tr>\n",
              "      <th>757662</th>\n",
              "      <td>-1.072524</td>\n",
              "      <td>-0.505637</td>\n",
              "      <td>-0.529977</td>\n",
              "      <td>-1.074227</td>\n",
              "      <td>-0.447593</td>\n",
              "      <td>-0.859089</td>\n",
              "      <td>-0.117900</td>\n",
              "      <td>-0.537541</td>\n",
              "      <td>-0.538906</td>\n",
              "      <td>-0.094768</td>\n",
              "      <td>-0.092371</td>\n",
              "      <td>0.287431</td>\n",
              "      <td>0.287186</td>\n",
              "      <td>-0.618440</td>\n",
              "    </tr>\n",
              "    <tr>\n",
              "      <th>737011</th>\n",
              "      <td>-1.072524</td>\n",
              "      <td>-0.505637</td>\n",
              "      <td>0.029139</td>\n",
              "      <td>0.007145</td>\n",
              "      <td>-0.198440</td>\n",
              "      <td>-0.816149</td>\n",
              "      <td>-0.014987</td>\n",
              "      <td>-1.049301</td>\n",
              "      <td>-1.049997</td>\n",
              "      <td>-0.407283</td>\n",
              "      <td>-0.246604</td>\n",
              "      <td>-0.307440</td>\n",
              "      <td>-0.307621</td>\n",
              "      <td>0.004341</td>\n",
              "    </tr>\n",
              "    <tr>\n",
              "      <th>402752</th>\n",
              "      <td>0.932380</td>\n",
              "      <td>3.298838</td>\n",
              "      <td>-0.231373</td>\n",
              "      <td>-0.502507</td>\n",
              "      <td>-0.084501</td>\n",
              "      <td>-0.672449</td>\n",
              "      <td>-0.066539</td>\n",
              "      <td>-1.049301</td>\n",
              "      <td>-1.049997</td>\n",
              "      <td>0.842778</td>\n",
              "      <td>0.987263</td>\n",
              "      <td>0.882302</td>\n",
              "      <td>0.881993</td>\n",
              "      <td>-0.531009</td>\n",
              "    </tr>\n",
              "    <tr>\n",
              "      <th>179791</th>\n",
              "      <td>0.932380</td>\n",
              "      <td>2.537943</td>\n",
              "      <td>-0.164980</td>\n",
              "      <td>-0.108521</td>\n",
              "      <td>-0.483017</td>\n",
              "      <td>-0.954322</td>\n",
              "      <td>-0.029307</td>\n",
              "      <td>-1.561062</td>\n",
              "      <td>-1.561088</td>\n",
              "      <td>-0.876055</td>\n",
              "      <td>-0.863538</td>\n",
              "      <td>-0.902311</td>\n",
              "      <td>-0.902429</td>\n",
              "      <td>0.086366</td>\n",
              "    </tr>\n",
              "    <tr>\n",
              "      <th>895734</th>\n",
              "      <td>-1.072524</td>\n",
              "      <td>-0.505637</td>\n",
              "      <td>-0.057268</td>\n",
              "      <td>0.253560</td>\n",
              "      <td>-0.310219</td>\n",
              "      <td>0.034784</td>\n",
              "      <td>-0.093460</td>\n",
              "      <td>-0.537541</td>\n",
              "      <td>-0.538906</td>\n",
              "      <td>-1.969858</td>\n",
              "      <td>-1.943172</td>\n",
              "      <td>0.882302</td>\n",
              "      <td>0.881993</td>\n",
              "      <td>-0.416941</td>\n",
              "    </tr>\n",
              "    <tr>\n",
              "      <th>821808</th>\n",
              "      <td>-1.072524</td>\n",
              "      <td>-0.505637</td>\n",
              "      <td>-0.423663</td>\n",
              "      <td>-0.260036</td>\n",
              "      <td>0.361967</td>\n",
              "      <td>1.750575</td>\n",
              "      <td>0.052604</td>\n",
              "      <td>-0.537541</td>\n",
              "      <td>-0.538906</td>\n",
              "      <td>-1.501086</td>\n",
              "      <td>-1.480471</td>\n",
              "      <td>-0.307440</td>\n",
              "      <td>-0.307621</td>\n",
              "      <td>1.364272</td>\n",
              "    </tr>\n",
              "  </tbody>\n",
              "</table>\n",
              "</div>\n",
              "      <button class=\"colab-df-convert\" onclick=\"convertToInteractive('df-0768a01a-394d-412e-9bd0-16c57045a962')\"\n",
              "              title=\"Convert this dataframe to an interactive table.\"\n",
              "              style=\"display:none;\">\n",
              "        \n",
              "  <svg xmlns=\"http://www.w3.org/2000/svg\" height=\"24px\"viewBox=\"0 0 24 24\"\n",
              "       width=\"24px\">\n",
              "    <path d=\"M0 0h24v24H0V0z\" fill=\"none\"/>\n",
              "    <path d=\"M18.56 5.44l.94 2.06.94-2.06 2.06-.94-2.06-.94-.94-2.06-.94 2.06-2.06.94zm-11 1L8.5 8.5l.94-2.06 2.06-.94-2.06-.94L8.5 2.5l-.94 2.06-2.06.94zm10 10l.94 2.06.94-2.06 2.06-.94-2.06-.94-.94-2.06-.94 2.06-2.06.94z\"/><path d=\"M17.41 7.96l-1.37-1.37c-.4-.4-.92-.59-1.43-.59-.52 0-1.04.2-1.43.59L10.3 9.45l-7.72 7.72c-.78.78-.78 2.05 0 2.83L4 21.41c.39.39.9.59 1.41.59.51 0 1.02-.2 1.41-.59l7.78-7.78 2.81-2.81c.8-.78.8-2.07 0-2.86zM5.41 20L4 18.59l7.72-7.72 1.47 1.35L5.41 20z\"/>\n",
              "  </svg>\n",
              "      </button>\n",
              "      \n",
              "  <style>\n",
              "    .colab-df-container {\n",
              "      display:flex;\n",
              "      flex-wrap:wrap;\n",
              "      gap: 12px;\n",
              "    }\n",
              "\n",
              "    .colab-df-convert {\n",
              "      background-color: #E8F0FE;\n",
              "      border: none;\n",
              "      border-radius: 50%;\n",
              "      cursor: pointer;\n",
              "      display: none;\n",
              "      fill: #1967D2;\n",
              "      height: 32px;\n",
              "      padding: 0 0 0 0;\n",
              "      width: 32px;\n",
              "    }\n",
              "\n",
              "    .colab-df-convert:hover {\n",
              "      background-color: #E2EBFA;\n",
              "      box-shadow: 0px 1px 2px rgba(60, 64, 67, 0.3), 0px 1px 3px 1px rgba(60, 64, 67, 0.15);\n",
              "      fill: #174EA6;\n",
              "    }\n",
              "\n",
              "    [theme=dark] .colab-df-convert {\n",
              "      background-color: #3B4455;\n",
              "      fill: #D2E3FC;\n",
              "    }\n",
              "\n",
              "    [theme=dark] .colab-df-convert:hover {\n",
              "      background-color: #434B5C;\n",
              "      box-shadow: 0px 1px 3px 1px rgba(0, 0, 0, 0.15);\n",
              "      filter: drop-shadow(0px 1px 2px rgba(0, 0, 0, 0.3));\n",
              "      fill: #FFFFFF;\n",
              "    }\n",
              "  </style>\n",
              "\n",
              "      <script>\n",
              "        const buttonEl =\n",
              "          document.querySelector('#df-0768a01a-394d-412e-9bd0-16c57045a962 button.colab-df-convert');\n",
              "        buttonEl.style.display =\n",
              "          google.colab.kernel.accessAllowed ? 'block' : 'none';\n",
              "\n",
              "        async function convertToInteractive(key) {\n",
              "          const element = document.querySelector('#df-0768a01a-394d-412e-9bd0-16c57045a962');\n",
              "          const dataTable =\n",
              "            await google.colab.kernel.invokeFunction('convertToInteractive',\n",
              "                                                     [key], {});\n",
              "          if (!dataTable) return;\n",
              "\n",
              "          const docLinkHtml = 'Like what you see? Visit the ' +\n",
              "            '<a target=\"_blank\" href=https://colab.research.google.com/notebooks/data_table.ipynb>data table notebook</a>'\n",
              "            + ' to learn more about interactive tables.';\n",
              "          element.innerHTML = '';\n",
              "          dataTable['output_type'] = 'display_data';\n",
              "          await google.colab.output.renderOutput(dataTable, element);\n",
              "          const docLink = document.createElement('div');\n",
              "          docLink.innerHTML = docLinkHtml;\n",
              "          element.appendChild(docLink);\n",
              "        }\n",
              "      </script>\n",
              "    </div>\n",
              "  </div>\n",
              "  "
            ]
          },
          "metadata": {},
          "execution_count": 71
        }
      ],
      "source": [
        "X_test[0:10]"
      ]
    },
    {
      "cell_type": "code",
      "execution_count": null,
      "metadata": {
        "colab": {
          "base_uri": "https://localhost:8080/"
        },
        "id": "h3-DTlGqLOPt",
        "outputId": "584a5d95-6d59-4f39-9652-a2735d4e9755"
      },
      "outputs": [
        {
          "output_type": "execute_result",
          "data": {
            "text/plain": [
              "599669    -1.669812\n",
              "1224682   -1.056615\n",
              "78001     -0.450452\n",
              "990137    -0.904056\n",
              "498353    -0.792126\n",
              "165559    -1.315753\n",
              "1382058   -1.336194\n",
              "950885    -0.961910\n",
              "595547    -0.781786\n",
              "1197820   -0.472442\n",
              "Name: trip_duration_hour, dtype: float64"
            ]
          },
          "metadata": {},
          "execution_count": 72
        }
      ],
      "source": [
        "y_train[0:10]"
      ]
    },
    {
      "cell_type": "code",
      "execution_count": null,
      "metadata": {
        "colab": {
          "base_uri": "https://localhost:8080/"
        },
        "id": "OLxNP-L-LcEt",
        "outputId": "5fefc2d1-d703-4e15-bf8d-9f6130934b79"
      },
      "outputs": [
        {
          "output_type": "execute_result",
          "data": {
            "text/plain": [
              "571578    -1.503224\n",
              "1280332   -0.247311\n",
              "177838    -0.298384\n",
              "1433776   -0.566408\n",
              "757662    -1.022276\n",
              "737011    -0.611327\n",
              "402752    -0.770261\n",
              "179791    -0.649967\n",
              "895734    -0.884205\n",
              "821808    -0.464636\n",
              "Name: trip_duration_hour, dtype: float64"
            ]
          },
          "metadata": {},
          "execution_count": 73
        }
      ],
      "source": [
        "y_test[0:10]"
      ]
    },
    {
      "cell_type": "code",
      "execution_count": null,
      "metadata": {
        "colab": {
          "base_uri": "https://localhost:8080/"
        },
        "id": "bLgSz7A2H5ce",
        "outputId": "db5a6479-a2e4-49f9-bb03-48c050c99ccc"
      },
      "outputs": [
        {
          "output_type": "execute_result",
          "data": {
            "text/plain": [
              "array([False,  True,  True,  True,  True,  True,  True,  True,  True,\n",
              "       False,  True,  True,  True,  True])"
            ]
          },
          "metadata": {},
          "execution_count": 74
        }
      ],
      "source": [
        "from sklearn.feature_selection import RFE\n",
        "from sklearn.linear_model import LinearRegression\n",
        "#Running RFE with output number of the variable  equals to 13\n",
        "lm =  LinearRegression()\n",
        "rfe = RFE(lm, n_features_to_select=12)\n",
        "rfe= rfe.fit(X_train, y_train)\n",
        "#printing the boolean result\n",
        "rfe.support_"
      ]
    },
    {
      "cell_type": "code",
      "execution_count": null,
      "metadata": {
        "colab": {
          "base_uri": "https://localhost:8080/"
        },
        "id": "bOSakWyCFP_q",
        "outputId": "f2850014-f9fc-44f9-eb81-38e38cc3ae8d"
      },
      "outputs": [
        {
          "output_type": "execute_result",
          "data": {
            "text/plain": [
              "Index(['passenger_count', 'pickup_longitude', 'pickup_latitude',\n",
              "       'dropoff_longitude', 'dropoff_latitude', 'trip_duration',\n",
              "       'pickup_day_no', 'dropoff_day_no', 'dropoff_hour', 'pickup_month',\n",
              "       'dropoff_month', 'distance'],\n",
              "      dtype='object')"
            ]
          },
          "metadata": {},
          "execution_count": 75
        }
      ],
      "source": [
        "#Assign the rfe features from X_train into col \n",
        "col= X_train.columns[rfe.support_]\n",
        "col"
      ]
    },
    {
      "cell_type": "code",
      "execution_count": null,
      "metadata": {
        "id": "dMtQ_aV0F3Ni",
        "colab": {
          "base_uri": "https://localhost:8080/",
          "height": 488
        },
        "outputId": "5415d75f-7537-440d-fceb-489651410168"
      },
      "outputs": [
        {
          "output_type": "execute_result",
          "data": {
            "text/plain": [
              "         passenger_count  pickup_longitude  pickup_latitude  \\\n",
              "599669         -0.505637          0.032582         0.229661   \n",
              "1224682        -0.505637         -0.270756        -1.124577   \n",
              "78001          -0.505637         -0.447659        -0.848231   \n",
              "990137         -0.505637         -0.256767         0.114227   \n",
              "498353         -0.505637          0.293955         0.654855   \n",
              "...                  ...               ...              ...   \n",
              "359783         -0.505637          1.418966         0.703465   \n",
              "152315         -0.505637         -0.171114         0.195785   \n",
              "963395         -0.505637         -0.291954         0.151003   \n",
              "117952         -0.505637         -0.123983         0.437444   \n",
              "305711          0.255258         -0.457128        -0.450764   \n",
              "\n",
              "         dropoff_longitude  dropoff_latitude  trip_duration  pickup_day_no  \\\n",
              "599669            0.016910          0.125872      -0.168497      -1.049301   \n",
              "1224682          -0.183320         -0.822845      -0.122864      -0.537541   \n",
              "78001            -0.059661          0.730220       0.060432      -0.537541   \n",
              "990137           -0.119493         -0.149411      -0.097470      -1.561062   \n",
              "498353           -0.046053          0.806428      -0.072267      -0.025780   \n",
              "...                    ...               ...            ...            ...   \n",
              "359783            0.685099          0.218448      -0.052792      -1.049301   \n",
              "152315           -0.206216          0.145748      -0.156087       0.997741   \n",
              "963395           -0.610888         -1.311021       0.006780       1.509502   \n",
              "117952           -0.000802          0.167430      -0.026443       0.485981   \n",
              "305711           -0.305899         -0.050670      -0.109308      -0.025780   \n",
              "\n",
              "         dropoff_day_no  dropoff_hour  pickup_month  dropoff_month  distance  \n",
              "599669        -1.049997     -0.709304     -0.902311      -0.902429 -0.741422  \n",
              "1224682       -0.538906      1.295730      0.882302       0.881993 -0.552332  \n",
              "78001         -0.538906      1.141497      1.477173       1.476800  0.721369  \n",
              "990137        -1.561088     -0.863538     -0.902311      -0.902429 -0.513359  \n",
              "498353        -0.027814      0.987263     -0.902311      -0.902429 -0.283434  \n",
              "...                 ...           ...           ...            ...       ...  \n",
              "359783        -1.049997      1.295730      1.477173       1.476800  0.287067  \n",
              "152315         0.994368      0.987263     -0.307440      -0.307621 -0.753710  \n",
              "963395         1.505459     -0.400838     -1.497182      -1.497236  0.593567  \n",
              "117952         0.483277     -0.863538     -0.307440      -0.307621 -0.541193  \n",
              "305711        -0.027814      1.141497     -0.307440      -0.307621 -0.383100  \n",
              "\n",
              "[1166915 rows x 12 columns]"
            ],
            "text/html": [
              "\n",
              "  <div id=\"df-ddf73d63-2c11-459d-8249-c4c22b58666d\">\n",
              "    <div class=\"colab-df-container\">\n",
              "      <div>\n",
              "<style scoped>\n",
              "    .dataframe tbody tr th:only-of-type {\n",
              "        vertical-align: middle;\n",
              "    }\n",
              "\n",
              "    .dataframe tbody tr th {\n",
              "        vertical-align: top;\n",
              "    }\n",
              "\n",
              "    .dataframe thead th {\n",
              "        text-align: right;\n",
              "    }\n",
              "</style>\n",
              "<table border=\"1\" class=\"dataframe\">\n",
              "  <thead>\n",
              "    <tr style=\"text-align: right;\">\n",
              "      <th></th>\n",
              "      <th>passenger_count</th>\n",
              "      <th>pickup_longitude</th>\n",
              "      <th>pickup_latitude</th>\n",
              "      <th>dropoff_longitude</th>\n",
              "      <th>dropoff_latitude</th>\n",
              "      <th>trip_duration</th>\n",
              "      <th>pickup_day_no</th>\n",
              "      <th>dropoff_day_no</th>\n",
              "      <th>dropoff_hour</th>\n",
              "      <th>pickup_month</th>\n",
              "      <th>dropoff_month</th>\n",
              "      <th>distance</th>\n",
              "    </tr>\n",
              "  </thead>\n",
              "  <tbody>\n",
              "    <tr>\n",
              "      <th>599669</th>\n",
              "      <td>-0.505637</td>\n",
              "      <td>0.032582</td>\n",
              "      <td>0.229661</td>\n",
              "      <td>0.016910</td>\n",
              "      <td>0.125872</td>\n",
              "      <td>-0.168497</td>\n",
              "      <td>-1.049301</td>\n",
              "      <td>-1.049997</td>\n",
              "      <td>-0.709304</td>\n",
              "      <td>-0.902311</td>\n",
              "      <td>-0.902429</td>\n",
              "      <td>-0.741422</td>\n",
              "    </tr>\n",
              "    <tr>\n",
              "      <th>1224682</th>\n",
              "      <td>-0.505637</td>\n",
              "      <td>-0.270756</td>\n",
              "      <td>-1.124577</td>\n",
              "      <td>-0.183320</td>\n",
              "      <td>-0.822845</td>\n",
              "      <td>-0.122864</td>\n",
              "      <td>-0.537541</td>\n",
              "      <td>-0.538906</td>\n",
              "      <td>1.295730</td>\n",
              "      <td>0.882302</td>\n",
              "      <td>0.881993</td>\n",
              "      <td>-0.552332</td>\n",
              "    </tr>\n",
              "    <tr>\n",
              "      <th>78001</th>\n",
              "      <td>-0.505637</td>\n",
              "      <td>-0.447659</td>\n",
              "      <td>-0.848231</td>\n",
              "      <td>-0.059661</td>\n",
              "      <td>0.730220</td>\n",
              "      <td>0.060432</td>\n",
              "      <td>-0.537541</td>\n",
              "      <td>-0.538906</td>\n",
              "      <td>1.141497</td>\n",
              "      <td>1.477173</td>\n",
              "      <td>1.476800</td>\n",
              "      <td>0.721369</td>\n",
              "    </tr>\n",
              "    <tr>\n",
              "      <th>990137</th>\n",
              "      <td>-0.505637</td>\n",
              "      <td>-0.256767</td>\n",
              "      <td>0.114227</td>\n",
              "      <td>-0.119493</td>\n",
              "      <td>-0.149411</td>\n",
              "      <td>-0.097470</td>\n",
              "      <td>-1.561062</td>\n",
              "      <td>-1.561088</td>\n",
              "      <td>-0.863538</td>\n",
              "      <td>-0.902311</td>\n",
              "      <td>-0.902429</td>\n",
              "      <td>-0.513359</td>\n",
              "    </tr>\n",
              "    <tr>\n",
              "      <th>498353</th>\n",
              "      <td>-0.505637</td>\n",
              "      <td>0.293955</td>\n",
              "      <td>0.654855</td>\n",
              "      <td>-0.046053</td>\n",
              "      <td>0.806428</td>\n",
              "      <td>-0.072267</td>\n",
              "      <td>-0.025780</td>\n",
              "      <td>-0.027814</td>\n",
              "      <td>0.987263</td>\n",
              "      <td>-0.902311</td>\n",
              "      <td>-0.902429</td>\n",
              "      <td>-0.283434</td>\n",
              "    </tr>\n",
              "    <tr>\n",
              "      <th>...</th>\n",
              "      <td>...</td>\n",
              "      <td>...</td>\n",
              "      <td>...</td>\n",
              "      <td>...</td>\n",
              "      <td>...</td>\n",
              "      <td>...</td>\n",
              "      <td>...</td>\n",
              "      <td>...</td>\n",
              "      <td>...</td>\n",
              "      <td>...</td>\n",
              "      <td>...</td>\n",
              "      <td>...</td>\n",
              "    </tr>\n",
              "    <tr>\n",
              "      <th>359783</th>\n",
              "      <td>-0.505637</td>\n",
              "      <td>1.418966</td>\n",
              "      <td>0.703465</td>\n",
              "      <td>0.685099</td>\n",
              "      <td>0.218448</td>\n",
              "      <td>-0.052792</td>\n",
              "      <td>-1.049301</td>\n",
              "      <td>-1.049997</td>\n",
              "      <td>1.295730</td>\n",
              "      <td>1.477173</td>\n",
              "      <td>1.476800</td>\n",
              "      <td>0.287067</td>\n",
              "    </tr>\n",
              "    <tr>\n",
              "      <th>152315</th>\n",
              "      <td>-0.505637</td>\n",
              "      <td>-0.171114</td>\n",
              "      <td>0.195785</td>\n",
              "      <td>-0.206216</td>\n",
              "      <td>0.145748</td>\n",
              "      <td>-0.156087</td>\n",
              "      <td>0.997741</td>\n",
              "      <td>0.994368</td>\n",
              "      <td>0.987263</td>\n",
              "      <td>-0.307440</td>\n",
              "      <td>-0.307621</td>\n",
              "      <td>-0.753710</td>\n",
              "    </tr>\n",
              "    <tr>\n",
              "      <th>963395</th>\n",
              "      <td>-0.505637</td>\n",
              "      <td>-0.291954</td>\n",
              "      <td>0.151003</td>\n",
              "      <td>-0.610888</td>\n",
              "      <td>-1.311021</td>\n",
              "      <td>0.006780</td>\n",
              "      <td>1.509502</td>\n",
              "      <td>1.505459</td>\n",
              "      <td>-0.400838</td>\n",
              "      <td>-1.497182</td>\n",
              "      <td>-1.497236</td>\n",
              "      <td>0.593567</td>\n",
              "    </tr>\n",
              "    <tr>\n",
              "      <th>117952</th>\n",
              "      <td>-0.505637</td>\n",
              "      <td>-0.123983</td>\n",
              "      <td>0.437444</td>\n",
              "      <td>-0.000802</td>\n",
              "      <td>0.167430</td>\n",
              "      <td>-0.026443</td>\n",
              "      <td>0.485981</td>\n",
              "      <td>0.483277</td>\n",
              "      <td>-0.863538</td>\n",
              "      <td>-0.307440</td>\n",
              "      <td>-0.307621</td>\n",
              "      <td>-0.541193</td>\n",
              "    </tr>\n",
              "    <tr>\n",
              "      <th>305711</th>\n",
              "      <td>0.255258</td>\n",
              "      <td>-0.457128</td>\n",
              "      <td>-0.450764</td>\n",
              "      <td>-0.305899</td>\n",
              "      <td>-0.050670</td>\n",
              "      <td>-0.109308</td>\n",
              "      <td>-0.025780</td>\n",
              "      <td>-0.027814</td>\n",
              "      <td>1.141497</td>\n",
              "      <td>-0.307440</td>\n",
              "      <td>-0.307621</td>\n",
              "      <td>-0.383100</td>\n",
              "    </tr>\n",
              "  </tbody>\n",
              "</table>\n",
              "<p>1166915 rows × 12 columns</p>\n",
              "</div>\n",
              "      <button class=\"colab-df-convert\" onclick=\"convertToInteractive('df-ddf73d63-2c11-459d-8249-c4c22b58666d')\"\n",
              "              title=\"Convert this dataframe to an interactive table.\"\n",
              "              style=\"display:none;\">\n",
              "        \n",
              "  <svg xmlns=\"http://www.w3.org/2000/svg\" height=\"24px\"viewBox=\"0 0 24 24\"\n",
              "       width=\"24px\">\n",
              "    <path d=\"M0 0h24v24H0V0z\" fill=\"none\"/>\n",
              "    <path d=\"M18.56 5.44l.94 2.06.94-2.06 2.06-.94-2.06-.94-.94-2.06-.94 2.06-2.06.94zm-11 1L8.5 8.5l.94-2.06 2.06-.94-2.06-.94L8.5 2.5l-.94 2.06-2.06.94zm10 10l.94 2.06.94-2.06 2.06-.94-2.06-.94-.94-2.06-.94 2.06-2.06.94z\"/><path d=\"M17.41 7.96l-1.37-1.37c-.4-.4-.92-.59-1.43-.59-.52 0-1.04.2-1.43.59L10.3 9.45l-7.72 7.72c-.78.78-.78 2.05 0 2.83L4 21.41c.39.39.9.59 1.41.59.51 0 1.02-.2 1.41-.59l7.78-7.78 2.81-2.81c.8-.78.8-2.07 0-2.86zM5.41 20L4 18.59l7.72-7.72 1.47 1.35L5.41 20z\"/>\n",
              "  </svg>\n",
              "      </button>\n",
              "      \n",
              "  <style>\n",
              "    .colab-df-container {\n",
              "      display:flex;\n",
              "      flex-wrap:wrap;\n",
              "      gap: 12px;\n",
              "    }\n",
              "\n",
              "    .colab-df-convert {\n",
              "      background-color: #E8F0FE;\n",
              "      border: none;\n",
              "      border-radius: 50%;\n",
              "      cursor: pointer;\n",
              "      display: none;\n",
              "      fill: #1967D2;\n",
              "      height: 32px;\n",
              "      padding: 0 0 0 0;\n",
              "      width: 32px;\n",
              "    }\n",
              "\n",
              "    .colab-df-convert:hover {\n",
              "      background-color: #E2EBFA;\n",
              "      box-shadow: 0px 1px 2px rgba(60, 64, 67, 0.3), 0px 1px 3px 1px rgba(60, 64, 67, 0.15);\n",
              "      fill: #174EA6;\n",
              "    }\n",
              "\n",
              "    [theme=dark] .colab-df-convert {\n",
              "      background-color: #3B4455;\n",
              "      fill: #D2E3FC;\n",
              "    }\n",
              "\n",
              "    [theme=dark] .colab-df-convert:hover {\n",
              "      background-color: #434B5C;\n",
              "      box-shadow: 0px 1px 3px 1px rgba(0, 0, 0, 0.15);\n",
              "      filter: drop-shadow(0px 1px 2px rgba(0, 0, 0, 0.3));\n",
              "      fill: #FFFFFF;\n",
              "    }\n",
              "  </style>\n",
              "\n",
              "      <script>\n",
              "        const buttonEl =\n",
              "          document.querySelector('#df-ddf73d63-2c11-459d-8249-c4c22b58666d button.colab-df-convert');\n",
              "        buttonEl.style.display =\n",
              "          google.colab.kernel.accessAllowed ? 'block' : 'none';\n",
              "\n",
              "        async function convertToInteractive(key) {\n",
              "          const element = document.querySelector('#df-ddf73d63-2c11-459d-8249-c4c22b58666d');\n",
              "          const dataTable =\n",
              "            await google.colab.kernel.invokeFunction('convertToInteractive',\n",
              "                                                     [key], {});\n",
              "          if (!dataTable) return;\n",
              "\n",
              "          const docLinkHtml = 'Like what you see? Visit the ' +\n",
              "            '<a target=\"_blank\" href=https://colab.research.google.com/notebooks/data_table.ipynb>data table notebook</a>'\n",
              "            + ' to learn more about interactive tables.';\n",
              "          element.innerHTML = '';\n",
              "          dataTable['output_type'] = 'display_data';\n",
              "          await google.colab.output.renderOutput(dataTable, element);\n",
              "          const docLink = document.createElement('div');\n",
              "          docLink.innerHTML = docLinkHtml;\n",
              "          element.appendChild(docLink);\n",
              "        }\n",
              "      </script>\n",
              "    </div>\n",
              "  </div>\n",
              "  "
            ]
          },
          "metadata": {},
          "execution_count": 76
        }
      ],
      "source": [
        "#X_train_rfe is nothing but assigning remaining features after eliminating unimportant features from X_train\n",
        "X_train_rfe= X_train[col]\n",
        "X_train_rfe"
      ]
    },
    {
      "cell_type": "code",
      "execution_count": null,
      "metadata": {
        "colab": {
          "base_uri": "https://localhost:8080/",
          "height": 557
        },
        "id": "gu88_aYJGWEz",
        "outputId": "c4a0cece-de98-47f4-c24a-791f20f5022e"
      },
      "outputs": [
        {
          "output_type": "stream",
          "name": "stderr",
          "text": [
            "/usr/local/lib/python3.7/dist-packages/statsmodels/tools/_testing.py:19: FutureWarning: pandas.util.testing is deprecated. Use the functions in the public API at pandas.testing instead.\n",
            "  import pandas.util.testing as tm\n",
            "/usr/local/lib/python3.7/dist-packages/statsmodels/tsa/tsatools.py:117: FutureWarning: In a future version of pandas all arguments of concat except for the argument 'objs' will be keyword-only\n",
            "  x = pd.concat(x[::order], 1)\n"
          ]
        },
        {
          "output_type": "execute_result",
          "data": {
            "text/plain": [
              "         const  passenger_count  pickup_longitude  pickup_latitude  \\\n",
              "599669     1.0        -0.505637          0.032582         0.229661   \n",
              "1224682    1.0        -0.505637         -0.270756        -1.124577   \n",
              "78001      1.0        -0.505637         -0.447659        -0.848231   \n",
              "990137     1.0        -0.505637         -0.256767         0.114227   \n",
              "498353     1.0        -0.505637          0.293955         0.654855   \n",
              "...        ...              ...               ...              ...   \n",
              "359783     1.0        -0.505637          1.418966         0.703465   \n",
              "152315     1.0        -0.505637         -0.171114         0.195785   \n",
              "963395     1.0        -0.505637         -0.291954         0.151003   \n",
              "117952     1.0        -0.505637         -0.123983         0.437444   \n",
              "305711     1.0         0.255258         -0.457128        -0.450764   \n",
              "\n",
              "         dropoff_longitude  dropoff_latitude  trip_duration  pickup_day_no  \\\n",
              "599669            0.016910          0.125872      -0.168497      -1.049301   \n",
              "1224682          -0.183320         -0.822845      -0.122864      -0.537541   \n",
              "78001            -0.059661          0.730220       0.060432      -0.537541   \n",
              "990137           -0.119493         -0.149411      -0.097470      -1.561062   \n",
              "498353           -0.046053          0.806428      -0.072267      -0.025780   \n",
              "...                    ...               ...            ...            ...   \n",
              "359783            0.685099          0.218448      -0.052792      -1.049301   \n",
              "152315           -0.206216          0.145748      -0.156087       0.997741   \n",
              "963395           -0.610888         -1.311021       0.006780       1.509502   \n",
              "117952           -0.000802          0.167430      -0.026443       0.485981   \n",
              "305711           -0.305899         -0.050670      -0.109308      -0.025780   \n",
              "\n",
              "         dropoff_day_no  dropoff_hour  pickup_month  dropoff_month  distance  \n",
              "599669        -1.049997     -0.709304     -0.902311      -0.902429 -0.741422  \n",
              "1224682       -0.538906      1.295730      0.882302       0.881993 -0.552332  \n",
              "78001         -0.538906      1.141497      1.477173       1.476800  0.721369  \n",
              "990137        -1.561088     -0.863538     -0.902311      -0.902429 -0.513359  \n",
              "498353        -0.027814      0.987263     -0.902311      -0.902429 -0.283434  \n",
              "...                 ...           ...           ...            ...       ...  \n",
              "359783        -1.049997      1.295730      1.477173       1.476800  0.287067  \n",
              "152315         0.994368      0.987263     -0.307440      -0.307621 -0.753710  \n",
              "963395         1.505459     -0.400838     -1.497182      -1.497236  0.593567  \n",
              "117952         0.483277     -0.863538     -0.307440      -0.307621 -0.541193  \n",
              "305711        -0.027814      1.141497     -0.307440      -0.307621 -0.383100  \n",
              "\n",
              "[1166915 rows x 13 columns]"
            ],
            "text/html": [
              "\n",
              "  <div id=\"df-70f7eefa-6f42-437c-8e8b-7eaa711ce55d\">\n",
              "    <div class=\"colab-df-container\">\n",
              "      <div>\n",
              "<style scoped>\n",
              "    .dataframe tbody tr th:only-of-type {\n",
              "        vertical-align: middle;\n",
              "    }\n",
              "\n",
              "    .dataframe tbody tr th {\n",
              "        vertical-align: top;\n",
              "    }\n",
              "\n",
              "    .dataframe thead th {\n",
              "        text-align: right;\n",
              "    }\n",
              "</style>\n",
              "<table border=\"1\" class=\"dataframe\">\n",
              "  <thead>\n",
              "    <tr style=\"text-align: right;\">\n",
              "      <th></th>\n",
              "      <th>const</th>\n",
              "      <th>passenger_count</th>\n",
              "      <th>pickup_longitude</th>\n",
              "      <th>pickup_latitude</th>\n",
              "      <th>dropoff_longitude</th>\n",
              "      <th>dropoff_latitude</th>\n",
              "      <th>trip_duration</th>\n",
              "      <th>pickup_day_no</th>\n",
              "      <th>dropoff_day_no</th>\n",
              "      <th>dropoff_hour</th>\n",
              "      <th>pickup_month</th>\n",
              "      <th>dropoff_month</th>\n",
              "      <th>distance</th>\n",
              "    </tr>\n",
              "  </thead>\n",
              "  <tbody>\n",
              "    <tr>\n",
              "      <th>599669</th>\n",
              "      <td>1.0</td>\n",
              "      <td>-0.505637</td>\n",
              "      <td>0.032582</td>\n",
              "      <td>0.229661</td>\n",
              "      <td>0.016910</td>\n",
              "      <td>0.125872</td>\n",
              "      <td>-0.168497</td>\n",
              "      <td>-1.049301</td>\n",
              "      <td>-1.049997</td>\n",
              "      <td>-0.709304</td>\n",
              "      <td>-0.902311</td>\n",
              "      <td>-0.902429</td>\n",
              "      <td>-0.741422</td>\n",
              "    </tr>\n",
              "    <tr>\n",
              "      <th>1224682</th>\n",
              "      <td>1.0</td>\n",
              "      <td>-0.505637</td>\n",
              "      <td>-0.270756</td>\n",
              "      <td>-1.124577</td>\n",
              "      <td>-0.183320</td>\n",
              "      <td>-0.822845</td>\n",
              "      <td>-0.122864</td>\n",
              "      <td>-0.537541</td>\n",
              "      <td>-0.538906</td>\n",
              "      <td>1.295730</td>\n",
              "      <td>0.882302</td>\n",
              "      <td>0.881993</td>\n",
              "      <td>-0.552332</td>\n",
              "    </tr>\n",
              "    <tr>\n",
              "      <th>78001</th>\n",
              "      <td>1.0</td>\n",
              "      <td>-0.505637</td>\n",
              "      <td>-0.447659</td>\n",
              "      <td>-0.848231</td>\n",
              "      <td>-0.059661</td>\n",
              "      <td>0.730220</td>\n",
              "      <td>0.060432</td>\n",
              "      <td>-0.537541</td>\n",
              "      <td>-0.538906</td>\n",
              "      <td>1.141497</td>\n",
              "      <td>1.477173</td>\n",
              "      <td>1.476800</td>\n",
              "      <td>0.721369</td>\n",
              "    </tr>\n",
              "    <tr>\n",
              "      <th>990137</th>\n",
              "      <td>1.0</td>\n",
              "      <td>-0.505637</td>\n",
              "      <td>-0.256767</td>\n",
              "      <td>0.114227</td>\n",
              "      <td>-0.119493</td>\n",
              "      <td>-0.149411</td>\n",
              "      <td>-0.097470</td>\n",
              "      <td>-1.561062</td>\n",
              "      <td>-1.561088</td>\n",
              "      <td>-0.863538</td>\n",
              "      <td>-0.902311</td>\n",
              "      <td>-0.902429</td>\n",
              "      <td>-0.513359</td>\n",
              "    </tr>\n",
              "    <tr>\n",
              "      <th>498353</th>\n",
              "      <td>1.0</td>\n",
              "      <td>-0.505637</td>\n",
              "      <td>0.293955</td>\n",
              "      <td>0.654855</td>\n",
              "      <td>-0.046053</td>\n",
              "      <td>0.806428</td>\n",
              "      <td>-0.072267</td>\n",
              "      <td>-0.025780</td>\n",
              "      <td>-0.027814</td>\n",
              "      <td>0.987263</td>\n",
              "      <td>-0.902311</td>\n",
              "      <td>-0.902429</td>\n",
              "      <td>-0.283434</td>\n",
              "    </tr>\n",
              "    <tr>\n",
              "      <th>...</th>\n",
              "      <td>...</td>\n",
              "      <td>...</td>\n",
              "      <td>...</td>\n",
              "      <td>...</td>\n",
              "      <td>...</td>\n",
              "      <td>...</td>\n",
              "      <td>...</td>\n",
              "      <td>...</td>\n",
              "      <td>...</td>\n",
              "      <td>...</td>\n",
              "      <td>...</td>\n",
              "      <td>...</td>\n",
              "      <td>...</td>\n",
              "    </tr>\n",
              "    <tr>\n",
              "      <th>359783</th>\n",
              "      <td>1.0</td>\n",
              "      <td>-0.505637</td>\n",
              "      <td>1.418966</td>\n",
              "      <td>0.703465</td>\n",
              "      <td>0.685099</td>\n",
              "      <td>0.218448</td>\n",
              "      <td>-0.052792</td>\n",
              "      <td>-1.049301</td>\n",
              "      <td>-1.049997</td>\n",
              "      <td>1.295730</td>\n",
              "      <td>1.477173</td>\n",
              "      <td>1.476800</td>\n",
              "      <td>0.287067</td>\n",
              "    </tr>\n",
              "    <tr>\n",
              "      <th>152315</th>\n",
              "      <td>1.0</td>\n",
              "      <td>-0.505637</td>\n",
              "      <td>-0.171114</td>\n",
              "      <td>0.195785</td>\n",
              "      <td>-0.206216</td>\n",
              "      <td>0.145748</td>\n",
              "      <td>-0.156087</td>\n",
              "      <td>0.997741</td>\n",
              "      <td>0.994368</td>\n",
              "      <td>0.987263</td>\n",
              "      <td>-0.307440</td>\n",
              "      <td>-0.307621</td>\n",
              "      <td>-0.753710</td>\n",
              "    </tr>\n",
              "    <tr>\n",
              "      <th>963395</th>\n",
              "      <td>1.0</td>\n",
              "      <td>-0.505637</td>\n",
              "      <td>-0.291954</td>\n",
              "      <td>0.151003</td>\n",
              "      <td>-0.610888</td>\n",
              "      <td>-1.311021</td>\n",
              "      <td>0.006780</td>\n",
              "      <td>1.509502</td>\n",
              "      <td>1.505459</td>\n",
              "      <td>-0.400838</td>\n",
              "      <td>-1.497182</td>\n",
              "      <td>-1.497236</td>\n",
              "      <td>0.593567</td>\n",
              "    </tr>\n",
              "    <tr>\n",
              "      <th>117952</th>\n",
              "      <td>1.0</td>\n",
              "      <td>-0.505637</td>\n",
              "      <td>-0.123983</td>\n",
              "      <td>0.437444</td>\n",
              "      <td>-0.000802</td>\n",
              "      <td>0.167430</td>\n",
              "      <td>-0.026443</td>\n",
              "      <td>0.485981</td>\n",
              "      <td>0.483277</td>\n",
              "      <td>-0.863538</td>\n",
              "      <td>-0.307440</td>\n",
              "      <td>-0.307621</td>\n",
              "      <td>-0.541193</td>\n",
              "    </tr>\n",
              "    <tr>\n",
              "      <th>305711</th>\n",
              "      <td>1.0</td>\n",
              "      <td>0.255258</td>\n",
              "      <td>-0.457128</td>\n",
              "      <td>-0.450764</td>\n",
              "      <td>-0.305899</td>\n",
              "      <td>-0.050670</td>\n",
              "      <td>-0.109308</td>\n",
              "      <td>-0.025780</td>\n",
              "      <td>-0.027814</td>\n",
              "      <td>1.141497</td>\n",
              "      <td>-0.307440</td>\n",
              "      <td>-0.307621</td>\n",
              "      <td>-0.383100</td>\n",
              "    </tr>\n",
              "  </tbody>\n",
              "</table>\n",
              "<p>1166915 rows × 13 columns</p>\n",
              "</div>\n",
              "      <button class=\"colab-df-convert\" onclick=\"convertToInteractive('df-70f7eefa-6f42-437c-8e8b-7eaa711ce55d')\"\n",
              "              title=\"Convert this dataframe to an interactive table.\"\n",
              "              style=\"display:none;\">\n",
              "        \n",
              "  <svg xmlns=\"http://www.w3.org/2000/svg\" height=\"24px\"viewBox=\"0 0 24 24\"\n",
              "       width=\"24px\">\n",
              "    <path d=\"M0 0h24v24H0V0z\" fill=\"none\"/>\n",
              "    <path d=\"M18.56 5.44l.94 2.06.94-2.06 2.06-.94-2.06-.94-.94-2.06-.94 2.06-2.06.94zm-11 1L8.5 8.5l.94-2.06 2.06-.94-2.06-.94L8.5 2.5l-.94 2.06-2.06.94zm10 10l.94 2.06.94-2.06 2.06-.94-2.06-.94-.94-2.06-.94 2.06-2.06.94z\"/><path d=\"M17.41 7.96l-1.37-1.37c-.4-.4-.92-.59-1.43-.59-.52 0-1.04.2-1.43.59L10.3 9.45l-7.72 7.72c-.78.78-.78 2.05 0 2.83L4 21.41c.39.39.9.59 1.41.59.51 0 1.02-.2 1.41-.59l7.78-7.78 2.81-2.81c.8-.78.8-2.07 0-2.86zM5.41 20L4 18.59l7.72-7.72 1.47 1.35L5.41 20z\"/>\n",
              "  </svg>\n",
              "      </button>\n",
              "      \n",
              "  <style>\n",
              "    .colab-df-container {\n",
              "      display:flex;\n",
              "      flex-wrap:wrap;\n",
              "      gap: 12px;\n",
              "    }\n",
              "\n",
              "    .colab-df-convert {\n",
              "      background-color: #E8F0FE;\n",
              "      border: none;\n",
              "      border-radius: 50%;\n",
              "      cursor: pointer;\n",
              "      display: none;\n",
              "      fill: #1967D2;\n",
              "      height: 32px;\n",
              "      padding: 0 0 0 0;\n",
              "      width: 32px;\n",
              "    }\n",
              "\n",
              "    .colab-df-convert:hover {\n",
              "      background-color: #E2EBFA;\n",
              "      box-shadow: 0px 1px 2px rgba(60, 64, 67, 0.3), 0px 1px 3px 1px rgba(60, 64, 67, 0.15);\n",
              "      fill: #174EA6;\n",
              "    }\n",
              "\n",
              "    [theme=dark] .colab-df-convert {\n",
              "      background-color: #3B4455;\n",
              "      fill: #D2E3FC;\n",
              "    }\n",
              "\n",
              "    [theme=dark] .colab-df-convert:hover {\n",
              "      background-color: #434B5C;\n",
              "      box-shadow: 0px 1px 3px 1px rgba(0, 0, 0, 0.15);\n",
              "      filter: drop-shadow(0px 1px 2px rgba(0, 0, 0, 0.3));\n",
              "      fill: #FFFFFF;\n",
              "    }\n",
              "  </style>\n",
              "\n",
              "      <script>\n",
              "        const buttonEl =\n",
              "          document.querySelector('#df-70f7eefa-6f42-437c-8e8b-7eaa711ce55d button.colab-df-convert');\n",
              "        buttonEl.style.display =\n",
              "          google.colab.kernel.accessAllowed ? 'block' : 'none';\n",
              "\n",
              "        async function convertToInteractive(key) {\n",
              "          const element = document.querySelector('#df-70f7eefa-6f42-437c-8e8b-7eaa711ce55d');\n",
              "          const dataTable =\n",
              "            await google.colab.kernel.invokeFunction('convertToInteractive',\n",
              "                                                     [key], {});\n",
              "          if (!dataTable) return;\n",
              "\n",
              "          const docLinkHtml = 'Like what you see? Visit the ' +\n",
              "            '<a target=\"_blank\" href=https://colab.research.google.com/notebooks/data_table.ipynb>data table notebook</a>'\n",
              "            + ' to learn more about interactive tables.';\n",
              "          element.innerHTML = '';\n",
              "          dataTable['output_type'] = 'display_data';\n",
              "          await google.colab.output.renderOutput(dataTable, element);\n",
              "          const docLink = document.createElement('div');\n",
              "          docLink.innerHTML = docLinkHtml;\n",
              "          element.appendChild(docLink);\n",
              "        }\n",
              "      </script>\n",
              "    </div>\n",
              "  </div>\n",
              "  "
            ]
          },
          "metadata": {},
          "execution_count": 77
        }
      ],
      "source": [
        "import statsmodels.api as sm\n",
        "#Adding a constant variable\n",
        "X_train_rfe= sm.add_constant(X_train_rfe)\n",
        "X_train_rfe"
      ]
    },
    {
      "cell_type": "code",
      "execution_count": null,
      "metadata": {
        "colab": {
          "base_uri": "https://localhost:8080/"
        },
        "id": "z8qeM1iQGZGY",
        "outputId": "dcbf91fb-52ad-466b-bcad-5866bff11f68"
      },
      "outputs": [
        {
          "output_type": "execute_result",
          "data": {
            "text/plain": [
              "<statsmodels.regression.linear_model.RegressionResultsWrapper at 0x7ff410556d10>"
            ]
          },
          "metadata": {},
          "execution_count": 78
        }
      ],
      "source": [
        "# Now doing linear regression\n",
        "lm= sm.OLS(y_train, X_train_rfe).fit()\n",
        "lm"
      ]
    },
    {
      "cell_type": "code",
      "execution_count": null,
      "metadata": {
        "colab": {
          "base_uri": "https://localhost:8080/"
        },
        "id": "hxFPoDD2GlT5",
        "outputId": "805e3e00-9ca1-4e09-8e9d-5308d4855f8b"
      },
      "outputs": [
        {
          "output_type": "stream",
          "name": "stdout",
          "text": [
            "                            OLS Regression Results                            \n",
            "==============================================================================\n",
            "Dep. Variable:     trip_duration_hour   R-squared:                       0.408\n",
            "Model:                            OLS   Adj. R-squared:                  0.408\n",
            "Method:                 Least Squares   F-statistic:                 6.692e+04\n",
            "Date:                Thu, 28 Apr 2022   Prob (F-statistic):               0.00\n",
            "Time:                        11:06:52   Log-Likelihood:            -1.1670e+05\n",
            "No. Observations:             1166915   AIC:                         2.334e+05\n",
            "Df Residuals:                 1166902   BIC:                         2.336e+05\n",
            "Df Model:                          12                                         \n",
            "Covariance Type:            nonrobust                                         \n",
            "=====================================================================================\n",
            "                        coef    std err          t      P>|t|      [0.025      0.975]\n",
            "-------------------------------------------------------------------------------------\n",
            "const                -0.7488      0.000  -3024.882      0.000      -0.749      -0.748\n",
            "passenger_count       0.0048      0.000     19.224      0.000       0.004       0.005\n",
            "pickup_longitude     -0.0305      0.000    -74.314      0.000      -0.031      -0.030\n",
            "pickup_latitude       0.0231      0.000     73.890      0.000       0.023       0.024\n",
            "dropoff_longitude     0.0196      0.000     48.471      0.000       0.019       0.020\n",
            "dropoff_latitude     -0.0217      0.000    -75.408      0.000      -0.022      -0.021\n",
            "trip_duration         0.0878      0.000    308.745      0.000       0.087       0.088\n",
            "pickup_day_no        -0.0321      0.002    -14.554      0.000      -0.036      -0.028\n",
            "dropoff_day_no        0.0227      0.002     10.268      0.000       0.018       0.027\n",
            "dropoff_hour          0.0180      0.000     72.135      0.000       0.018       0.018\n",
            "pickup_month         -0.1465      0.022     -6.654      0.000      -0.190      -0.103\n",
            "dropoff_month         0.1588      0.022      7.215      0.000       0.116       0.202\n",
            "distance              0.2108      0.000    754.231      0.000       0.210       0.211\n",
            "==============================================================================\n",
            "Omnibus:                  2038671.124   Durbin-Watson:                   1.999\n",
            "Prob(Omnibus):                  0.000   Jarque-Bera (JB):      64793167729.716\n",
            "Skew:                         -11.097   Prob(JB):                         0.00\n",
            "Kurtosis:                    1157.171   Cond. No.                         188.\n",
            "==============================================================================\n",
            "\n",
            "Warnings:\n",
            "[1] Standard Errors assume that the covariance matrix of the errors is correctly specified.\n"
          ]
        }
      ],
      "source": [
        "print(lm.summary())"
      ]
    },
    {
      "cell_type": "markdown",
      "metadata": {
        "id": "_rq_b1zfIMwQ"
      },
      "source": [
        "# <B> MODEL PREDICTION </B>\n"
      ]
    },
    {
      "cell_type": "code",
      "execution_count": null,
      "metadata": {
        "colab": {
          "base_uri": "https://localhost:8080/"
        },
        "id": "lX84GYkXHJet",
        "outputId": "54d62ba7-082d-49d4-a7f2-44450ed32f68"
      },
      "outputs": [
        {
          "output_type": "stream",
          "name": "stdout",
          "text": [
            "The constant variable is          const  passenger_count  pickup_longitude  pickup_latitude  \\\n",
            "571578     1.0        -0.505637          0.022145         0.186156   \n",
            "1280332    1.0         0.255258          0.163538         0.612510   \n",
            "177838     1.0         1.016153         -0.519754        -1.193606   \n",
            "1433776    1.0        -0.505637         -0.457128        -0.329297   \n",
            "757662     1.0        -0.505637         -0.529977        -1.074227   \n",
            "...        ...              ...               ...              ...   \n",
            "96875      1.0        -0.505637         -0.069965        -0.414568   \n",
            "316240     1.0        -0.505637         -0.153036         0.116431   \n",
            "1013475    1.0         0.255258          0.237785         0.615062   \n",
            "631553     1.0         0.255258         -0.061787        -0.267345   \n",
            "1250099    1.0         0.255258         -0.461540        -0.523622   \n",
            "\n",
            "         dropoff_longitude  dropoff_latitude  trip_duration  pickup_day_no  \\\n",
            "571578           -0.017650          0.050834      -0.161624      -0.025780   \n",
            "1280332           0.949913          4.367785       0.205732      -0.025780   \n",
            "177838            0.231720          0.719804       0.162581      -0.537541   \n",
            "1433776          -0.267127          0.186987       0.003343       1.509502   \n",
            "757662           -0.447593         -0.859089      -0.117900      -0.537541   \n",
            "...                    ...               ...            ...            ...   \n",
            "96875            -0.244123         -0.200110      -0.052792      -0.537541   \n",
            "316240           -0.110745         -0.106152      -0.107399      -1.049301   \n",
            "1013475           0.496857          1.123801      -0.079713      -0.025780   \n",
            "631553           -0.314431         -0.851436       0.001433      -0.537541   \n",
            "1250099          -0.232784         -0.623876      -0.067112       0.997741   \n",
            "\n",
            "         dropoff_day_no  dropoff_hour  pickup_month  dropoff_month  distance  \n",
            "571578        -0.027814      0.370330     -0.307440      -0.307621 -0.697289  \n",
            "1280332       -0.027814      1.295730      0.287431       0.287186  2.920366  \n",
            "177838        -0.538906     -0.400838     -0.307440      -0.307621  1.200618  \n",
            "1433776        1.505459      0.987263     -0.307440      -0.307621 -0.254585  \n",
            "757662        -0.538906     -0.092371      0.287431       0.287186 -0.618440  \n",
            "...                 ...           ...           ...            ...       ...  \n",
            "96875         -0.538906      1.449963      0.882302       0.881993 -0.495341  \n",
            "316240        -1.049997      0.987263      0.882302       0.881993 -0.615665  \n",
            "1013475       -0.027814      1.449963     -1.497182      -1.497236 -0.149844  \n",
            "631553        -0.538906      0.678796     -1.497182      -1.497236 -0.157733  \n",
            "1250099        0.994368      0.987263     -0.902311      -0.902429 -0.461482  \n",
            "\n",
            "[291729 rows x 13 columns]\n",
            "The prdiction result is 571578    -0.907195\n",
            "1280332   -0.154139\n",
            "177838    -0.505513\n",
            "1433776   -0.808010\n",
            "757662    -0.883844\n",
            "             ...   \n",
            "96875     -0.826207\n",
            "316240    -0.844450\n",
            "1013475   -0.786128\n",
            "631553    -0.773932\n",
            "1250099   -0.842720\n",
            "Length: 291729, dtype: float64\n"
          ]
        },
        {
          "output_type": "stream",
          "name": "stderr",
          "text": [
            "/usr/local/lib/python3.7/dist-packages/statsmodels/tsa/tsatools.py:117: FutureWarning: In a future version of pandas all arguments of concat except for the argument 'objs' will be keyword-only\n",
            "  x = pd.concat(x[::order], 1)\n"
          ]
        }
      ],
      "source": [
        "#Making prediction\n",
        "y_pred_train= lm.predict(X_train_rfe)\n",
        "X_test_rfe= X_test[col]\n",
        "\n",
        "#Adding a constant variable\n",
        "X_test_rfe= sm.add_constant(X_test_rfe)\n",
        "print(f'The constant variable is {X_test_rfe}')\n",
        "\n",
        "# prediction\n",
        "y_pred_test= lm.predict(X_test_rfe)\n",
        "print(f'The prdiction result is {y_pred_test}')"
      ]
    },
    {
      "cell_type": "markdown",
      "metadata": {
        "id": "BFszbgWJHRLf"
      },
      "source": [
        "# <B> Model Evaluation :</B>\n",
        "<h6>\n",
        "We will check how well our model is able to make prediction.\n"
      ]
    },
    {
      "cell_type": "code",
      "execution_count": null,
      "metadata": {
        "id": "eUDHDj6HHgB5"
      },
      "outputs": [],
      "source": [
        "from sklearn.metrics import r2_score\n",
        "from sklearn.metrics import mean_squared_error"
      ]
    },
    {
      "cell_type": "code",
      "execution_count": null,
      "metadata": {
        "colab": {
          "base_uri": "https://localhost:8080/"
        },
        "id": "6hxAXvOvHjv4",
        "outputId": "92d98be3-c177-4374-a07c-404ba202f141"
      },
      "outputs": [
        {
          "output_type": "stream",
          "name": "stdout",
          "text": [
            "Train Mean Squred Error(MSE) : 0.07151409895498129\n",
            "Train Root-MSE : 0.26742120139394576\n",
            "Train R2 : 0.407653406631737\n",
            "Train Adjusted R2 :  0.40764629989396406\n"
          ]
        }
      ],
      "source": [
        "lr_train_mse  = mean_squared_error((y_train), (y_pred_train))\n",
        "print(\"Train Mean Squred Error(MSE) :\" , lr_train_mse)\n",
        "\n",
        "lr_train_rmse = np.sqrt(lr_train_mse)\n",
        "\n",
        "print(\"Train Root-MSE :\" ,lr_train_rmse)\n",
        "\n",
        "lr_train_r2 = r2_score((y_train), (y_pred_train))\n",
        "print(\"Train R2 :\" ,lr_train_r2) \n",
        "\n",
        "lr_train_r2_ = 1-(1-r2_score((y_train), (y_pred_train)))*((X_train.shape[0]-1)/(X_train.shape[0]-X_train.shape[1]-1))\n",
        "print(\"Train Adjusted R2 : \",lr_train_r2_)"
      ]
    },
    {
      "cell_type": "code",
      "execution_count": null,
      "metadata": {
        "colab": {
          "base_uri": "https://localhost:8080/"
        },
        "id": "kA7NJQ9EItSP",
        "outputId": "8ee7abe7-5759-4472-bebc-ded20d7f6037"
      },
      "outputs": [
        {
          "output_type": "stream",
          "name": "stdout",
          "text": [
            "Test MSE : 0.09468986206466719\n",
            "Test RMSE : 0.3077171786960669\n",
            "Test R2 : 0.21125474512562714\n",
            "Test Adjusted R2 :  0.21121689149649636\n"
          ]
        }
      ],
      "source": [
        "lr_test_mse  = mean_squared_error((y_test), (y_pred_test))\n",
        "print(\"Test MSE :\" , lr_test_mse)\n",
        "\n",
        "lr_test_rmse = np.sqrt(lr_test_mse)\n",
        "\n",
        "print(\"Test RMSE :\" ,lr_test_rmse)\n",
        "\n",
        "lr_test_r2 = r2_score((y_test), (y_pred_test))\n",
        "print(\"Test R2 :\" ,lr_test_r2)\n",
        "\n",
        "lr_test_r2_ = 1-(1-r2_score((y_test), (y_pred_test)))*((X_test.shape[0]-1)/(X_test.shape[0]-X_test.shape[1]-1))\n",
        "print(\"Test Adjusted R2 : \",lr_test_r2_)"
      ]
    },
    {
      "cell_type": "code",
      "execution_count": null,
      "metadata": {
        "colab": {
          "base_uri": "https://localhost:8080/",
          "height": 665
        },
        "id": "OSNNkhcJIzgV",
        "outputId": "dfacac53-344a-473f-9e23-d09652cae0f2"
      },
      "outputs": [
        {
          "output_type": "display_data",
          "data": {
            "text/plain": [
              "<Figure size 720x360 with 1 Axes>"
            ],
            "image/png": "[encoded data removed]"
          },
          "metadata": {
            "needs_background": "light"
          }
        },
        {
          "output_type": "display_data",
          "data": {
            "text/plain": [
              "<Figure size 720x360 with 1 Axes>"
            ],
            "image/png": "[encoded data removed]"
          },
          "metadata": {
            "needs_background": "light"
          }
        }
      ],
      "source": [
        "#Actual vs Prediction\n",
        "plt.figure(figsize= (10,5))\n",
        "c= [i for i in range(0, len(y_test))]\n",
        "plt.plot(c, y_test, color='blue', linewidth=2.5, linestyle='-')\n",
        "plt.plot(c, y_pred_test, color='red', linewidth=2.5, linestyle='-')\n",
        "plt.title('Actual vs Predicted for Test Data', fontsize=20)\n",
        "plt.legend([\"Actual\", \"Predicted\"])\n",
        "plt.show()\n",
        "\n",
        "plt.figure(figsize= (10,5))\n",
        "c= [i for i in range(0, len(y_test))]\n",
        "plt.plot(c, y_test-y_pred_test, color='blue', linewidth=2.5, linestyle='-')\n",
        "plt.title('Error Term', fontsize=20)\n",
        "plt.show()"
      ]
    },
    {
      "cell_type": "markdown",
      "metadata": {
        "id": "3zjxLNUeJDtn"
      },
      "source": [
        "# <B> OBSERVATION : </B> <h6>\n",
        "As per data and graph, Linear regression model does not provide us with high accuracy. It has high prediction error on the metrics we tested."
      ]
    },
    {
      "cell_type": "markdown",
      "metadata": {
        "id": "SoyKBuvbJYP9"
      },
      "source": [
        "<B> Now, Try Lasso Regression </B>\n",
        "<h6>\n",
        "In statistics and machine learning, lasso is a regression analysis method that performs both variable selection and regularization in order to enhance the prediction accuracy and interpretability of the resulting statistical model.\n"
      ]
    },
    {
      "cell_type": "code",
      "execution_count": null,
      "metadata": {
        "colab": {
          "base_uri": "https://localhost:8080/"
        },
        "id": "Y_38blyaJn9c",
        "outputId": "422e1e20-a011-404f-992a-6c5eeb816bac"
      },
      "outputs": [
        {
          "output_type": "stream",
          "name": "stderr",
          "text": [
            "/usr/local/lib/python3.7/dist-packages/sklearn/linear_model/_coordinate_descent.py:648: ConvergenceWarning: Objective did not converge. You might want to increase the number of iterations, check the scale of the features or consider increasing regularisation. Duality gap: 3.417e+04, tolerance: 1.130e+01\n",
            "  coef_, l1_reg, l2_reg, X, y, max_iter, tol, rng, random, positive\n",
            "/usr/local/lib/python3.7/dist-packages/sklearn/linear_model/_coordinate_descent.py:648: ConvergenceWarning: Objective did not converge. You might want to increase the number of iterations, check the scale of the features or consider increasing regularisation. Duality gap: 3.178e+04, tolerance: 1.125e+01\n",
            "  coef_, l1_reg, l2_reg, X, y, max_iter, tol, rng, random, positive\n",
            "/usr/local/lib/python3.7/dist-packages/sklearn/linear_model/_coordinate_descent.py:648: ConvergenceWarning: Objective did not converge. You might want to increase the number of iterations, check the scale of the features or consider increasing regularisation. Duality gap: 3.347e+04, tolerance: 1.128e+01\n",
            "  coef_, l1_reg, l2_reg, X, y, max_iter, tol, rng, random, positive\n",
            "/usr/local/lib/python3.7/dist-packages/sklearn/linear_model/_coordinate_descent.py:648: ConvergenceWarning: Objective did not converge. You might want to increase the number of iterations, check the scale of the features or consider increasing regularisation. Duality gap: 3.291e+04, tolerance: 1.127e+01\n",
            "  coef_, l1_reg, l2_reg, X, y, max_iter, tol, rng, random, positive\n",
            "/usr/local/lib/python3.7/dist-packages/sklearn/linear_model/_coordinate_descent.py:648: ConvergenceWarning: Objective did not converge. You might want to increase the number of iterations, check the scale of the features or consider increasing regularisation. Duality gap: 3.401e+04, tolerance: 1.126e+01\n",
            "  coef_, l1_reg, l2_reg, X, y, max_iter, tol, rng, random, positive\n",
            "/usr/local/lib/python3.7/dist-packages/sklearn/linear_model/_coordinate_descent.py:648: ConvergenceWarning: Objective did not converge. You might want to increase the number of iterations, check the scale of the features or consider increasing regularisation. Duality gap: 3.417e+04, tolerance: 1.130e+01\n",
            "  coef_, l1_reg, l2_reg, X, y, max_iter, tol, rng, random, positive\n",
            "/usr/local/lib/python3.7/dist-packages/sklearn/linear_model/_coordinate_descent.py:648: ConvergenceWarning: Objective did not converge. You might want to increase the number of iterations, check the scale of the features or consider increasing regularisation. Duality gap: 3.178e+04, tolerance: 1.125e+01\n",
            "  coef_, l1_reg, l2_reg, X, y, max_iter, tol, rng, random, positive\n",
            "/usr/local/lib/python3.7/dist-packages/sklearn/linear_model/_coordinate_descent.py:648: ConvergenceWarning: Objective did not converge. You might want to increase the number of iterations, check the scale of the features or consider increasing regularisation. Duality gap: 3.347e+04, tolerance: 1.128e+01\n",
            "  coef_, l1_reg, l2_reg, X, y, max_iter, tol, rng, random, positive\n",
            "/usr/local/lib/python3.7/dist-packages/sklearn/linear_model/_coordinate_descent.py:648: ConvergenceWarning: Objective did not converge. You might want to increase the number of iterations, check the scale of the features or consider increasing regularisation. Duality gap: 3.291e+04, tolerance: 1.127e+01\n",
            "  coef_, l1_reg, l2_reg, X, y, max_iter, tol, rng, random, positive\n",
            "/usr/local/lib/python3.7/dist-packages/sklearn/linear_model/_coordinate_descent.py:648: ConvergenceWarning: Objective did not converge. You might want to increase the number of iterations, check the scale of the features or consider increasing regularisation. Duality gap: 3.401e+04, tolerance: 1.126e+01\n",
            "  coef_, l1_reg, l2_reg, X, y, max_iter, tol, rng, random, positive\n",
            "/usr/local/lib/python3.7/dist-packages/sklearn/linear_model/_coordinate_descent.py:648: ConvergenceWarning: Objective did not converge. You might want to increase the number of iterations, check the scale of the features or consider increasing regularisation. Duality gap: 3.417e+04, tolerance: 1.130e+01\n",
            "  coef_, l1_reg, l2_reg, X, y, max_iter, tol, rng, random, positive\n",
            "/usr/local/lib/python3.7/dist-packages/sklearn/linear_model/_coordinate_descent.py:648: ConvergenceWarning: Objective did not converge. You might want to increase the number of iterations, check the scale of the features or consider increasing regularisation. Duality gap: 3.177e+04, tolerance: 1.125e+01\n",
            "  coef_, l1_reg, l2_reg, X, y, max_iter, tol, rng, random, positive\n",
            "/usr/local/lib/python3.7/dist-packages/sklearn/linear_model/_coordinate_descent.py:648: ConvergenceWarning: Objective did not converge. You might want to increase the number of iterations, check the scale of the features or consider increasing regularisation. Duality gap: 3.347e+04, tolerance: 1.128e+01\n",
            "  coef_, l1_reg, l2_reg, X, y, max_iter, tol, rng, random, positive\n",
            "/usr/local/lib/python3.7/dist-packages/sklearn/linear_model/_coordinate_descent.py:648: ConvergenceWarning: Objective did not converge. You might want to increase the number of iterations, check the scale of the features or consider increasing regularisation. Duality gap: 3.291e+04, tolerance: 1.127e+01\n",
            "  coef_, l1_reg, l2_reg, X, y, max_iter, tol, rng, random, positive\n",
            "/usr/local/lib/python3.7/dist-packages/sklearn/linear_model/_coordinate_descent.py:648: ConvergenceWarning: Objective did not converge. You might want to increase the number of iterations, check the scale of the features or consider increasing regularisation. Duality gap: 3.401e+04, tolerance: 1.126e+01\n",
            "  coef_, l1_reg, l2_reg, X, y, max_iter, tol, rng, random, positive\n",
            "/usr/local/lib/python3.7/dist-packages/sklearn/linear_model/_coordinate_descent.py:648: ConvergenceWarning: Objective did not converge. You might want to increase the number of iterations, check the scale of the features or consider increasing regularisation. Duality gap: 3.413e+04, tolerance: 1.130e+01\n",
            "  coef_, l1_reg, l2_reg, X, y, max_iter, tol, rng, random, positive\n",
            "/usr/local/lib/python3.7/dist-packages/sklearn/linear_model/_coordinate_descent.py:648: ConvergenceWarning: Objective did not converge. You might want to increase the number of iterations, check the scale of the features or consider increasing regularisation. Duality gap: 3.169e+04, tolerance: 1.125e+01\n",
            "  coef_, l1_reg, l2_reg, X, y, max_iter, tol, rng, random, positive\n",
            "/usr/local/lib/python3.7/dist-packages/sklearn/linear_model/_coordinate_descent.py:648: ConvergenceWarning: Objective did not converge. You might want to increase the number of iterations, check the scale of the features or consider increasing regularisation. Duality gap: 3.344e+04, tolerance: 1.128e+01\n",
            "  coef_, l1_reg, l2_reg, X, y, max_iter, tol, rng, random, positive\n",
            "/usr/local/lib/python3.7/dist-packages/sklearn/linear_model/_coordinate_descent.py:648: ConvergenceWarning: Objective did not converge. You might want to increase the number of iterations, check the scale of the features or consider increasing regularisation. Duality gap: 3.289e+04, tolerance: 1.127e+01\n",
            "  coef_, l1_reg, l2_reg, X, y, max_iter, tol, rng, random, positive\n",
            "/usr/local/lib/python3.7/dist-packages/sklearn/linear_model/_coordinate_descent.py:648: ConvergenceWarning: Objective did not converge. You might want to increase the number of iterations, check the scale of the features or consider increasing regularisation. Duality gap: 3.397e+04, tolerance: 1.126e+01\n",
            "  coef_, l1_reg, l2_reg, X, y, max_iter, tol, rng, random, positive\n",
            "/usr/local/lib/python3.7/dist-packages/sklearn/linear_model/_coordinate_descent.py:648: ConvergenceWarning: Objective did not converge. You might want to increase the number of iterations, check the scale of the features or consider increasing regularisation. Duality gap: 8.547e+02, tolerance: 1.130e+01\n",
            "  coef_, l1_reg, l2_reg, X, y, max_iter, tol, rng, random, positive\n",
            "/usr/local/lib/python3.7/dist-packages/sklearn/linear_model/_coordinate_descent.py:648: ConvergenceWarning: Objective did not converge. You might want to increase the number of iterations, check the scale of the features or consider increasing regularisation. Duality gap: 1.129e+04, tolerance: 1.127e+01\n",
            "  coef_, l1_reg, l2_reg, X, y, max_iter, tol, rng, random, positive\n"
          ]
        },
        {
          "output_type": "execute_result",
          "data": {
            "text/plain": [
              "GridSearchCV(cv=5, estimator=Lasso(),\n",
              "             param_grid={'alpha': [1e-15, 1e-13, 1e-10, 1e-08, 1e-05, 0.0001,\n",
              "                                   0.001, 0.01, 0.1, 1, 5, 10, 20, 30, 40, 45,\n",
              "                                   50, 55, 60, 100]},\n",
              "             scoring='r2')"
            ]
          },
          "metadata": {},
          "execution_count": 85
        }
      ],
      "source": [
        "from sklearn.linear_model import Lasso\n",
        "from sklearn.model_selection import GridSearchCV\n",
        "#Cross validation to enhance the accuracy\n",
        "lasso = Lasso()\n",
        "parameters = {'alpha': [1e-15,1e-13,1e-10,1e-8,1e-5,1e-4,1e-3,1e-2,1e-1,1,5,10,20,30,40,45,50,55,60,100]}\n",
        "lasso_regressor = GridSearchCV(lasso, parameters, scoring='r2', cv=5)\n",
        "lasso_regressor.fit(X_train, y_train)"
      ]
    },
    {
      "cell_type": "code",
      "execution_count": null,
      "metadata": {
        "colab": {
          "base_uri": "https://localhost:8080/"
        },
        "id": "NX0cV77lJ8eO",
        "outputId": "60244ee7-4862-4861-c625-7e3052d270b1"
      },
      "outputs": [
        {
          "output_type": "stream",
          "name": "stdout",
          "text": [
            "The best fit alpha value is : {'alpha': 0.001}\n",
            "The R2 score using the same alpha is : 0.3882472449561142\n"
          ]
        }
      ],
      "source": [
        "print('The best fit alpha value is :', lasso_regressor.best_params_)\n",
        "print('The R2 score using the same alpha is :', lasso_regressor.best_score_)"
      ]
    },
    {
      "cell_type": "code",
      "source": [
        "lasso_regressor.score(X_train, y_train)"
      ],
      "metadata": {
        "colab": {
          "base_uri": "https://localhost:8080/"
        },
        "id": "nWfrFMo0F8gB",
        "outputId": "b1a2de1b-3c38-4b21-8731-284e4c79f4cd"
      },
      "execution_count": null,
      "outputs": [
        {
          "output_type": "execute_result",
          "data": {
            "text/plain": [
              "0.40744147083988835"
            ]
          },
          "metadata": {},
          "execution_count": 87
        }
      ]
    },
    {
      "cell_type": "code",
      "source": [
        "y_pred_lasso_train = lasso_regressor.predict(X_train)\n",
        "y_pred_lasso_train"
      ],
      "metadata": {
        "colab": {
          "base_uri": "https://localhost:8080/"
        },
        "id": "WBlhtCZZGNMs",
        "outputId": "4113a446-3e10-470c-828c-af5d2c3c244a"
      },
      "execution_count": null,
      "outputs": [
        {
          "output_type": "execute_result",
          "data": {
            "text/plain": [
              "array([-0.93315776, -0.8415105 , -0.57772367, ..., -0.63702958,\n",
              "       -0.88079817, -0.82142694])"
            ]
          },
          "metadata": {},
          "execution_count": 88
        }
      ]
    },
    {
      "cell_type": "code",
      "source": [
        "y_pred_lasso_test = lasso_regressor.predict(X_test)\n",
        "y_pred_lasso_test"
      ],
      "metadata": {
        "colab": {
          "base_uri": "https://localhost:8080/"
        },
        "id": "mP4AKpifGTmq",
        "outputId": "93dddf5e-dad4-4e28-9c33-a66671cfe412"
      },
      "execution_count": null,
      "outputs": [
        {
          "output_type": "execute_result",
          "data": {
            "text/plain": [
              "array([-0.90351609, -0.15773162, -0.51080661, ..., -0.78535793,\n",
              "       -0.77208391, -0.84470766])"
            ]
          },
          "metadata": {},
          "execution_count": 89
        }
      ]
    },
    {
      "cell_type": "code",
      "source": [
        "lasso_train_mse  = mean_squared_error(y_train, y_pred_lasso_train)\n",
        "print(\"Train MSE :\" , lasso_train_mse)\n",
        "\n",
        "lasso_train_rmse = np.sqrt(lasso_train_mse)\n",
        "print(\"Train RMSE :\" ,lasso_train_rmse)\n",
        "\n",
        "lasso_train_r2 = r2_score(y_train, y_pred_lasso_train)\n",
        "print(\"Train R2 :\" ,lasso_train_r2)\n",
        "\n",
        "lasso_train_r2_= 1-(1-r2_score(y_train, y_pred_lasso_train))*((X_train.shape[0]-1)/(X_train.shape[0]-X_train.shape[1]-1))\n",
        "print(\"Train Adjusted R2 : \", lasso_train_r2)"
      ],
      "metadata": {
        "colab": {
          "base_uri": "https://localhost:8080/"
        },
        "id": "NQ-yg7t6GaCz",
        "outputId": "45d69bcd-8ba7-45c3-e83c-bf116faf4542"
      },
      "execution_count": null,
      "outputs": [
        {
          "output_type": "stream",
          "name": "stdout",
          "text": [
            "Train MSE : 0.07153968599702737\n",
            "Train RMSE : 0.2674690374548564\n",
            "Train R2 : 0.40744147083988835\n",
            "Train Adjusted R2 :  0.40744147083988835\n"
          ]
        }
      ]
    },
    {
      "cell_type": "code",
      "source": [
        "lasso_test_mse  = mean_squared_error(y_test, y_pred_lasso_test)\n",
        "print(\"Test MSE :\" , lasso_test_mse)\n",
        "\n",
        "lasso_test_rmse = np.sqrt(lasso_test_mse)\n",
        "print(\"Test RMSE :\" ,lasso_test_rmse)\n",
        "\n",
        "lasso_test_r2 = r2_score(y_test, y_pred_lasso_test)\n",
        "print(\"Test R2 :\" ,lasso_test_r2)\n",
        "\n",
        "lasso_test_r2_= 1-(1-r2_score(y_test, y_pred_lasso_test))*((X_test.shape[0]-1)/(X_test.shape[0]-X_test.shape[1]-1))\n",
        "print(\"Test Adjusted R2 : \", lasso_test_r2_)"
      ],
      "metadata": {
        "colab": {
          "base_uri": "https://localhost:8080/"
        },
        "id": "uzTEKT3-Ge7o",
        "outputId": "0fc560dd-33f4-4e1d-fdd2-a3ebc1d7cd95"
      },
      "execution_count": null,
      "outputs": [
        {
          "output_type": "stream",
          "name": "stdout",
          "text": [
            "Test MSE : 0.09397249605563705\n",
            "Test RMSE : 0.3065493370660538\n",
            "Test R2 : 0.217230242642397\n",
            "Test Adjusted R2 :  0.2171926757906072\n"
          ]
        }
      ]
    },
    {
      "cell_type": "code",
      "source": [
        "#Actual vs Prediction\n",
        "plt.figure(figsize= (10,5))\n",
        "c= [i for i in range(0, len(y_test))]\n",
        "plt.plot(c, y_test, color='blue', linewidth=2.5, linestyle='-')\n",
        "plt.plot(c, y_pred_lasso_test, color='red', linewidth=2.5, linestyle='-')\n",
        "plt.title('Actual vs Predicted for Test Data', fontsize=20)\n",
        "plt.legend([\"Actual\", \"Predicted\"])\n",
        "plt.show()\n",
        "\n",
        "plt.figure(figsize= (10,5))\n",
        "c= [i for i in range(0, len(y_test))]\n",
        "plt.plot(c, y_test-y_pred_lasso_test, color='blue', linewidth=2.5, linestyle='-')\n",
        "plt.title('Error Term', fontsize=20)\n",
        "plt.show()"
      ],
      "metadata": {
        "colab": {
          "base_uri": "https://localhost:8080/",
          "height": 665
        },
        "id": "iUEAXJlbGiE-",
        "outputId": "64ce3152-9813-4e1e-f70a-95bb0cbfa956"
      },
      "execution_count": null,
      "outputs": [
        {
          "output_type": "display_data",
          "data": {
            "text/plain": [
              "<Figure size 720x360 with 1 Axes>"
            ],
            "image/png": "[encoded data removed]"
          },
          "metadata": {
            "needs_background": "light"
          }
        },
        {
          "output_type": "display_data",
          "data": {
            "text/plain": [
              "<Figure size 720x360 with 1 Axes>"
            ],
            "image/png": "[encoded data removed]"
          },
          "metadata": {
            "needs_background": "light"
          }
        }
      ]
    },
    {
      "cell_type": "markdown",
      "source": [
        "# <B> Ridge regression </B> is a model tuning method that is used to analyse any data that suffers from multicollinearity. This method performs L2 regularization. When the issue of multicollinearity occurs, least-squares are unbiased, and variances are large, this results in predicted values being far away from the actual values. "
      ],
      "metadata": {
        "id": "s4xqMhJGHLxm"
      }
    },
    {
      "cell_type": "code",
      "source": [
        "from sklearn.linear_model import Ridge\n",
        "#Cross validation\n",
        "ridge = Ridge()\n",
        "parameters = {'alpha': [1e-15,1e-13,1e-10,1e-8,1e-5,1e-4,1e-3,1e-2,1e-1,1,5,10,20,30,40,45,50,55,60,100]}\n",
        "ridge_regressor = GridSearchCV(ridge, parameters, scoring='r2', cv=5)\n",
        "ridge_regressor.fit(X_train, y_train)"
      ],
      "metadata": {
        "colab": {
          "base_uri": "https://localhost:8080/"
        },
        "id": "f1HILorZHXJI",
        "outputId": "d010c75d-5b71-419f-b564-e374c38b1178"
      },
      "execution_count": null,
      "outputs": [
        {
          "output_type": "execute_result",
          "data": {
            "text/plain": [
              "GridSearchCV(cv=5, estimator=Ridge(),\n",
              "             param_grid={'alpha': [1e-15, 1e-13, 1e-10, 1e-08, 1e-05, 0.0001,\n",
              "                                   0.001, 0.01, 0.1, 1, 5, 10, 20, 30, 40, 45,\n",
              "                                   50, 55, 60, 100]},\n",
              "             scoring='r2')"
            ]
          },
          "metadata": {},
          "execution_count": 93
        }
      ]
    },
    {
      "cell_type": "code",
      "source": [
        "print('The best fit alpha value is :' ,ridge_regressor.best_params_)\n",
        "print('The R2 score using the same alpha is :', lasso_regressor.best_score_)"
      ],
      "metadata": {
        "colab": {
          "base_uri": "https://localhost:8080/"
        },
        "id": "vBs_NlqyHfPd",
        "outputId": "2b8d9046-042c-4bfa-b2a5-8bd0ca35e3b0"
      },
      "execution_count": null,
      "outputs": [
        {
          "output_type": "stream",
          "name": "stdout",
          "text": [
            "The best fit alpha value is : {'alpha': 100}\n",
            "The R2 score using the same alpha is : 0.3882472449561142\n"
          ]
        }
      ]
    },
    {
      "cell_type": "code",
      "source": [
        "print(f'Ridge Regressor best estimator is : {ridge_regressor.best_estimator_}')\n",
        "\n",
        "print(f'Ridge Regressor best score on X & Y train is : {ridge_regressor.score(X_train, y_train)}')\n",
        "\n",
        "y_pred_ridge_train=ridge_regressor.predict(X_train)\n",
        "print(f'Ridge Regressor train prediction is : {y_pred_ridge_train}')\n",
        "\n",
        "y_pred_ridge_test = ridge_regressor.predict(X_test)\n",
        "print(f'Ridge Regressor test prediction is : {y_pred_ridge_test}')"
      ],
      "metadata": {
        "colab": {
          "base_uri": "https://localhost:8080/"
        },
        "id": "06XF7VEPHjou",
        "outputId": "3ebd8c18-04bd-4b25-e369-4b9a5a038632"
      },
      "execution_count": null,
      "outputs": [
        {
          "output_type": "stream",
          "name": "stdout",
          "text": [
            "Ridge Regressor best estimator is : Ridge(alpha=100)\n",
            "Ridge Regressor best score on X & Y train is : 0.4076977475335445\n",
            "Ridge Regressor train prediction is : [-0.93662407 -0.84018576 -0.57563723 ... -0.63862015 -0.88354744\n",
            " -0.82048556]\n",
            "Ridge Regressor test prediction is : [-0.90455168 -0.15200022 -0.50882482 ... -0.78399927 -0.77193109\n",
            " -0.84574934]\n"
          ]
        }
      ]
    },
    {
      "cell_type": "code",
      "source": [
        "#Evaluating Ridge Regression\n",
        "ridge_train_mse  = mean_squared_error(y_train, y_pred_ridge_train)\n",
        "print(\"Train MSE :\" , ridge_train_mse)\n",
        "\n",
        "ridge_train_rmse = np.sqrt(ridge_train_mse)\n",
        "print(\"Train RMSE :\" ,ridge_train_rmse)\n",
        "\n",
        "ridge_train_r2 = r2_score(y_train, y_pred_ridge_train)\n",
        "print(\"Train R2 :\" ,ridge_train_r2)\n",
        "\n",
        "ridge_train_r2_= 1-(1-r2_score(y_train, y_pred_ridge_train))*((X_train.shape[0]-1)/(X_train.shape[0]-X_train.shape[1]-1))\n",
        "print(\"Train Adjusted R2 : \", ridge_train_r2)"
      ],
      "metadata": {
        "colab": {
          "base_uri": "https://localhost:8080/"
        },
        "id": "0zem4YP9H2wY",
        "outputId": "00e90bc1-dfea-4357-e125-ef0f52a9db7e"
      },
      "execution_count": null,
      "outputs": [
        {
          "output_type": "stream",
          "name": "stdout",
          "text": [
            "Train MSE : 0.07150874567081436\n",
            "Train RMSE : 0.2674111921195789\n",
            "Train R2 : 0.4076977475335445\n",
            "Train Adjusted R2 :  0.4076977475335445\n"
          ]
        }
      ]
    },
    {
      "cell_type": "code",
      "source": [
        "ridge_test_mse  = mean_squared_error(y_test, y_pred_ridge_test)\n",
        "print(\"Test MSE :\" , ridge_test_mse)\n",
        "\n",
        "ridge_test_rmse = np.sqrt(ridge_test_mse)\n",
        "print(\"Test RMSE :\" ,ridge_test_rmse)\n",
        "\n",
        "ridge_test_r2 = r2_score(y_test, y_pred_ridge_test)\n",
        "print(\"Test R2 :\" ,ridge_test_r2)\n",
        "\n",
        "ridge_test_r2_= 1-(1-r2_score(y_test, y_pred_ridge_test))*((X_test.shape[0]-1)/(X_test.shape[0]-X_test.shape[1]-1))\n",
        "print(\"Test Adjusted R2 : \", ridge_test_r2_)"
      ],
      "metadata": {
        "colab": {
          "base_uri": "https://localhost:8080/"
        },
        "id": "3dW3rQ1WIDHD",
        "outputId": "3691fb80-7b22-4cd8-a673-979276eecf88"
      },
      "execution_count": null,
      "outputs": [
        {
          "output_type": "stream",
          "name": "stdout",
          "text": [
            "Test MSE : 0.0946618350686294\n",
            "Test RMSE : 0.30767163513822554\n",
            "Test R2 : 0.21148820369923982\n",
            "Test Adjusted R2 :  0.21145036127430228\n"
          ]
        }
      ]
    },
    {
      "cell_type": "code",
      "source": [
        "#Actual vs Prediction\n",
        "plt.figure(figsize= (10,5))\n",
        "c= [i for i in range(0, len(y_test))]\n",
        "plt.plot(c, y_test, color='blue', linewidth=2.5, linestyle='-')\n",
        "plt.plot(c, y_pred_ridge_test, color='red', linewidth=2.5, linestyle='-')\n",
        "plt.title('Actual vs Predicted for Test Data', fontsize=20)\n",
        "plt.legend([\"Actual\", \"Predicted\"])\n",
        "plt.show()\n",
        "\n",
        "plt.figure(figsize= (10,5))\n",
        "c= [i for i in range(0, len(y_test))]\n",
        "plt.plot(c, y_test-y_pred_ridge_test, color='blue', linewidth=2.5, linestyle='-')\n",
        "plt.title('Error Term', fontsize=20)\n",
        "plt.show()"
      ],
      "metadata": {
        "colab": {
          "base_uri": "https://localhost:8080/",
          "height": 665
        },
        "id": "sFBq6_YHIGhl",
        "outputId": "b44bc825-f364-4d25-eea2-3bdc53963e2a"
      },
      "execution_count": null,
      "outputs": [
        {
          "output_type": "display_data",
          "data": {
            "text/plain": [
              "<Figure size 720x360 with 1 Axes>"
            ],
            "image/png": "[encoded data removed]"
          },
          "metadata": {
            "needs_background": "light"
          }
        },
        {
          "output_type": "display_data",
          "data": {
            "text/plain": [
              "<Figure size 720x360 with 1 Axes>"
            ],
            "image/png": "[encoded data removed]"
          },
          "metadata": {
            "needs_background": "light"
          }
        }
      ]
    },
    {
      "cell_type": "markdown",
      "source": [
        "# <B> Decision Tree Regressor </B> is one of the most commonly used, practical approaches for supervised learning. It can be used to solve both Regression and Classification tasks."
      ],
      "metadata": {
        "id": "quagD_YNIayH"
      }
    },
    {
      "cell_type": "code",
      "source": [
        "from sklearn.tree import DecisionTreeRegressor"
      ],
      "metadata": {
        "id": "5oz4zc_SIi3P"
      },
      "execution_count": null,
      "outputs": []
    },
    {
      "cell_type": "code",
      "source": [
        "# Maximum depth of trees\n",
        "max_depth = [4,6,8,10]\n",
        " \n",
        "# Minimum number of samples required to split a node\n",
        "min_samples_split = [10,20,30]\n",
        " \n",
        "# Minimum number of samples required at each leaf node\n",
        "min_samples_leaf = [8,16,22]\n",
        " \n",
        "# Hyperparameter Grid\n",
        "param_dict_dt = {\n",
        "              'max_depth' : max_depth,\n",
        "              'min_samples_split' : min_samples_split,\n",
        "              'min_samples_leaf' : min_samples_leaf}\n",
        "print(f' The Hyperparameter grid is {param_dict_dt}')\n",
        "\n",
        "#the cache variables contains the best parameters for the Decision Tree that we already tested before to save time when running again\n",
        "cache = {\n",
        "              'max_depth' : [10],\n",
        "              'min_samples_split' : [10],\n",
        "              'min_samples_leaf' : [22]}\n",
        "print(f'The Cavhe variable for best parameter of DTR is {cache}')"
      ],
      "metadata": {
        "colab": {
          "base_uri": "https://localhost:8080/"
        },
        "id": "c83O2CjHIqFY",
        "outputId": "e39e0785-b63e-48bf-ff6e-546c8802b7c9"
      },
      "execution_count": null,
      "outputs": [
        {
          "output_type": "stream",
          "name": "stdout",
          "text": [
            " The Hyperparameter grid is {'max_depth': [4, 6, 8, 10], 'min_samples_split': [10, 20, 30], 'min_samples_leaf': [8, 16, 22]}\n",
            "The Cavhe variable for best parameter of DTR is {'max_depth': [10], 'min_samples_split': [10], 'min_samples_leaf': [22]}\n"
          ]
        }
      ]
    },
    {
      "cell_type": "code",
      "source": [
        "dt = DecisionTreeRegressor()\n",
        "\n",
        "# Grid search\n",
        "dt_grid = GridSearchCV(estimator=dt,\n",
        "                       param_grid = cache,\n",
        "                       cv = 5, verbose=2, scoring='r2')\n",
        "\n",
        "dt_grid.fit(X_train,y_train)"
      ],
      "metadata": {
        "colab": {
          "base_uri": "https://localhost:8080/"
        },
        "id": "TXl_dFEoJYlu",
        "outputId": "e83e19eb-cf5f-4e1e-92f1-75190aad28b6"
      },
      "execution_count": null,
      "outputs": [
        {
          "output_type": "stream",
          "name": "stdout",
          "text": [
            "Fitting 5 folds for each of 1 candidates, totalling 5 fits\n",
            "[CV] END max_depth=10, min_samples_leaf=22, min_samples_split=10; total time=  11.2s\n",
            "[CV] END max_depth=10, min_samples_leaf=22, min_samples_split=10; total time=  11.2s\n",
            "[CV] END max_depth=10, min_samples_leaf=22, min_samples_split=10; total time=  11.3s\n",
            "[CV] END max_depth=10, min_samples_leaf=22, min_samples_split=10; total time=  11.4s\n",
            "[CV] END max_depth=10, min_samples_leaf=22, min_samples_split=10; total time=  11.5s\n"
          ]
        },
        {
          "output_type": "execute_result",
          "data": {
            "text/plain": [
              "GridSearchCV(cv=5, estimator=DecisionTreeRegressor(),\n",
              "             param_grid={'max_depth': [10], 'min_samples_leaf': [22],\n",
              "                         'min_samples_split': [10]},\n",
              "             scoring='r2', verbose=2)"
            ]
          },
          "metadata": {},
          "execution_count": 101
        }
      ]
    },
    {
      "cell_type": "code",
      "source": [
        "print(f' The DTR grid best score is {dt_grid.best_score_}')\n",
        "print(f' The DTR grid best estimator is {dt_grid.best_estimator_}')\n",
        "\n",
        "y_pred_dt_train=dt_grid.predict(X_train)\n",
        "print(f' The DTR train prediction is {y_pred_dt_train}')\n",
        "\n",
        "y_pred_dt_test=dt_grid.predict(X_test)\n",
        "print(f' The DTR test prediction is {y_pred_dt_test}')"
      ],
      "metadata": {
        "colab": {
          "base_uri": "https://localhost:8080/"
        },
        "id": "I9BYx_fyJegJ",
        "outputId": "a55bc899-82a6-4e62-bc52-7c177228406f"
      },
      "execution_count": null,
      "outputs": [
        {
          "output_type": "stream",
          "name": "stdout",
          "text": [
            " The DTR grid best score is 0.9999401269283922\n",
            " The DTR grid best estimator is DecisionTreeRegressor(max_depth=10, min_samples_leaf=22, min_samples_split=10)\n",
            " The DTR train prediction is [-1.67282285 -1.05661542 -0.4499485  ... -0.55804132 -0.64168999\n",
            " -0.96859154]\n",
            " The DTR test prediction is [-1.50322406 -0.24584485 -0.29744392 ... -0.82230321 -0.57132245\n",
            " -0.77204189]\n"
          ]
        }
      ]
    },
    {
      "cell_type": "code",
      "source": [
        "dt_train_mse  = mean_squared_error(y_train, y_pred_dt_train)\n",
        "print(\"Train MSE :\" , dt_train_mse)\n",
        "\n",
        "dt_train_rmse = np.sqrt(dt_train_mse)\n",
        "print(\"Train RMSE :\" ,dt_train_rmse)\n",
        "\n",
        "dt_train_r2 = r2_score(y_train, y_pred_dt_train)\n",
        "print(\"Train R2 :\" ,dt_train_r2)\n",
        "\n",
        "dt_train_r2_= 1-(1-r2_score(y_train, y_pred_dt_train))*((X_train.shape[0]-1)/(X_train.shape[0]-X_train.shape[1]-1))\n",
        "print(\"Train Adjusted R2 : \", dt_train_r2_)"
      ],
      "metadata": {
        "colab": {
          "base_uri": "https://localhost:8080/"
        },
        "id": "ia0KwY5XLUYf",
        "outputId": "b866eb45-3640-4b26-e0af-affcc0151931"
      },
      "execution_count": null,
      "outputs": [
        {
          "output_type": "stream",
          "name": "stdout",
          "text": [
            "Train MSE : 5.24770694950388e-06\n",
            "Train RMSE : 0.002290787408186076\n",
            "Train R2 : 0.9999565335873631\n",
            "Train Adjusted R2 :  0.9999565330658705\n"
          ]
        }
      ]
    },
    {
      "cell_type": "code",
      "source": [
        "dt_test_mse  = mean_squared_error(y_test, y_pred_dt_test)\n",
        "print(\"Test MSE :\" , dt_test_mse)\n",
        "dt_test_rmse = np.sqrt(dt_test_mse)\n",
        "print(\"Test RMSE :\" ,dt_test_rmse)\n",
        "\n",
        "dt_test_r2 = r2_score(y_test, y_pred_dt_test)\n",
        "print(\"Test R2 :\" ,dt_test_r2)\n",
        "\n",
        "dt_test_r2_= 1-(1-r2_score(y_test, y_pred_dt_test))*((X_test.shape[0]-1)/(X_test.shape[0]-X_test.shape[1]-1))\n",
        "print(\"Test Adjusted R2 : \", dt_test_r2_)"
      ],
      "metadata": {
        "colab": {
          "base_uri": "https://localhost:8080/"
        },
        "id": "WxBq6USRLWA9",
        "outputId": "43eba72f-d150-49c5-c814-6e66e23a7ed8"
      },
      "execution_count": null,
      "outputs": [
        {
          "output_type": "stream",
          "name": "stdout",
          "text": [
            "Test MSE : 8.734121055849965e-06\n",
            "Test RMSE : 0.00295535464129941\n",
            "Test R2 : 0.9999272467359431\n",
            "Test Adjusted R2 :  0.9999272432443531\n"
          ]
        }
      ]
    },
    {
      "cell_type": "code",
      "source": [
        "#Actual vs Prediction\n",
        "plt.figure(figsize= (10,5))\n",
        "c= [i for i in range(0, len(y_test))]\n",
        "plt.plot(c, y_test, color='blue', linewidth=2.5, linestyle='-')\n",
        "plt.plot(c, y_pred_dt_test, color='red', linewidth=2.5, linestyle='-')\n",
        "plt.title('Actual vs Predicted for Test Data', fontsize=20)\n",
        "plt.legend([\"Actual\", \"Predicted\"])\n",
        "plt.show()\n",
        "\n",
        "plt.figure(figsize= (10,5))\n",
        "c= [i for i in range(0, len(y_test))]\n",
        "plt.plot(c, y_test-y_pred_dt_test, color='blue', linewidth=2.5, linestyle='-')\n",
        "plt.title('Error Term', fontsize=20)\n",
        "plt.show()"
      ],
      "metadata": {
        "colab": {
          "base_uri": "https://localhost:8080/",
          "height": 665
        },
        "id": "WAjoHGgYLbIs",
        "outputId": "b53a2b2c-6109-48e9-8a49-b354c3940db8"
      },
      "execution_count": null,
      "outputs": [
        {
          "output_type": "display_data",
          "data": {
            "text/plain": [
              "<Figure size 720x360 with 1 Axes>"
            ],
            "image/png": "[encoded data removed]"
          },
          "metadata": {
            "needs_background": "light"
          }
        },
        {
          "output_type": "display_data",
          "data": {
            "text/plain": [
              "<Figure size 720x360 with 1 Axes>"
            ],
            "image/png": "[encoded data removed]"
          },
          "metadata": {
            "needs_background": "light"
          }
        }
      ]
    },
    {
      "cell_type": "markdown",
      "source": [
        "# <B> EVALUATING ALL MOEDL </B>"
      ],
      "metadata": {
        "id": "LpqOfTZfYfaj"
      }
    },
    {
      "cell_type": "code",
      "source": [
        "# Model summary of Train data of different model\n",
        "models= ['Linear Regression', 'Lasso Regression', 'Ridge Regression','DecisionTree Regressor']\n",
        "train_mse= [lr_train_mse, lasso_train_mse, ridge_train_mse, dt_train_mse]\n",
        "print(f'Mean Square error Train of all model : {train_mse}')\n",
        "\n",
        "train_rmse= [lr_train_rmse, lasso_train_rmse, ridge_train_rmse, dt_train_rmse]\n",
        "print(f'Root MSE train of all model : {train_rmse}')\n",
        "\n",
        "train_r2= [lr_train_r2, lasso_train_r2, ridge_train_r2, dt_train_r2]\n",
        "print(f'r2 train of all model : {train_r2}')\n",
        "\n",
        "train_adjusted_r2= [lr_train_r2_, lasso_train_r2_, ridge_train_r2, dt_train_r2]\n",
        "print(f'r2 adjusted tarin of all model : {train_adjusted_r2}')"
      ],
      "metadata": {
        "colab": {
          "base_uri": "https://localhost:8080/"
        },
        "id": "6TdCEYHDYv87",
        "outputId": "fd88f033-05e8-4727-d94e-f858c021910b"
      },
      "execution_count": null,
      "outputs": [
        {
          "output_type": "stream",
          "name": "stdout",
          "text": [
            "Mean Square error Train of all model : [0.07151409895498129, 0.07153968599702737, 0.07150874567081436, 5.24770694950388e-06]\n",
            "Root MSE train of all model : [0.26742120139394576, 0.2674690374548564, 0.2674111921195789, 0.002290787408186076]\n",
            "r2 train of all model : [0.407653406631737, 0.40744147083988835, 0.4076977475335445, 0.9999565335873631]\n",
            "r2 adjusted tarin of all model : [0.40764629989396406, 0.4074343615593945, 0.4076977475335445, 0.9999565335873631]\n"
          ]
        }
      ]
    },
    {
      "cell_type": "code",
      "source": [
        "# Model summary of Test data of different model\n",
        "models= ['Linear Regression', 'Lasso Regression', 'Ridge Regression','DecisionTree Regressor']\n",
        "test_mse= [lr_test_mse, lasso_test_mse, ridge_test_mse, dt_test_mse]\n",
        "print(f'Mean Square error Test of all model : {test_mse}')\n",
        "\n",
        "test_rmse= [lr_test_rmse, lasso_test_rmse, ridge_test_rmse, dt_test_rmse]\n",
        "print(f'Root MSE test of all model : {test_rmse}')\n",
        "\n",
        "test_r2= [lr_test_r2, lasso_test_r2, ridge_test_r2, dt_test_r2]\n",
        "print(f'r2 test of all model : {test_r2}')\n",
        "\n",
        "test_adjusted_r2= [lr_test_r2_, lasso_test_r2_, ridge_test_r2_, dt_train_r2]\n",
        "print(f'r2 adjusted test of all model : {test_adjusted_r2}')"
      ],
      "metadata": {
        "colab": {
          "base_uri": "https://localhost:8080/"
        },
        "id": "hiK1wIydaMMt",
        "outputId": "1ac66aca-d107-4a58-9440-e8aa275e9c05"
      },
      "execution_count": null,
      "outputs": [
        {
          "output_type": "stream",
          "name": "stdout",
          "text": [
            "Mean Square error Test of all model : [0.09468986206466719, 0.09397249605563705, 0.0946618350686294, 8.734121055849965e-06]\n",
            "Root MSE test of all model : [0.3077171786960669, 0.3065493370660538, 0.30767163513822554, 0.00295535464129941]\n",
            "r2 test of all model : [0.21125474512562714, 0.217230242642397, 0.21148820369923982, 0.9999272467359431]\n",
            "r2 adjusted test of all model : [0.21121689149649636, 0.2171926757906072, 0.21145036127430228, 0.9999565335873631]\n"
          ]
        }
      ]
    },
    {
      "cell_type": "code",
      "source": [
        "Train_data_df=pd.DataFrame({'Model Name': models, 'Train MSE': train_mse, 'Train RMSE': train_rmse, 'Train R^2': train_r2, \n",
        "                            'Train Adjusted R^2': train_adjusted_r2})\n",
        "Train_data_df"
      ],
      "metadata": {
        "colab": {
          "base_uri": "https://localhost:8080/",
          "height": 175
        },
        "id": "Lw_i7pvNbbDR",
        "outputId": "d9bdd02a-1ba8-453b-e9c2-3a5bde2149be"
      },
      "execution_count": null,
      "outputs": [
        {
          "output_type": "execute_result",
          "data": {
            "text/plain": [
              "               Model Name  Train MSE  Train RMSE  Train R^2  \\\n",
              "0       Linear Regression   0.071514    0.267421   0.407653   \n",
              "1        Lasso Regression   0.071540    0.267469   0.407441   \n",
              "2        Ridge Regression   0.071509    0.267411   0.407698   \n",
              "3  DecisionTree Regressor   0.000005    0.002291   0.999957   \n",
              "\n",
              "   Train Adjusted R^2  \n",
              "0            0.407646  \n",
              "1            0.407434  \n",
              "2            0.407698  \n",
              "3            0.999957  "
            ],
            "text/html": [
              "\n",
              "  <div id=\"df-9e21f728-cd9a-47fc-a2c1-88d5e414bd13\">\n",
              "    <div class=\"colab-df-container\">\n",
              "      <div>\n",
              "<style scoped>\n",
              "    .dataframe tbody tr th:only-of-type {\n",
              "        vertical-align: middle;\n",
              "    }\n",
              "\n",
              "    .dataframe tbody tr th {\n",
              "        vertical-align: top;\n",
              "    }\n",
              "\n",
              "    .dataframe thead th {\n",
              "        text-align: right;\n",
              "    }\n",
              "</style>\n",
              "<table border=\"1\" class=\"dataframe\">\n",
              "  <thead>\n",
              "    <tr style=\"text-align: right;\">\n",
              "      <th></th>\n",
              "      <th>Model Name</th>\n",
              "      <th>Train MSE</th>\n",
              "      <th>Train RMSE</th>\n",
              "      <th>Train R^2</th>\n",
              "      <th>Train Adjusted R^2</th>\n",
              "    </tr>\n",
              "  </thead>\n",
              "  <tbody>\n",
              "    <tr>\n",
              "      <th>0</th>\n",
              "      <td>Linear Regression</td>\n",
              "      <td>0.071514</td>\n",
              "      <td>0.267421</td>\n",
              "      <td>0.407653</td>\n",
              "      <td>0.407646</td>\n",
              "    </tr>\n",
              "    <tr>\n",
              "      <th>1</th>\n",
              "      <td>Lasso Regression</td>\n",
              "      <td>0.071540</td>\n",
              "      <td>0.267469</td>\n",
              "      <td>0.407441</td>\n",
              "      <td>0.407434</td>\n",
              "    </tr>\n",
              "    <tr>\n",
              "      <th>2</th>\n",
              "      <td>Ridge Regression</td>\n",
              "      <td>0.071509</td>\n",
              "      <td>0.267411</td>\n",
              "      <td>0.407698</td>\n",
              "      <td>0.407698</td>\n",
              "    </tr>\n",
              "    <tr>\n",
              "      <th>3</th>\n",
              "      <td>DecisionTree Regressor</td>\n",
              "      <td>0.000005</td>\n",
              "      <td>0.002291</td>\n",
              "      <td>0.999957</td>\n",
              "      <td>0.999957</td>\n",
              "    </tr>\n",
              "  </tbody>\n",
              "</table>\n",
              "</div>\n",
              "      <button class=\"colab-df-convert\" onclick=\"convertToInteractive('df-9e21f728-cd9a-47fc-a2c1-88d5e414bd13')\"\n",
              "              title=\"Convert this dataframe to an interactive table.\"\n",
              "              style=\"display:none;\">\n",
              "        \n",
              "  <svg xmlns=\"http://www.w3.org/2000/svg\" height=\"24px\"viewBox=\"0 0 24 24\"\n",
              "       width=\"24px\">\n",
              "    <path d=\"M0 0h24v24H0V0z\" fill=\"none\"/>\n",
              "    <path d=\"M18.56 5.44l.94 2.06.94-2.06 2.06-.94-2.06-.94-.94-2.06-.94 2.06-2.06.94zm-11 1L8.5 8.5l.94-2.06 2.06-.94-2.06-.94L8.5 2.5l-.94 2.06-2.06.94zm10 10l.94 2.06.94-2.06 2.06-.94-2.06-.94-.94-2.06-.94 2.06-2.06.94z\"/><path d=\"M17.41 7.96l-1.37-1.37c-.4-.4-.92-.59-1.43-.59-.52 0-1.04.2-1.43.59L10.3 9.45l-7.72 7.72c-.78.78-.78 2.05 0 2.83L4 21.41c.39.39.9.59 1.41.59.51 0 1.02-.2 1.41-.59l7.78-7.78 2.81-2.81c.8-.78.8-2.07 0-2.86zM5.41 20L4 18.59l7.72-7.72 1.47 1.35L5.41 20z\"/>\n",
              "  </svg>\n",
              "      </button>\n",
              "      \n",
              "  <style>\n",
              "    .colab-df-container {\n",
              "      display:flex;\n",
              "      flex-wrap:wrap;\n",
              "      gap: 12px;\n",
              "    }\n",
              "\n",
              "    .colab-df-convert {\n",
              "      background-color: #E8F0FE;\n",
              "      border: none;\n",
              "      border-radius: 50%;\n",
              "      cursor: pointer;\n",
              "      display: none;\n",
              "      fill: #1967D2;\n",
              "      height: 32px;\n",
              "      padding: 0 0 0 0;\n",
              "      width: 32px;\n",
              "    }\n",
              "\n",
              "    .colab-df-convert:hover {\n",
              "      background-color: #E2EBFA;\n",
              "      box-shadow: 0px 1px 2px rgba(60, 64, 67, 0.3), 0px 1px 3px 1px rgba(60, 64, 67, 0.15);\n",
              "      fill: #174EA6;\n",
              "    }\n",
              "\n",
              "    [theme=dark] .colab-df-convert {\n",
              "      background-color: #3B4455;\n",
              "      fill: #D2E3FC;\n",
              "    }\n",
              "\n",
              "    [theme=dark] .colab-df-convert:hover {\n",
              "      background-color: #434B5C;\n",
              "      box-shadow: 0px 1px 3px 1px rgba(0, 0, 0, 0.15);\n",
              "      filter: drop-shadow(0px 1px 2px rgba(0, 0, 0, 0.3));\n",
              "      fill: #FFFFFF;\n",
              "    }\n",
              "  </style>\n",
              "\n",
              "      <script>\n",
              "        const buttonEl =\n",
              "          document.querySelector('#df-9e21f728-cd9a-47fc-a2c1-88d5e414bd13 button.colab-df-convert');\n",
              "        buttonEl.style.display =\n",
              "          google.colab.kernel.accessAllowed ? 'block' : 'none';\n",
              "\n",
              "        async function convertToInteractive(key) {\n",
              "          const element = document.querySelector('#df-9e21f728-cd9a-47fc-a2c1-88d5e414bd13');\n",
              "          const dataTable =\n",
              "            await google.colab.kernel.invokeFunction('convertToInteractive',\n",
              "                                                     [key], {});\n",
              "          if (!dataTable) return;\n",
              "\n",
              "          const docLinkHtml = 'Like what you see? Visit the ' +\n",
              "            '<a target=\"_blank\" href=https://colab.research.google.com/notebooks/data_table.ipynb>data table notebook</a>'\n",
              "            + ' to learn more about interactive tables.';\n",
              "          element.innerHTML = '';\n",
              "          dataTable['output_type'] = 'display_data';\n",
              "          await google.colab.output.renderOutput(dataTable, element);\n",
              "          const docLink = document.createElement('div');\n",
              "          docLink.innerHTML = docLinkHtml;\n",
              "          element.appendChild(docLink);\n",
              "        }\n",
              "      </script>\n",
              "    </div>\n",
              "  </div>\n",
              "  "
            ]
          },
          "metadata": {},
          "execution_count": 108
        }
      ]
    },
    {
      "cell_type": "code",
      "source": [
        "Test_data_df= pd.DataFrame({'Model Name': models, 'Test MSE': test_mse, 'Test RMSE': test_rmse, 'Test R^2': test_r2, \n",
        "                            'Test Adjusted R^2': test_adjusted_r2})\n",
        "Test_data_df"
      ],
      "metadata": {
        "colab": {
          "base_uri": "https://localhost:8080/",
          "height": 175
        },
        "id": "cvSWQHNmcbAH",
        "outputId": "aa0276ab-993c-4031-d3ca-046e0e508935"
      },
      "execution_count": null,
      "outputs": [
        {
          "output_type": "execute_result",
          "data": {
            "text/plain": [
              "               Model Name  Test MSE  Test RMSE  Test R^2  Test Adjusted R^2\n",
              "0       Linear Regression  0.094690   0.307717  0.211255           0.211217\n",
              "1        Lasso Regression  0.093972   0.306549  0.217230           0.217193\n",
              "2        Ridge Regression  0.094662   0.307672  0.211488           0.211450\n",
              "3  DecisionTree Regressor  0.000009   0.002955  0.999927           0.999957"
            ],
            "text/html": [
              "\n",
              "  <div id=\"df-df55e877-4aef-430b-9fcb-cf7e10f89188\">\n",
              "    <div class=\"colab-df-container\">\n",
              "      <div>\n",
              "<style scoped>\n",
              "    .dataframe tbody tr th:only-of-type {\n",
              "        vertical-align: middle;\n",
              "    }\n",
              "\n",
              "    .dataframe tbody tr th {\n",
              "        vertical-align: top;\n",
              "    }\n",
              "\n",
              "    .dataframe thead th {\n",
              "        text-align: right;\n",
              "    }\n",
              "</style>\n",
              "<table border=\"1\" class=\"dataframe\">\n",
              "  <thead>\n",
              "    <tr style=\"text-align: right;\">\n",
              "      <th></th>\n",
              "      <th>Model Name</th>\n",
              "      <th>Test MSE</th>\n",
              "      <th>Test RMSE</th>\n",
              "      <th>Test R^2</th>\n",
              "      <th>Test Adjusted R^2</th>\n",
              "    </tr>\n",
              "  </thead>\n",
              "  <tbody>\n",
              "    <tr>\n",
              "      <th>0</th>\n",
              "      <td>Linear Regression</td>\n",
              "      <td>0.094690</td>\n",
              "      <td>0.307717</td>\n",
              "      <td>0.211255</td>\n",
              "      <td>0.211217</td>\n",
              "    </tr>\n",
              "    <tr>\n",
              "      <th>1</th>\n",
              "      <td>Lasso Regression</td>\n",
              "      <td>0.093972</td>\n",
              "      <td>0.306549</td>\n",
              "      <td>0.217230</td>\n",
              "      <td>0.217193</td>\n",
              "    </tr>\n",
              "    <tr>\n",
              "      <th>2</th>\n",
              "      <td>Ridge Regression</td>\n",
              "      <td>0.094662</td>\n",
              "      <td>0.307672</td>\n",
              "      <td>0.211488</td>\n",
              "      <td>0.211450</td>\n",
              "    </tr>\n",
              "    <tr>\n",
              "      <th>3</th>\n",
              "      <td>DecisionTree Regressor</td>\n",
              "      <td>0.000009</td>\n",
              "      <td>0.002955</td>\n",
              "      <td>0.999927</td>\n",
              "      <td>0.999957</td>\n",
              "    </tr>\n",
              "  </tbody>\n",
              "</table>\n",
              "</div>\n",
              "      <button class=\"colab-df-convert\" onclick=\"convertToInteractive('df-df55e877-4aef-430b-9fcb-cf7e10f89188')\"\n",
              "              title=\"Convert this dataframe to an interactive table.\"\n",
              "              style=\"display:none;\">\n",
              "        \n",
              "  <svg xmlns=\"http://www.w3.org/2000/svg\" height=\"24px\"viewBox=\"0 0 24 24\"\n",
              "       width=\"24px\">\n",
              "    <path d=\"M0 0h24v24H0V0z\" fill=\"none\"/>\n",
              "    <path d=\"M18.56 5.44l.94 2.06.94-2.06 2.06-.94-2.06-.94-.94-2.06-.94 2.06-2.06.94zm-11 1L8.5 8.5l.94-2.06 2.06-.94-2.06-.94L8.5 2.5l-.94 2.06-2.06.94zm10 10l.94 2.06.94-2.06 2.06-.94-2.06-.94-.94-2.06-.94 2.06-2.06.94z\"/><path d=\"M17.41 7.96l-1.37-1.37c-.4-.4-.92-.59-1.43-.59-.52 0-1.04.2-1.43.59L10.3 9.45l-7.72 7.72c-.78.78-.78 2.05 0 2.83L4 21.41c.39.39.9.59 1.41.59.51 0 1.02-.2 1.41-.59l7.78-7.78 2.81-2.81c.8-.78.8-2.07 0-2.86zM5.41 20L4 18.59l7.72-7.72 1.47 1.35L5.41 20z\"/>\n",
              "  </svg>\n",
              "      </button>\n",
              "      \n",
              "  <style>\n",
              "    .colab-df-container {\n",
              "      display:flex;\n",
              "      flex-wrap:wrap;\n",
              "      gap: 12px;\n",
              "    }\n",
              "\n",
              "    .colab-df-convert {\n",
              "      background-color: #E8F0FE;\n",
              "      border: none;\n",
              "      border-radius: 50%;\n",
              "      cursor: pointer;\n",
              "      display: none;\n",
              "      fill: #1967D2;\n",
              "      height: 32px;\n",
              "      padding: 0 0 0 0;\n",
              "      width: 32px;\n",
              "    }\n",
              "\n",
              "    .colab-df-convert:hover {\n",
              "      background-color: #E2EBFA;\n",
              "      box-shadow: 0px 1px 2px rgba(60, 64, 67, 0.3), 0px 1px 3px 1px rgba(60, 64, 67, 0.15);\n",
              "      fill: #174EA6;\n",
              "    }\n",
              "\n",
              "    [theme=dark] .colab-df-convert {\n",
              "      background-color: #3B4455;\n",
              "      fill: #D2E3FC;\n",
              "    }\n",
              "\n",
              "    [theme=dark] .colab-df-convert:hover {\n",
              "      background-color: #434B5C;\n",
              "      box-shadow: 0px 1px 3px 1px rgba(0, 0, 0, 0.15);\n",
              "      filter: drop-shadow(0px 1px 2px rgba(0, 0, 0, 0.3));\n",
              "      fill: #FFFFFF;\n",
              "    }\n",
              "  </style>\n",
              "\n",
              "      <script>\n",
              "        const buttonEl =\n",
              "          document.querySelector('#df-df55e877-4aef-430b-9fcb-cf7e10f89188 button.colab-df-convert');\n",
              "        buttonEl.style.display =\n",
              "          google.colab.kernel.accessAllowed ? 'block' : 'none';\n",
              "\n",
              "        async function convertToInteractive(key) {\n",
              "          const element = document.querySelector('#df-df55e877-4aef-430b-9fcb-cf7e10f89188');\n",
              "          const dataTable =\n",
              "            await google.colab.kernel.invokeFunction('convertToInteractive',\n",
              "                                                     [key], {});\n",
              "          if (!dataTable) return;\n",
              "\n",
              "          const docLinkHtml = 'Like what you see? Visit the ' +\n",
              "            '<a target=\"_blank\" href=https://colab.research.google.com/notebooks/data_table.ipynb>data table notebook</a>'\n",
              "            + ' to learn more about interactive tables.';\n",
              "          element.innerHTML = '';\n",
              "          dataTable['output_type'] = 'display_data';\n",
              "          await google.colab.output.renderOutput(dataTable, element);\n",
              "          const docLink = document.createElement('div');\n",
              "          docLink.innerHTML = docLinkHtml;\n",
              "          element.appendChild(docLink);\n",
              "        }\n",
              "      </script>\n",
              "    </div>\n",
              "  </div>\n",
              "  "
            ]
          },
          "metadata": {},
          "execution_count": 109
        }
      ]
    },
    {
      "cell_type": "markdown",
      "source": [
        "# <B> <center> Conclusion </B>\n",
        "(A) MSE and RMSE which are the metrics used to evaluate the performance of <b> regression model of Decision Tree </B> is not varying much during traing and testing time. Also the R^2 is about same during training and Testing time.\n",
        "\n",
        "(B) The Linear models don't show good performance on our training and testing environment.\n",
        "\n",
        "(C) From above table we can conclude that <B>Decision Tree Regressor </B> is the best models as compare to the other models to predict the trip duration for a particular taxi."
      ],
      "metadata": {
        "id": "wdTDMD7jcpVF"
      }
    }
  ],
  "metadata": {
    "colab": {
      "collapsed_sections": [
        "Y06xIdG26kRF",
        "WWeU1f9bwqQq",
        "YM-F2N8kKsJu",
        "FK_VT2HQOGCr",
        "GFf8O6zyAUpz",
        "s-6kY27lwiFD",
        "5sdStd0gfpzC",
        "Oy6lM0LnurB_"
      ],
      "name": "Copy of NYC Taxi Trip Time Prediction - Capstone Project.ipynb",
      "provenance": [],
      "include_colab_link": true
    },
    "kernelspec": {
      "display_name": "Python 3",
      "language": "python",
      "name": "python3"
    },
    "language_info": {
      "codemirror_mode": {
        "name": "ipython",
        "version": 3
      },
      "file_extension": ".py",
      "mimetype": "text/x-python",
      "name": "python",
      "nbconvert_exporter": "python",
      "pygments_lexer": "ipython3",
      "version": "3.6.6"
    }
  },
  "nbformat": 4,
  "nbformat_minor": 0
}